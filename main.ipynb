{
 "cells": [
  {
   "cell_type": "code",
   "execution_count": 1,
   "metadata": {
    "_cell_guid": "b1076dfc-b9ad-4769-8c92-a6c4dae69d19",
    "_uuid": "8f2839f25d086af736a60e9eeb907d3b93b6e0e5"
   },
   "outputs": [],
   "source": [
    "from kaggle.api.kaggle_api_extended import KaggleApi\n",
    "import torch\n",
    "import torchvision\n",
    "import torch.nn.functional as F\n",
    "import torch.nn as nn\n",
    "import torchtoolbox.transform as transforms\n",
    "from torch.utils.data import Dataset, DataLoader, Subset\n",
    "from torch.optim.lr_scheduler import ReduceLROnPlateau\n",
    "from sklearn.metrics import accuracy_score, roc_auc_score\n",
    "from sklearn.model_selection import StratifiedKFold, GroupKFold\n",
    "import pandas as pd\n",
    "import numpy as np\n",
    "import gc\n",
    "import os\n",
    "import cv2\n",
    "import time\n",
    "import datetime\n",
    "import warnings\n",
    "import matplotlib.pyplot as plt\n",
    "import seaborn as sns\n",
    "from efficientnet_pytorch import EfficientNet\n",
    "%matplotlib inline"
   ]
  },
  {
   "cell_type": "markdown",
   "metadata": {
    "_cell_guid": "79c7e3d0-c299-4dcb-8224-4455121ee9b0",
    "_uuid": "d629ff2d2480ee46fbb7e2d37f6b5fab8052498a",
    "collapsed": true
   },
   "source": [
    "## config(kernel使うときに変更すべき変数)"
   ]
  },
  {
   "cell_type": "code",
   "execution_count": 2,
   "metadata": {},
   "outputs": [],
   "source": [
    "# config\n",
    "melanoma_external_malignant_256 = \"/home/tidal/ML_Data/SIIM-ISIC_Melanoma_Classification/melanoma_external_malignant_256/\"\n",
    "SIIM_ISIC_Melanoma_Classification = \"/home/tidal/ML_Data/SIIM-ISIC_Melanoma_Classification/SIIM-ISIC-Melanoma-Classification/\"\n",
    "Output = \"/home/tidal/ML_Data/SIIM-ISIC_Melanoma_Classification/Output/\"\n"
   ]
  },
  {
   "cell_type": "markdown",
   "metadata": {},
   "source": [
    "## データ加工部"
   ]
  },
  {
   "cell_type": "markdown",
   "metadata": {},
   "source": [
    "## 画像処理部"
   ]
  },
  {
   "cell_type": "markdown",
   "metadata": {},
   "source": [
    "__version__"
   ]
  },
  {
   "cell_type": "markdown",
   "metadata": {},
   "source": [
    "__ver1__<br>\n",
    "train_concat&メタデータ込み：CV:0.974, LB:????<br>\n",
    "__ver2__<br>\n",
    "256*256：CV:0.885, LB:0.890<br>\n",
    "__verSN:1__<br>\n",
    "metaval:resizeのみ<br>\n",
    "192_192：OOF: 0.869 Wall time:  1h 33min LB: 0.861<br>\n",
    "224_224：OOF: 0.883 Wall time:  2h 07min LB: 0.862<br>\n",
    "256_256：OOF: 0.875 Wall time:  2h 36min LB: 0.882<br>\n",
    "382_382：OOF: 0.869 Wall time:  5h 10min LB: 0.854<br>\n",
    "512_512：OOF: 0.848 Wall time: 10h 29min LB: 0.852<br>"
   ]
  },
  {
   "cell_type": "code",
   "execution_count": 3,
   "metadata": {},
   "outputs": [],
   "source": [
    "# At least fixing some random seeds. \n",
    "# It is still impossible to make results 100% reproducible when using GPU\n",
    "warnings.simplefilter('ignore')\n",
    "torch.manual_seed(47)\n",
    "np.random.seed(47)"
   ]
  },
  {
   "cell_type": "code",
   "execution_count": 4,
   "metadata": {},
   "outputs": [],
   "source": [
    "device = torch.device(\"cuda\" if torch.cuda.is_available() else \"cpu\")"
   ]
  },
  {
   "cell_type": "code",
   "execution_count": 5,
   "metadata": {},
   "outputs": [],
   "source": [
    "class MelanomaDataset(Dataset):\n",
    "    def __init__(self, df: pd.DataFrame, imfolder: str, train: bool = True, transforms = None):\n",
    "        \"\"\"\n",
    "        Class initialization\n",
    "        Args:\n",
    "            df (pd.DataFrame): DataFrame with data description→学習に使わない\n",
    "            imfolder (str): folder with images\n",
    "            train (bool): flag of whether a training dataset is being initialized or testing one\n",
    "            transforms: image transformation method to be applied\n",
    "            meta_features (list): list of features with meta information, such as sex and age\n",
    "            \n",
    "        \"\"\"\n",
    "        self.df = df\n",
    "        self.imfolder = imfolder\n",
    "        self.transforms = transforms\n",
    "        self.train = train\n",
    "        #self.meta_features = meta_features\n",
    "        \n",
    "    def __getitem__(self, index):\n",
    "        im_path = os.path.join(self.imfolder, self.df.iloc[index]['image_name'] + '.jpg')\n",
    "        x = cv2.imread(im_path)\n",
    "        #meta = np.array(self.df.iloc[index][self.meta_features].values, dtype=np.float32)\n",
    "\n",
    "        if self.transforms:\n",
    "            #X_data_np = np.array(x)\n",
    "            #print(\"transfor前\")\n",
    "            #print(X_data_np.shape)\n",
    "            #y_data_np = np.array(y)\n",
    "            x = self.transforms(x)\n",
    "            \n",
    "        if self.train:\n",
    "            y = self.df.loc[index]['target']\n",
    "            #return (x, meta), y\n",
    "            #print(y)\n",
    "            #X_data_np = np.array(x)\n",
    "            #print(\"transform後\")\n",
    "            #print(X_data_np.shape)\n",
    "            #y_data_np = np.array(y)\n",
    "            #print(y_data_np.shape)\n",
    "            return x, y\n",
    "        else:\n",
    "            #return (x, meta), y\n",
    "            return x\n",
    "    \n",
    "    def __len__(self):\n",
    "        return len(self.df)\n",
    "    \n",
    "    \n",
    "class Net(nn.Module):\n",
    "    def __init__(self, arch):\n",
    "        super(Net, self).__init__()\n",
    "        self.arch = arch\n",
    "        if 'ResNet' in str(arch.__class__):\n",
    "            self.arch.fc = nn.Linear(in_features=512, out_features=500, bias=True)\n",
    "        if 'EfficientNet' in str(arch.__class__):\n",
    "            self.arch._fc = nn.Linear(in_features=1280, out_features=500, bias=True)\n",
    "        #self.meta = nn.Sequential(nn.Linear(500),\n",
    "        #                          nn.BatchNorm1d(500),\n",
    "        #                          nn.ReLU(),\n",
    "        #                          nn.Dropout(p=0.2),\n",
    "        #                          nn.Linear(500, 250),  # FC layer output will have 50 features\n",
    "        #                          nn.BatchNorm1d(250),\n",
    "        #                          nn.ReLU(),\n",
    "        #                          nn.Dropout(p=0.2))\n",
    "        self.ouput = nn.Linear(500, 1)\n",
    "        \n",
    "    def forward(self, inputs):\n",
    "        \"\"\"\n",
    "        No sigmoid in forward because we are going to use BCEWithLogitsLoss\n",
    "        Which applies sigmoid for us when calculating a loss\n",
    "        \"\"\"\n",
    "        cnn_features = self.arch(inputs)\n",
    "        output = self.ouput(cnn_features)\n",
    "        return output"
   ]
  },
  {
   "cell_type": "code",
   "execution_count": 6,
   "metadata": {},
   "outputs": [],
   "source": [
    "train_transform = transforms.Compose([\n",
    "    #transforms.RandomResizedCrop(size=224, scale=(0.7, 1.0)),\n",
    "    transforms.RandomHorizontalFlip(),\n",
    "    transforms.RandomVerticalFlip(),\n",
    "    transforms.ColorJitter(brightness=32. / 255.,saturation=0.5),\n",
    "    transforms.Cutout(scale=(0.05, 0.007), value=(0, 0)),\n",
    "    transforms.ToTensor(),\n",
    "    transforms.Normalize(mean=[0.485, 0.456, 0.406],std=[0.229, 0.224, 0.225])\n",
    "])\n",
    "test_transform = transforms.Compose([\n",
    "    #transforms.RandomResizedCrop(size=224, scale=(0.7, 1.0)),\n",
    "    transforms.RandomHorizontalFlip(),\n",
    "    transforms.RandomVerticalFlip(),\n",
    "    transforms.ColorJitter(brightness=32. / 255.,saturation=0.5),\n",
    "    transforms.Cutout(scale=(0.05, 0.007), value=(0, 0)),\n",
    "    transforms.ToTensor(),\n",
    "    transforms.Normalize(mean=[0.485, 0.456, 0.406],std=[0.229, 0.224, 0.225])\n",
    "])"
   ]
  },
  {
   "cell_type": "code",
   "execution_count": 7,
   "metadata": {},
   "outputs": [
    {
     "name": "stdout",
     "output_type": "stream",
     "text": [
      "Loaded pretrained weights for efficientnet-b1\n"
     ]
    }
   ],
   "source": [
    "arch = EfficientNet.from_pretrained('efficientnet-b1')  # Going to use efficientnet-b0 NN architecture\n",
    "# skf = StratifiedKFold(n_splits=3, random_state=999, shuffle=True)\n",
    "skf = GroupKFold(n_splits=5)"
   ]
  },
  {
   "cell_type": "code",
   "execution_count": 8,
   "metadata": {},
   "outputs": [],
   "source": [
    "def Exec(epochs, model_path, es_patience, TTA, bat_size):\n",
    "    train_df = pd.read_csv(SIIM_ISIC_Melanoma_Classification + 'train.csv')\n",
    "    test_df = pd.read_csv(SIIM_ISIC_Melanoma_Classification + 'test.csv')\n",
    "    metaval_df = pd.read_csv(SIIM_ISIC_Melanoma_Classification + 'metaval.csv')\n",
    "    test = MelanomaDataset(df=test_df,\n",
    "                           imfolder = SIIM_ISIC_Melanoma_Classification + \"pad_jpg/test/\" + model_name, \n",
    "                           train=False,\n",
    "                           transforms=test_transform)\n",
    "    metaval = MelanomaDataset(df=metaval_df,\n",
    "                              imfolder = SIIM_ISIC_Melanoma_Classification + \"pad_jpg/metaval/\" + model_name, \n",
    "                              train=False,\n",
    "                              transforms=test_transform)\n",
    "    oof = np.zeros((len(train_df), 1))  # Out Of Fold predictions\n",
    "    \n",
    "    # We stratify by target value, thus, according to sklearn StratifiedKFold documentation\n",
    "    # We can fill `X` with zeroes of corresponding length to use it as a placeholder\n",
    "    # since we only need `y` to stratify the data\n",
    "    # for fold, (train_idx, val_idx) in enumerate(skf.split(X=np.zeros(len(train_df)), y=train_df['target']), 1):\n",
    "    for fold, (train_idx, val_idx) in enumerate(skf.split(X=np.zeros(len(train_df)), y=train_df['target'], groups=train_df['patient_id'].tolist()), 1):\n",
    "        print('=' * 20, 'Fold', fold, '=' * 20)\n",
    "        \n",
    "        best_val = None  # Best validation score within this fold\n",
    "        patience = es_patience  # Current patience counter\n",
    "        arch = EfficientNet.from_pretrained('efficientnet-b1')\n",
    "        model = Net(arch=arch)  # New model for each fold\n",
    "        model = model.to(device)\n",
    "        \n",
    "        \n",
    "        optim = torch.optim.Adam(model.parameters(), lr=0.001)\n",
    "        scheduler = ReduceLROnPlateau(optimizer=optim, mode='max', patience=1, verbose=True, factor=0.2)\n",
    "        criterion = nn.BCEWithLogitsLoss()\n",
    "        \n",
    "        train = MelanomaDataset(df=train_df.iloc[train_idx].reset_index(drop=True),  \n",
    "                                imfolder = SIIM_ISIC_Melanoma_Classification + train_folder, \n",
    "                                train=True, \n",
    "                                transforms=train_transform)\n",
    "        val = MelanomaDataset(df=train_df.iloc[val_idx].reset_index(drop=True),  \n",
    "                                imfolder = SIIM_ISIC_Melanoma_Classification + train_folder, \n",
    "                                train=True, \n",
    "                                transforms=test_transform)\n",
    "    \n",
    "        train_loader = DataLoader(dataset=train, batch_size=bat_size[0], shuffle=True, num_workers=2)\n",
    "        val_loader = DataLoader(dataset=val, batch_size=bat_size[1], shuffle=False, num_workers=2)\n",
    "        test_loader = DataLoader(dataset=test, batch_size=bat_size[2], shuffle=False, num_workers=2)\n",
    "        metaval_loader = DataLoader(dataset=metaval, batch_size=bat_size[3], shuffle=False, num_workers=2)\n",
    "        \n",
    "        del train, val\n",
    "        gc.collect()\n",
    "        \n",
    "        for epoch in range(epochs):\n",
    "            start_time = time.time()\n",
    "            correct = 0\n",
    "            epoch_loss = 0\n",
    "            model.train()\n",
    "            \n",
    "            for x, y in train_loader:\n",
    "                x = torch.tensor(x, device=device, dtype=torch.float32)\n",
    "                y = torch.tensor(y, device=device, dtype=torch.float32)\n",
    "                \n",
    "                \n",
    "                optim.zero_grad()\n",
    "                z = model(x)\n",
    "                loss = criterion(z, y.unsqueeze(1))\n",
    "                loss.backward()\n",
    "                optim.step()\n",
    "                pred = torch.round(torch.sigmoid(z))  # round off sigmoid to obtain predictions\n",
    "                correct += (pred.cpu() == y.cpu().unsqueeze(1)).sum().item()  # tracking number of correctly predicted samples\n",
    "                epoch_loss += loss.item()\n",
    "    \n",
    "                \n",
    "            train_acc = correct / len(train_idx)\n",
    "    \n",
    "            model.eval()  # switch model to the evaluation mode\n",
    "            val_preds = torch.zeros((len(val_idx), 1), dtype=torch.float32, device=device)\n",
    "            with torch.no_grad():  # Do not calculate gradient since we are only predicting\n",
    "                # Predicting on validation set\n",
    "                for j, (x_val, y_val) in enumerate(val_loader):\n",
    "                    x_val = torch.tensor(x_val, device=device, dtype=torch.float32)\n",
    "                    y_val = torch.tensor(y_val, device=device, dtype=torch.float32)\n",
    "                    z_val = model(x_val)\n",
    "                    val_pred = torch.sigmoid(z_val)\n",
    "                    val_preds[j*x_val.shape[0]:j*x_val.shape[0] + x_val.shape[0]] = val_pred\n",
    "                val_acc = accuracy_score(train_df.iloc[val_idx]['target'].values, torch.round(val_preds.cpu()))\n",
    "                val_roc = roc_auc_score(train_df.iloc[val_idx]['target'].values, val_preds.cpu())\n",
    "                \n",
    "                print('Epoch {:03}: | Loss: {:.3f} | Train acc: {:.3f} | Val acc: {:.3f} | Val roc_auc: {:.3f} | Training time: {}'.format(\n",
    "                epoch + 1, \n",
    "                epoch_loss, \n",
    "                train_acc, \n",
    "                val_acc, \n",
    "                val_roc, \n",
    "                str(datetime.timedelta(seconds=time.time() - start_time))[:7]))\n",
    "                \n",
    "                scheduler.step(val_roc)\n",
    "                # During the first iteration (first epoch) best validation is set to None\n",
    "                if not best_val:\n",
    "                    best_val = val_roc  # So any validation roc_auc we have is the best one for now\n",
    "                    torch.save(model, model_path)  # Saving the model\n",
    "                    continue\n",
    "                    \n",
    "                if val_roc >= best_val:\n",
    "                    best_val = val_roc\n",
    "                    patience = es_patience  # Resetting patience since we have new best validation accuracy\n",
    "                    torch.save(model, model_path)  # Saving current best model\n",
    "                else:\n",
    "                    patience -= 1\n",
    "                    if patience == 0:\n",
    "                        print('Early stopping. Best Val roc_auc: {:.3f}'.format(best_val))\n",
    "                        break\n",
    "        \n",
    "        del train_loader, x, y\n",
    "        gc.collect()\n",
    "        \n",
    "        model = torch.load(model_path)  # Loading best model of this fold\n",
    "        model.eval()  # switch model to the evaluation mode\n",
    "        val_preds = torch.zeros((len(val_idx), 1), dtype=torch.float32, device=device)\n",
    "        test_preds = torch.zeros((len(test), 1), dtype=torch.float32, device=device)  # Predictions for test set\n",
    "        metaval_preds = torch.zeros((len(metaval), 1), dtype=torch.float32, device=device)  # Predictions for metaval set\n",
    "        with torch.no_grad():\n",
    "            # Predicting on validation set once again to obtain data for OOF\n",
    "            for j, (x_val, y_val) in enumerate(val_loader):\n",
    "                x_val = torch.tensor(x_val, device=device, dtype=torch.float32)\n",
    "                y_val = torch.tensor(y_val, device=device, dtype=torch.float32)\n",
    "                z_val = model(x_val)\n",
    "                val_pred = torch.sigmoid(z_val)\n",
    "                val_preds[j*x_val.shape[0]:j*x_val.shape[0] + x_val.shape[0]] = val_pred\n",
    "            oof[val_idx] = val_preds.cpu().numpy()\n",
    "            del val_loader, x_val, y_val\n",
    "            gc.collect()\n",
    "            \n",
    "            #test,metaval両方作る。\n",
    "            # Predicting on test set\n",
    "            for _ in range(TTA):\n",
    "                for i, x_test in enumerate(test_loader):\n",
    "                    x_test = torch.tensor(x_test, device=device, dtype=torch.float32)\n",
    "                    z_test = model(x_test)\n",
    "                    z_test = torch.sigmoid(z_test)\n",
    "                    test_preds[i*x_test.shape[0]:i*x_test.shape[0] + x_test.shape[0]] += z_test\n",
    "            test_preds /= TTA\n",
    "            del test_loader, x_test, z_test\n",
    "            gc.collect()\n",
    "            \n",
    "            # Predicting on metaval set\n",
    "            for _ in range(TTA):\n",
    "                for i, x_metaval in enumerate(metaval_loader):\n",
    "                    x_metaval = torch.tensor(x_metaval, device=device, dtype=torch.float32)\n",
    "                    z_metaval = model(x_metaval)\n",
    "                    z_metaval = torch.sigmoid(z_metaval)\n",
    "                    metaval_preds[i*x_metaval.shape[0]:i*x_metaval.shape[0] + x_metaval.shape[0]] += z_metaval\n",
    "            metaval_preds /= TTA\n",
    "            del metaval_loader, x_metaval, z_metaval\n",
    "            gc.collect()\n",
    "        \n",
    "    test_preds /= skf.n_splits\n",
    "    metaval_preds /= skf.n_splits\n",
    "    \n",
    "    print('OOF: {:.3f}'.format(roc_auc_score(train_df['target'], oof)))\n",
    "    \n",
    "    return test_preds, metaval_preds"
   ]
  },
  {
   "cell_type": "code",
   "execution_count": 9,
   "metadata": {},
   "outputs": [
    {
     "name": "stdout",
     "output_type": "stream",
     "text": [
      "==================== Fold 1 ====================\n",
      "Loaded pretrained weights for efficientnet-b1\n",
      "Epoch 001: | Loss: 57.264 | Train acc: 0.981 | Val acc: 0.979 | Val roc_auc: 0.794 | Training time: 0:01:55\n",
      "Epoch 002: | Loss: 46.855 | Train acc: 0.983 | Val acc: 0.979 | Val roc_auc: 0.869 | Training time: 0:01:53\n",
      "Epoch 003: | Loss: 45.619 | Train acc: 0.983 | Val acc: 0.979 | Val roc_auc: 0.864 | Training time: 0:01:50\n",
      "Epoch 004: | Loss: 43.696 | Train acc: 0.983 | Val acc: 0.979 | Val roc_auc: 0.863 | Training time: 0:01:50\n",
      "Epoch     4: reducing learning rate of group 0 to 2.0000e-04.\n",
      "Epoch 005: | Loss: 39.880 | Train acc: 0.983 | Val acc: 0.979 | Val roc_auc: 0.890 | Training time: 0:01:50\n",
      "Epoch 006: | Loss: 36.595 | Train acc: 0.983 | Val acc: 0.979 | Val roc_auc: 0.890 | Training time: 0:01:50\n",
      "Epoch 007: | Loss: 34.082 | Train acc: 0.983 | Val acc: 0.978 | Val roc_auc: 0.883 | Training time: 0:01:50\n",
      "Epoch     7: reducing learning rate of group 0 to 4.0000e-05.\n",
      "Epoch 008: | Loss: 29.740 | Train acc: 0.985 | Val acc: 0.977 | Val roc_auc: 0.881 | Training time: 0:01:50\n",
      "Early stopping. Best Val roc_auc: 0.890\n",
      "==================== Fold 2 ====================\n",
      "Loaded pretrained weights for efficientnet-b1\n",
      "Epoch 001: | Loss: 57.001 | Train acc: 0.979 | Val acc: 0.985 | Val roc_auc: 0.797 | Training time: 0:01:50\n",
      "Epoch 002: | Loss: 47.537 | Train acc: 0.982 | Val acc: 0.985 | Val roc_auc: 0.812 | Training time: 0:01:50\n",
      "Epoch 003: | Loss: 46.345 | Train acc: 0.982 | Val acc: 0.985 | Val roc_auc: 0.830 | Training time: 0:01:50\n",
      "Epoch 004: | Loss: 46.676 | Train acc: 0.982 | Val acc: 0.985 | Val roc_auc: 0.808 | Training time: 0:01:50\n",
      "Epoch 005: | Loss: 44.655 | Train acc: 0.981 | Val acc: 0.985 | Val roc_auc: 0.831 | Training time: 0:01:50\n",
      "Epoch 006: | Loss: 43.144 | Train acc: 0.982 | Val acc: 0.985 | Val roc_auc: 0.800 | Training time: 0:01:50\n",
      "Epoch 007: | Loss: 43.057 | Train acc: 0.982 | Val acc: 0.985 | Val roc_auc: 0.827 | Training time: 0:01:50\n",
      "Epoch     7: reducing learning rate of group 0 to 2.0000e-04.\n",
      "Epoch 008: | Loss: 38.082 | Train acc: 0.982 | Val acc: 0.983 | Val roc_auc: 0.859 | Training time: 0:01:50\n",
      "Epoch 009: | Loss: 35.393 | Train acc: 0.982 | Val acc: 0.983 | Val roc_auc: 0.860 | Training time: 0:01:50\n",
      "Epoch 010: | Loss: 32.455 | Train acc: 0.982 | Val acc: 0.983 | Val roc_auc: 0.858 | Training time: 0:01:50\n",
      "==================== Fold 3 ====================\n",
      "Loaded pretrained weights for efficientnet-b1\n",
      "Epoch 001: | Loss: 58.925 | Train acc: 0.981 | Val acc: 0.981 | Val roc_auc: 0.813 | Training time: 0:01:50\n",
      "Epoch 002: | Loss: 47.356 | Train acc: 0.983 | Val acc: 0.981 | Val roc_auc: 0.835 | Training time: 0:01:50\n",
      "Epoch 003: | Loss: 46.510 | Train acc: 0.983 | Val acc: 0.981 | Val roc_auc: 0.874 | Training time: 0:01:50\n",
      "Epoch 004: | Loss: 45.781 | Train acc: 0.983 | Val acc: 0.981 | Val roc_auc: 0.651 | Training time: 0:01:50\n",
      "Epoch 005: | Loss: 45.207 | Train acc: 0.983 | Val acc: 0.981 | Val roc_auc: 0.892 | Training time: 0:01:50\n",
      "Epoch 006: | Loss: 44.020 | Train acc: 0.982 | Val acc: 0.981 | Val roc_auc: 0.863 | Training time: 0:01:50\n",
      "Epoch 007: | Loss: 43.441 | Train acc: 0.983 | Val acc: 0.979 | Val roc_auc: 0.893 | Training time: 0:01:50\n",
      "Epoch 008: | Loss: 42.567 | Train acc: 0.983 | Val acc: 0.981 | Val roc_auc: 0.860 | Training time: 0:01:50\n",
      "Epoch 009: | Loss: 41.832 | Train acc: 0.983 | Val acc: 0.981 | Val roc_auc: 0.862 | Training time: 0:01:50\n",
      "Epoch     9: reducing learning rate of group 0 to 2.0000e-04.\n",
      "Epoch 010: | Loss: 36.041 | Train acc: 0.983 | Val acc: 0.981 | Val roc_auc: 0.881 | Training time: 0:01:50\n",
      "Early stopping. Best Val roc_auc: 0.893\n",
      "==================== Fold 4 ====================\n",
      "Loaded pretrained weights for efficientnet-b1\n",
      "Epoch 001: | Loss: 60.775 | Train acc: 0.980 | Val acc: 0.986 | Val roc_auc: 0.802 | Training time: 0:01:50\n",
      "Epoch 002: | Loss: 50.823 | Train acc: 0.981 | Val acc: 0.986 | Val roc_auc: 0.830 | Training time: 0:01:50\n",
      "Epoch 003: | Loss: 47.474 | Train acc: 0.981 | Val acc: 0.986 | Val roc_auc: 0.806 | Training time: 0:01:50\n",
      "Epoch 004: | Loss: 48.224 | Train acc: 0.981 | Val acc: 0.986 | Val roc_auc: 0.835 | Training time: 0:01:50\n",
      "Epoch 005: | Loss: 48.255 | Train acc: 0.982 | Val acc: 0.986 | Val roc_auc: 0.838 | Training time: 0:01:50\n",
      "Epoch 006: | Loss: 46.703 | Train acc: 0.981 | Val acc: 0.986 | Val roc_auc: 0.859 | Training time: 0:01:51\n",
      "Epoch 007: | Loss: 44.859 | Train acc: 0.981 | Val acc: 0.986 | Val roc_auc: 0.881 | Training time: 0:01:50\n",
      "Epoch 008: | Loss: 44.536 | Train acc: 0.982 | Val acc: 0.986 | Val roc_auc: 0.855 | Training time: 0:01:50\n",
      "Epoch 009: | Loss: 44.116 | Train acc: 0.981 | Val acc: 0.985 | Val roc_auc: 0.864 | Training time: 0:01:50\n",
      "Epoch     9: reducing learning rate of group 0 to 2.0000e-04.\n",
      "Epoch 010: | Loss: 39.390 | Train acc: 0.981 | Val acc: 0.986 | Val roc_auc: 0.868 | Training time: 0:01:50\n",
      "Early stopping. Best Val roc_auc: 0.881\n",
      "==================== Fold 5 ====================\n",
      "Loaded pretrained weights for efficientnet-b1\n",
      "Epoch 001: | Loss: 57.066 | Train acc: 0.980 | Val acc: 0.981 | Val roc_auc: 0.842 | Training time: 0:01:50\n",
      "Epoch 002: | Loss: 46.522 | Train acc: 0.983 | Val acc: 0.981 | Val roc_auc: 0.843 | Training time: 0:01:50\n",
      "Epoch 003: | Loss: 46.891 | Train acc: 0.983 | Val acc: 0.981 | Val roc_auc: 0.821 | Training time: 0:01:50\n",
      "Epoch 004: | Loss: 45.272 | Train acc: 0.983 | Val acc: 0.981 | Val roc_auc: 0.834 | Training time: 0:01:50\n",
      "Epoch     4: reducing learning rate of group 0 to 2.0000e-04.\n",
      "Epoch 005: | Loss: 40.453 | Train acc: 0.983 | Val acc: 0.980 | Val roc_auc: 0.868 | Training time: 0:01:50\n",
      "Epoch 006: | Loss: 37.086 | Train acc: 0.983 | Val acc: 0.980 | Val roc_auc: 0.868 | Training time: 0:01:50\n",
      "Epoch 007: | Loss: 35.558 | Train acc: 0.983 | Val acc: 0.981 | Val roc_auc: 0.865 | Training time: 0:01:50\n",
      "Epoch 008: | Loss: 33.627 | Train acc: 0.984 | Val acc: 0.979 | Val roc_auc: 0.855 | Training time: 0:01:50\n",
      "Epoch     8: reducing learning rate of group 0 to 4.0000e-05.\n",
      "Epoch 009: | Loss: 29.320 | Train acc: 0.985 | Val acc: 0.979 | Val roc_auc: 0.854 | Training time: 0:01:50\n",
      "Early stopping. Best Val roc_auc: 0.868\n",
      "OOF: 0.869\n"
     ]
    },
    {
     "name": "stderr",
     "output_type": "stream",
     "text": [
      "100%|██████████| 279k/279k [00:04<00:00, 57.6kB/s] \n"
     ]
    },
    {
     "name": "stdout",
     "output_type": "stream",
     "text": [
      "CPU times: user 1h 13min 22s, sys: 20min 20s, total: 1h 33min 43s\n",
      "Wall time: 1h 33min 55s\n"
     ]
    },
    {
     "data": {
      "text/plain": [
       "Successfully submitted to SIIM-ISIC Melanoma Classification"
      ]
     },
     "execution_count": 9,
     "metadata": {},
     "output_type": "execute_result"
    },
    {
     "data": {
      "image/png": "[encoded data removed]",
      "text/plain": [
       "<Figure size 432x288 with 1 Axes>"
      ]
     },
     "metadata": {
      "needs_background": "light"
     },
     "output_type": "display_data"
    }
   ],
   "source": [
    "%%time\n",
    "#192_192\n",
    "model_name = \"192_192\"\n",
    "train_folder = \"pad_jpg/train/\" + model_name\n",
    "epochs = 10  # Number of epochs to run\n",
    "model_path =  Output + 'model/model_' + model_name + '.pth'  # Path and filename to save model to\n",
    "es_patience = 3  # Early Stopping patience - for how many epochs with no improvements to wait\n",
    "TTA = 3 # Test Time Augmentation rounds\n",
    "bat_size = [32, 16, 16, 16]\n",
    "\n",
    "test_preds, metaval_preds = Exec(epochs, model_path, es_patience, TTA, bat_size)\n",
    "\n",
    "\n",
    "sns.kdeplot(pd.Series(test_preds.cpu().numpy().reshape(-1,)));\n",
    "sns.kdeplot(pd.Series(metaval_preds.cpu().numpy().reshape(-1,)));\n",
    "\n",
    "#test用\n",
    "test_ID = pd.read_csv(SIIM_ISIC_Melanoma_Classification + 'sample_submission.csv')\n",
    "test_ID['target'] = test_preds.cpu().numpy().reshape(-1,)\n",
    "test_ID.to_csv(Output + 'test/sub_test_' + model_name + '.csv', index=False)\n",
    "\n",
    "#metaval用\n",
    "metaval_ID = pd.read_csv(SIIM_ISIC_Melanoma_Classification + 'sample_sub_metaval.csv')\n",
    "metaval_ID['target'] = metaval_preds.cpu().numpy().reshape(-1,)\n",
    "metaval_ID.to_csv(Output + 'metaval/sub_metaval_' + model_name + '.csv', index=False)\n",
    "\n",
    "#test用submit\n",
    "api = KaggleApi()\n",
    "api.authenticate()  # 認証を通す\n",
    "csv_file_path = Output + 'test/sub_test_' + model_name + '.csv'\n",
    "message = 'Imgprocessing ' + model_name\n",
    "competition_id = 'siim-isic-melanoma-classification'\n",
    "api.competition_submit(csv_file_path, message, competition_id)"
   ]
  },
  {
   "cell_type": "code",
   "execution_count": 10,
   "metadata": {},
   "outputs": [
    {
     "name": "stdout",
     "output_type": "stream",
     "text": [
      "==================== Fold 1 ====================\n",
      "Loaded pretrained weights for efficientnet-b1\n",
      "Epoch 001: | Loss: 55.812 | Train acc: 0.981 | Val acc: 0.979 | Val roc_auc: 0.821 | Training time: 0:02:21\n",
      "Epoch 002: | Loss: 46.053 | Train acc: 0.983 | Val acc: 0.979 | Val roc_auc: 0.855 | Training time: 0:02:22\n",
      "Epoch 003: | Loss: 45.218 | Train acc: 0.983 | Val acc: 0.979 | Val roc_auc: 0.860 | Training time: 0:02:21\n",
      "Epoch 004: | Loss: 43.501 | Train acc: 0.983 | Val acc: 0.979 | Val roc_auc: 0.877 | Training time: 0:02:21\n",
      "Epoch 005: | Loss: 43.246 | Train acc: 0.983 | Val acc: 0.979 | Val roc_auc: 0.799 | Training time: 0:02:21\n",
      "Epoch 006: | Loss: 43.083 | Train acc: 0.983 | Val acc: 0.979 | Val roc_auc: 0.877 | Training time: 0:02:22\n",
      "Epoch     6: reducing learning rate of group 0 to 2.0000e-04.\n",
      "Epoch 007: | Loss: 37.520 | Train acc: 0.983 | Val acc: 0.979 | Val roc_auc: 0.882 | Training time: 0:02:22\n",
      "Epoch 008: | Loss: 35.996 | Train acc: 0.983 | Val acc: 0.978 | Val roc_auc: 0.896 | Training time: 0:02:21\n",
      "Epoch 009: | Loss: 33.352 | Train acc: 0.984 | Val acc: 0.978 | Val roc_auc: 0.882 | Training time: 0:02:22\n",
      "Epoch 010: | Loss: 30.946 | Train acc: 0.984 | Val acc: 0.979 | Val roc_auc: 0.874 | Training time: 0:02:22\n",
      "Epoch    10: reducing learning rate of group 0 to 4.0000e-05.\n",
      "==================== Fold 2 ====================\n",
      "Loaded pretrained weights for efficientnet-b1\n",
      "Epoch 001: | Loss: 57.119 | Train acc: 0.980 | Val acc: 0.985 | Val roc_auc: 0.792 | Training time: 0:02:21\n",
      "Epoch 002: | Loss: 48.720 | Train acc: 0.982 | Val acc: 0.985 | Val roc_auc: 0.828 | Training time: 0:02:21\n",
      "Epoch 003: | Loss: 47.182 | Train acc: 0.982 | Val acc: 0.985 | Val roc_auc: 0.825 | Training time: 0:02:22\n",
      "Epoch 004: | Loss: 46.200 | Train acc: 0.982 | Val acc: 0.985 | Val roc_auc: 0.820 | Training time: 0:02:22\n",
      "Epoch     4: reducing learning rate of group 0 to 2.0000e-04.\n",
      "Epoch 005: | Loss: 40.788 | Train acc: 0.982 | Val acc: 0.985 | Val roc_auc: 0.861 | Training time: 0:02:22\n",
      "Epoch 006: | Loss: 38.699 | Train acc: 0.982 | Val acc: 0.984 | Val roc_auc: 0.856 | Training time: 0:02:21\n",
      "Epoch 007: | Loss: 36.425 | Train acc: 0.983 | Val acc: 0.985 | Val roc_auc: 0.860 | Training time: 0:02:22\n",
      "Epoch     7: reducing learning rate of group 0 to 4.0000e-05.\n",
      "Epoch 008: | Loss: 32.758 | Train acc: 0.983 | Val acc: 0.984 | Val roc_auc: 0.877 | Training time: 0:02:22\n",
      "Epoch 009: | Loss: 29.953 | Train acc: 0.984 | Val acc: 0.982 | Val roc_auc: 0.867 | Training time: 0:02:21\n",
      "Epoch 010: | Loss: 28.001 | Train acc: 0.985 | Val acc: 0.983 | Val roc_auc: 0.879 | Training time: 0:02:21\n",
      "==================== Fold 3 ====================\n",
      "Loaded pretrained weights for efficientnet-b1\n",
      "Epoch 001: | Loss: 56.960 | Train acc: 0.980 | Val acc: 0.981 | Val roc_auc: 0.849 | Training time: 0:02:22\n",
      "Epoch 002: | Loss: 47.570 | Train acc: 0.982 | Val acc: 0.981 | Val roc_auc: 0.777 | Training time: 0:02:22\n",
      "Epoch 003: | Loss: 46.099 | Train acc: 0.983 | Val acc: 0.981 | Val roc_auc: 0.880 | Training time: 0:02:22\n",
      "Epoch 004: | Loss: 44.862 | Train acc: 0.983 | Val acc: 0.981 | Val roc_auc: 0.862 | Training time: 0:02:22\n",
      "Epoch 005: | Loss: 44.653 | Train acc: 0.983 | Val acc: 0.981 | Val roc_auc: 0.883 | Training time: 0:02:22\n",
      "Epoch 006: | Loss: 44.136 | Train acc: 0.983 | Val acc: 0.981 | Val roc_auc: 0.876 | Training time: 0:02:22\n",
      "Epoch 007: | Loss: 43.252 | Train acc: 0.983 | Val acc: 0.981 | Val roc_auc: 0.873 | Training time: 0:02:21\n",
      "Epoch     7: reducing learning rate of group 0 to 2.0000e-04.\n",
      "Epoch 008: | Loss: 38.262 | Train acc: 0.983 | Val acc: 0.982 | Val roc_auc: 0.900 | Training time: 0:02:22\n",
      "Epoch 009: | Loss: 35.270 | Train acc: 0.983 | Val acc: 0.981 | Val roc_auc: 0.895 | Training time: 0:02:22\n",
      "Epoch 010: | Loss: 31.759 | Train acc: 0.984 | Val acc: 0.980 | Val roc_auc: 0.893 | Training time: 0:02:22\n",
      "Epoch    10: reducing learning rate of group 0 to 4.0000e-05.\n",
      "==================== Fold 4 ====================\n",
      "Loaded pretrained weights for efficientnet-b1\n",
      "Epoch 001: | Loss: 58.416 | Train acc: 0.979 | Val acc: 0.986 | Val roc_auc: 0.850 | Training time: 0:02:22\n",
      "Epoch 002: | Loss: 49.070 | Train acc: 0.981 | Val acc: 0.986 | Val roc_auc: 0.839 | Training time: 0:02:21\n",
      "Epoch 003: | Loss: 46.851 | Train acc: 0.981 | Val acc: 0.986 | Val roc_auc: 0.861 | Training time: 0:02:22\n",
      "Epoch 004: | Loss: 46.604 | Train acc: 0.981 | Val acc: 0.986 | Val roc_auc: 0.807 | Training time: 0:02:22\n",
      "Epoch 005: | Loss: 47.641 | Train acc: 0.981 | Val acc: 0.986 | Val roc_auc: 0.862 | Training time: 0:02:22\n",
      "Epoch 006: | Loss: 44.386 | Train acc: 0.981 | Val acc: 0.986 | Val roc_auc: 0.860 | Training time: 0:02:22\n",
      "Epoch 007: | Loss: 44.416 | Train acc: 0.981 | Val acc: 0.986 | Val roc_auc: 0.836 | Training time: 0:02:22\n",
      "Epoch     7: reducing learning rate of group 0 to 2.0000e-04.\n",
      "Epoch 008: | Loss: 39.485 | Train acc: 0.982 | Val acc: 0.986 | Val roc_auc: 0.869 | Training time: 0:02:22\n",
      "Epoch 009: | Loss: 36.069 | Train acc: 0.982 | Val acc: 0.986 | Val roc_auc: 0.881 | Training time: 0:02:22\n",
      "Epoch 010: | Loss: 34.316 | Train acc: 0.983 | Val acc: 0.986 | Val roc_auc: 0.879 | Training time: 0:02:22\n",
      "==================== Fold 5 ====================\n",
      "Loaded pretrained weights for efficientnet-b1\n",
      "Epoch 001: | Loss: 55.401 | Train acc: 0.981 | Val acc: 0.981 | Val roc_auc: 0.832 | Training time: 0:02:22\n",
      "Epoch 002: | Loss: 46.940 | Train acc: 0.983 | Val acc: 0.981 | Val roc_auc: 0.838 | Training time: 0:02:22\n",
      "Epoch 003: | Loss: 45.749 | Train acc: 0.983 | Val acc: 0.981 | Val roc_auc: 0.833 | Training time: 0:02:22\n",
      "Epoch 004: | Loss: 43.917 | Train acc: 0.983 | Val acc: 0.981 | Val roc_auc: 0.886 | Training time: 0:02:22\n",
      "Epoch 005: | Loss: 43.701 | Train acc: 0.983 | Val acc: 0.981 | Val roc_auc: 0.773 | Training time: 0:02:22\n",
      "Epoch 006: | Loss: 42.998 | Train acc: 0.983 | Val acc: 0.981 | Val roc_auc: 0.852 | Training time: 0:02:22\n",
      "Epoch     6: reducing learning rate of group 0 to 2.0000e-04.\n",
      "Epoch 007: | Loss: 37.388 | Train acc: 0.983 | Val acc: 0.980 | Val roc_auc: 0.894 | Training time: 0:02:22\n",
      "Epoch 008: | Loss: 34.579 | Train acc: 0.984 | Val acc: 0.979 | Val roc_auc: 0.891 | Training time: 0:02:22\n",
      "Epoch 009: | Loss: 32.689 | Train acc: 0.984 | Val acc: 0.979 | Val roc_auc: 0.898 | Training time: 0:02:22\n",
      "Epoch 010: | Loss: 31.372 | Train acc: 0.984 | Val acc: 0.979 | Val roc_auc: 0.898 | Training time: 0:02:22\n",
      "OOF: 0.883\n"
     ]
    },
    {
     "name": "stderr",
     "output_type": "stream",
     "text": [
      "100%|██████████| 282k/282k [00:03<00:00, 79.2kB/s]\n"
     ]
    },
    {
     "name": "stdout",
     "output_type": "stream",
     "text": [
      "CPU times: user 1h 36min 49s, sys: 30min 48s, total: 2h 7min 38s\n",
      "Wall time: 2h 7min 43s\n"
     ]
    },
    {
     "data": {
      "text/plain": [
       "Successfully submitted to SIIM-ISIC Melanoma Classification"
      ]
     },
     "execution_count": 10,
     "metadata": {},
     "output_type": "execute_result"
    },
    {
     "data": {
      "image/png": "[encoded data removed]",
      "text/plain": [
       "<Figure size 432x288 with 1 Axes>"
      ]
     },
     "metadata": {
      "needs_background": "light"
     },
     "output_type": "display_data"
    }
   ],
   "source": [
    "%%time\n",
    "#224_224\n",
    "model_name = \"224_224\"\n",
    "train_folder = \"pad_jpg/train/\" + model_name\n",
    "epochs = 10  # Number of epochs to run\n",
    "model_path =  Output + 'model/model_' + model_name + '.pth'  # Path and filename to save model to\n",
    "es_patience = 3  # Early Stopping patience - for how many epochs with no improvements to wait\n",
    "TTA = 3 # Test Time Augmentation rounds\n",
    "bat_size = [32, 16, 16, 16]\n",
    "\n",
    "test_preds, metaval_preds = Exec(epochs, model_path, es_patience, TTA, bat_size)\n",
    "\n",
    "\n",
    "sns.kdeplot(pd.Series(test_preds.cpu().numpy().reshape(-1,)));\n",
    "sns.kdeplot(pd.Series(metaval_preds.cpu().numpy().reshape(-1,)));\n",
    "\n",
    "#test用\n",
    "test_ID = pd.read_csv(SIIM_ISIC_Melanoma_Classification + 'sample_submission.csv')\n",
    "test_ID['target'] = test_preds.cpu().numpy().reshape(-1,)\n",
    "test_ID.to_csv(Output + 'test/sub_test_' + model_name + '.csv', index=False)\n",
    "\n",
    "#metaval用\n",
    "metaval_ID = pd.read_csv(SIIM_ISIC_Melanoma_Classification + 'sample_sub_metaval.csv')\n",
    "metaval_ID['target'] = metaval_preds.cpu().numpy().reshape(-1,)\n",
    "metaval_ID.to_csv(Output + 'metaval/sub_metaval_' + model_name + '.csv', index=False)\n",
    "\n",
    "#test用submit\n",
    "api = KaggleApi()\n",
    "api.authenticate()  # 認証を通す\n",
    "csv_file_path = Output + 'test/sub_test_' + model_name + '.csv'\n",
    "message = 'Imgprocessing ' + model_name\n",
    "competition_id = 'siim-isic-melanoma-classification'\n",
    "api.competition_submit(csv_file_path, message, competition_id)"
   ]
  },
  {
   "cell_type": "code",
   "execution_count": 11,
   "metadata": {},
   "outputs": [
    {
     "name": "stdout",
     "output_type": "stream",
     "text": [
      "==================== Fold 1 ====================\n",
      "Loaded pretrained weights for efficientnet-b1\n",
      "Epoch 001: | Loss: 57.706 | Train acc: 0.981 | Val acc: 0.979 | Val roc_auc: 0.828 | Training time: 0:02:57\n",
      "Epoch 002: | Loss: 48.436 | Train acc: 0.983 | Val acc: 0.979 | Val roc_auc: 0.827 | Training time: 0:02:57\n",
      "Epoch 003: | Loss: 46.392 | Train acc: 0.983 | Val acc: 0.979 | Val roc_auc: 0.859 | Training time: 0:02:57\n",
      "Epoch 004: | Loss: 46.253 | Train acc: 0.983 | Val acc: 0.979 | Val roc_auc: 0.882 | Training time: 0:02:57\n",
      "Epoch 005: | Loss: 43.338 | Train acc: 0.983 | Val acc: 0.979 | Val roc_auc: 0.885 | Training time: 0:02:56\n",
      "Epoch 006: | Loss: 44.389 | Train acc: 0.983 | Val acc: 0.979 | Val roc_auc: 0.860 | Training time: 0:02:56\n",
      "Epoch 007: | Loss: 42.838 | Train acc: 0.983 | Val acc: 0.979 | Val roc_auc: 0.858 | Training time: 0:02:56\n",
      "Epoch     7: reducing learning rate of group 0 to 2.0000e-04.\n",
      "Epoch 008: | Loss: 38.355 | Train acc: 0.983 | Val acc: 0.979 | Val roc_auc: 0.890 | Training time: 0:02:56\n",
      "Epoch 009: | Loss: 36.042 | Train acc: 0.983 | Val acc: 0.979 | Val roc_auc: 0.888 | Training time: 0:02:56\n",
      "Epoch 010: | Loss: 33.899 | Train acc: 0.984 | Val acc: 0.979 | Val roc_auc: 0.891 | Training time: 0:02:56\n",
      "==================== Fold 2 ====================\n",
      "Loaded pretrained weights for efficientnet-b1\n",
      "Epoch 001: | Loss: 57.379 | Train acc: 0.979 | Val acc: 0.985 | Val roc_auc: 0.817 | Training time: 0:02:57\n",
      "Epoch 002: | Loss: 47.917 | Train acc: 0.982 | Val acc: 0.985 | Val roc_auc: 0.791 | Training time: 0:02:56\n",
      "Epoch 003: | Loss: 46.835 | Train acc: 0.982 | Val acc: 0.985 | Val roc_auc: 0.781 | Training time: 0:02:56\n",
      "Epoch     3: reducing learning rate of group 0 to 2.0000e-04.\n",
      "Epoch 004: | Loss: 43.073 | Train acc: 0.982 | Val acc: 0.985 | Val roc_auc: 0.834 | Training time: 0:02:57\n",
      "Epoch 005: | Loss: 40.509 | Train acc: 0.982 | Val acc: 0.984 | Val roc_auc: 0.849 | Training time: 0:02:57\n",
      "Epoch 006: | Loss: 37.577 | Train acc: 0.982 | Val acc: 0.985 | Val roc_auc: 0.841 | Training time: 0:02:57\n",
      "Epoch 007: | Loss: 36.490 | Train acc: 0.983 | Val acc: 0.984 | Val roc_auc: 0.858 | Training time: 0:02:57\n",
      "Epoch 008: | Loss: 33.354 | Train acc: 0.983 | Val acc: 0.982 | Val roc_auc: 0.838 | Training time: 0:02:57\n",
      "Epoch 009: | Loss: 31.208 | Train acc: 0.984 | Val acc: 0.980 | Val roc_auc: 0.826 | Training time: 0:02:57\n",
      "Epoch     9: reducing learning rate of group 0 to 4.0000e-05.\n",
      "Epoch 010: | Loss: 24.894 | Train acc: 0.986 | Val acc: 0.981 | Val roc_auc: 0.849 | Training time: 0:02:57\n",
      "Early stopping. Best Val roc_auc: 0.858\n",
      "==================== Fold 3 ====================\n",
      "Loaded pretrained weights for efficientnet-b1\n",
      "Epoch 001: | Loss: 55.919 | Train acc: 0.981 | Val acc: 0.981 | Val roc_auc: 0.855 | Training time: 0:02:57\n",
      "Epoch 002: | Loss: 46.719 | Train acc: 0.982 | Val acc: 0.981 | Val roc_auc: 0.851 | Training time: 0:02:57\n",
      "Epoch 003: | Loss: 45.973 | Train acc: 0.982 | Val acc: 0.981 | Val roc_auc: 0.891 | Training time: 0:02:57\n",
      "Epoch 004: | Loss: 45.990 | Train acc: 0.983 | Val acc: 0.981 | Val roc_auc: 0.458 | Training time: 0:02:57\n",
      "Epoch 005: | Loss: 43.956 | Train acc: 0.983 | Val acc: 0.981 | Val roc_auc: 0.888 | Training time: 0:02:57\n",
      "Epoch     5: reducing learning rate of group 0 to 2.0000e-04.\n",
      "Epoch 006: | Loss: 38.448 | Train acc: 0.982 | Val acc: 0.981 | Val roc_auc: 0.895 | Training time: 0:02:57\n",
      "Epoch 007: | Loss: 36.656 | Train acc: 0.983 | Val acc: 0.981 | Val roc_auc: 0.896 | Training time: 0:02:57\n",
      "Epoch 008: | Loss: 33.531 | Train acc: 0.984 | Val acc: 0.981 | Val roc_auc: 0.887 | Training time: 0:02:57\n",
      "Epoch 009: | Loss: 32.302 | Train acc: 0.984 | Val acc: 0.981 | Val roc_auc: 0.906 | Training time: 0:02:57\n",
      "Epoch 010: | Loss: 30.789 | Train acc: 0.985 | Val acc: 0.981 | Val roc_auc: 0.887 | Training time: 0:02:57\n",
      "==================== Fold 4 ====================\n",
      "Loaded pretrained weights for efficientnet-b1\n",
      "Epoch 001: | Loss: 57.128 | Train acc: 0.980 | Val acc: 0.986 | Val roc_auc: 0.800 | Training time: 0:02:57\n",
      "Epoch 002: | Loss: 50.709 | Train acc: 0.982 | Val acc: 0.986 | Val roc_auc: 0.847 | Training time: 0:02:57\n",
      "Epoch 003: | Loss: 48.539 | Train acc: 0.981 | Val acc: 0.986 | Val roc_auc: 0.813 | Training time: 0:02:56\n",
      "Epoch 004: | Loss: 47.029 | Train acc: 0.981 | Val acc: 0.986 | Val roc_auc: 0.838 | Training time: 0:02:57\n",
      "Epoch     4: reducing learning rate of group 0 to 2.0000e-04.\n",
      "Epoch 005: | Loss: 41.822 | Train acc: 0.981 | Val acc: 0.986 | Val roc_auc: 0.878 | Training time: 0:02:57\n",
      "Epoch 006: | Loss: 38.833 | Train acc: 0.981 | Val acc: 0.986 | Val roc_auc: 0.887 | Training time: 0:02:57\n",
      "Epoch 007: | Loss: 37.241 | Train acc: 0.982 | Val acc: 0.985 | Val roc_auc: 0.894 | Training time: 0:02:57\n",
      "Epoch 008: | Loss: 35.257 | Train acc: 0.981 | Val acc: 0.986 | Val roc_auc: 0.868 | Training time: 0:02:57\n",
      "Epoch 009: | Loss: 32.715 | Train acc: 0.983 | Val acc: 0.985 | Val roc_auc: 0.880 | Training time: 0:02:57\n",
      "Epoch     9: reducing learning rate of group 0 to 4.0000e-05.\n",
      "Epoch 010: | Loss: 28.102 | Train acc: 0.985 | Val acc: 0.985 | Val roc_auc: 0.881 | Training time: 0:02:57\n",
      "Early stopping. Best Val roc_auc: 0.894\n",
      "==================== Fold 5 ====================\n",
      "Loaded pretrained weights for efficientnet-b1\n",
      "Epoch 001: | Loss: 56.415 | Train acc: 0.980 | Val acc: 0.981 | Val roc_auc: 0.854 | Training time: 0:02:57\n",
      "Epoch 002: | Loss: 46.962 | Train acc: 0.983 | Val acc: 0.981 | Val roc_auc: 0.845 | Training time: 0:02:57\n",
      "Epoch 003: | Loss: 47.174 | Train acc: 0.983 | Val acc: 0.981 | Val roc_auc: 0.867 | Training time: 0:02:57\n",
      "Epoch 004: | Loss: 44.609 | Train acc: 0.982 | Val acc: 0.981 | Val roc_auc: 0.860 | Training time: 0:02:57\n",
      "Epoch 005: | Loss: 44.855 | Train acc: 0.983 | Val acc: 0.981 | Val roc_auc: 0.845 | Training time: 0:02:57\n",
      "Epoch     5: reducing learning rate of group 0 to 2.0000e-04.\n",
      "Epoch 006: | Loss: 39.490 | Train acc: 0.983 | Val acc: 0.980 | Val roc_auc: 0.897 | Training time: 0:02:57\n",
      "Epoch 007: | Loss: 37.481 | Train acc: 0.983 | Val acc: 0.980 | Val roc_auc: 0.889 | Training time: 0:02:57\n",
      "Epoch 008: | Loss: 35.660 | Train acc: 0.983 | Val acc: 0.980 | Val roc_auc: 0.888 | Training time: 0:02:57\n",
      "Epoch     8: reducing learning rate of group 0 to 4.0000e-05.\n",
      "Epoch 009: | Loss: 31.740 | Train acc: 0.984 | Val acc: 0.980 | Val roc_auc: 0.896 | Training time: 0:02:57\n",
      "Early stopping. Best Val roc_auc: 0.897\n",
      "OOF: 0.875\n"
     ]
    },
    {
     "name": "stderr",
     "output_type": "stream",
     "text": [
      "100%|██████████| 281k/281k [00:06<00:00, 46.6kB/s]\n"
     ]
    },
    {
     "name": "stdout",
     "output_type": "stream",
     "text": [
      "CPU times: user 1h 55min 37s, sys: 40min 32s, total: 2h 36min 9s\n",
      "Wall time: 2h 36min 12s\n"
     ]
    },
    {
     "data": {
      "text/plain": [
       "Successfully submitted to SIIM-ISIC Melanoma Classification"
      ]
     },
     "execution_count": 11,
     "metadata": {},
     "output_type": "execute_result"
    },
    {
     "data": {
      "image/png": "[encoded data removed]",
      "text/plain": [
       "<Figure size 432x288 with 1 Axes>"
      ]
     },
     "metadata": {
      "needs_background": "light"
     },
     "output_type": "display_data"
    }
   ],
   "source": [
    "%%time\n",
    "#256_256\n",
    "model_name = \"256_256\"\n",
    "train_folder = \"pad_jpg/train/\" + model_name\n",
    "epochs = 10  # Number of epochs to run\n",
    "model_path =  Output + 'model/model_' + model_name + '.pth'  # Path and filename to save model to\n",
    "es_patience = 3  # Early Stopping patience - for how many epochs with no improvements to wait\n",
    "TTA = 3 # Test Time Augmentation rounds\n",
    "bat_size = [32, 16, 16, 16]\n",
    "\n",
    "test_preds, metaval_preds = Exec(epochs, model_path, es_patience, TTA, bat_size)\n",
    "\n",
    "\n",
    "sns.kdeplot(pd.Series(test_preds.cpu().numpy().reshape(-1,)));\n",
    "sns.kdeplot(pd.Series(metaval_preds.cpu().numpy().reshape(-1,)));\n",
    "\n",
    "#test用\n",
    "test_ID = pd.read_csv(SIIM_ISIC_Melanoma_Classification + 'sample_submission.csv')\n",
    "test_ID['target'] = test_preds.cpu().numpy().reshape(-1,)\n",
    "test_ID.to_csv(Output + 'test/sub_test_' + model_name + '.csv', index=False)\n",
    "\n",
    "#metaval用\n",
    "metaval_ID = pd.read_csv(SIIM_ISIC_Melanoma_Classification + 'sample_sub_metaval.csv')\n",
    "metaval_ID['target'] = metaval_preds.cpu().numpy().reshape(-1,)\n",
    "metaval_ID.to_csv(Output + 'metaval/sub_metaval_' + model_name + '.csv', index=False)\n",
    "\n",
    "#test用submit\n",
    "api = KaggleApi()\n",
    "api.authenticate()  # 認証を通す\n",
    "csv_file_path = Output + 'test/sub_test_' + model_name + '.csv'\n",
    "message = 'Imgprocessing ' + model_name\n",
    "competition_id = 'siim-isic-melanoma-classification'\n",
    "api.competition_submit(csv_file_path, message, competition_id)"
   ]
  },
  {
   "cell_type": "code",
   "execution_count": 12,
   "metadata": {},
   "outputs": [
    {
     "name": "stdout",
     "output_type": "stream",
     "text": [
      "==================== Fold 1 ====================\n",
      "Loaded pretrained weights for efficientnet-b1\n",
      "Epoch 001: | Loss: 112.166 | Train acc: 0.982 | Val acc: 0.979 | Val roc_auc: 0.833 | Training time: 0:06:31\n",
      "Epoch 002: | Loss: 101.949 | Train acc: 0.983 | Val acc: 0.979 | Val roc_auc: 0.850 | Training time: 0:06:32\n",
      "Epoch 003: | Loss: 101.055 | Train acc: 0.983 | Val acc: 0.979 | Val roc_auc: 0.845 | Training time: 0:06:32\n",
      "Epoch 004: | Loss: 96.759 | Train acc: 0.983 | Val acc: 0.979 | Val roc_auc: 0.672 | Training time: 0:06:32\n",
      "Epoch     4: reducing learning rate of group 0 to 2.0000e-04.\n",
      "Epoch 005: | Loss: 87.256 | Train acc: 0.983 | Val acc: 0.979 | Val roc_auc: 0.881 | Training time: 0:06:39\n",
      "Epoch 006: | Loss: 84.401 | Train acc: 0.983 | Val acc: 0.979 | Val roc_auc: 0.888 | Training time: 0:06:40\n",
      "Epoch 007: | Loss: 83.760 | Train acc: 0.983 | Val acc: 0.979 | Val roc_auc: 0.892 | Training time: 0:06:35\n",
      "Epoch 008: | Loss: 82.112 | Train acc: 0.983 | Val acc: 0.979 | Val roc_auc: 0.894 | Training time: 0:06:33\n",
      "Epoch 009: | Loss: 81.578 | Train acc: 0.983 | Val acc: 0.979 | Val roc_auc: 0.899 | Training time: 0:06:36\n",
      "Epoch 010: | Loss: 79.127 | Train acc: 0.983 | Val acc: 0.979 | Val roc_auc: 0.888 | Training time: 0:06:41\n",
      "==================== Fold 2 ====================\n",
      "Loaded pretrained weights for efficientnet-b1\n",
      "Epoch 001: | Loss: 116.076 | Train acc: 0.980 | Val acc: 0.985 | Val roc_auc: 0.764 | Training time: 0:06:32\n",
      "Epoch 002: | Loss: 104.119 | Train acc: 0.982 | Val acc: 0.985 | Val roc_auc: 0.783 | Training time: 0:06:32\n",
      "Epoch 003: | Loss: 99.688 | Train acc: 0.982 | Val acc: 0.985 | Val roc_auc: 0.784 | Training time: 0:06:34\n",
      "Epoch 004: | Loss: 98.235 | Train acc: 0.982 | Val acc: 0.985 | Val roc_auc: 0.821 | Training time: 0:06:32\n",
      "Epoch 005: | Loss: 96.009 | Train acc: 0.982 | Val acc: 0.985 | Val roc_auc: 0.794 | Training time: 0:06:32\n",
      "Epoch 006: | Loss: 93.539 | Train acc: 0.982 | Val acc: 0.968 | Val roc_auc: 0.796 | Training time: 0:06:32\n",
      "Epoch     6: reducing learning rate of group 0 to 2.0000e-04.\n",
      "Epoch 007: | Loss: 87.397 | Train acc: 0.982 | Val acc: 0.985 | Val roc_auc: 0.810 | Training time: 0:06:38\n",
      "Early stopping. Best Val roc_auc: 0.821\n",
      "==================== Fold 3 ====================\n",
      "Loaded pretrained weights for efficientnet-b1\n",
      "Epoch 001: | Loss: 113.895 | Train acc: 0.981 | Val acc: 0.981 | Val roc_auc: 0.840 | Training time: 0:06:32\n",
      "Epoch 002: | Loss: 102.019 | Train acc: 0.983 | Val acc: 0.981 | Val roc_auc: 0.534 | Training time: 0:06:32\n",
      "Epoch 003: | Loss: 100.921 | Train acc: 0.983 | Val acc: 0.981 | Val roc_auc: 0.574 | Training time: 0:06:32\n",
      "Epoch     3: reducing learning rate of group 0 to 2.0000e-04.\n",
      "Epoch 004: | Loss: 91.778 | Train acc: 0.983 | Val acc: 0.981 | Val roc_auc: 0.853 | Training time: 0:06:32\n",
      "Epoch 005: | Loss: 87.625 | Train acc: 0.983 | Val acc: 0.981 | Val roc_auc: 0.861 | Training time: 0:06:32\n",
      "Epoch 006: | Loss: 85.439 | Train acc: 0.983 | Val acc: 0.981 | Val roc_auc: 0.862 | Training time: 0:06:32\n",
      "Epoch 007: | Loss: 84.050 | Train acc: 0.983 | Val acc: 0.981 | Val roc_auc: 0.845 | Training time: 0:06:32\n",
      "Epoch 008: | Loss: 81.908 | Train acc: 0.982 | Val acc: 0.981 | Val roc_auc: 0.895 | Training time: 0:06:32\n",
      "Epoch 009: | Loss: 79.233 | Train acc: 0.983 | Val acc: 0.979 | Val roc_auc: 0.898 | Training time: 0:06:32\n",
      "Epoch 010: | Loss: 78.516 | Train acc: 0.983 | Val acc: 0.981 | Val roc_auc: 0.897 | Training time: 0:06:33\n",
      "==================== Fold 4 ====================\n",
      "Loaded pretrained weights for efficientnet-b1\n",
      "Epoch 001: | Loss: 117.839 | Train acc: 0.980 | Val acc: 0.986 | Val roc_auc: 0.749 | Training time: 0:06:34\n",
      "Epoch 002: | Loss: 105.546 | Train acc: 0.981 | Val acc: 0.964 | Val roc_auc: 0.739 | Training time: 0:06:32\n",
      "Epoch 003: | Loss: 104.180 | Train acc: 0.981 | Val acc: 0.986 | Val roc_auc: 0.832 | Training time: 0:06:32\n",
      "Epoch 004: | Loss: 100.289 | Train acc: 0.981 | Val acc: 0.986 | Val roc_auc: 0.804 | Training time: 0:06:32\n",
      "Epoch 005: | Loss: 99.699 | Train acc: 0.981 | Val acc: 0.986 | Val roc_auc: 0.846 | Training time: 0:06:33\n",
      "Epoch 006: | Loss: 99.207 | Train acc: 0.981 | Val acc: 0.986 | Val roc_auc: 0.832 | Training time: 0:06:32\n",
      "Epoch 007: | Loss: 97.342 | Train acc: 0.981 | Val acc: 0.986 | Val roc_auc: 0.849 | Training time: 0:06:32\n",
      "Epoch 008: | Loss: 97.361 | Train acc: 0.981 | Val acc: 0.986 | Val roc_auc: 0.842 | Training time: 0:06:32\n",
      "Epoch 009: | Loss: 95.540 | Train acc: 0.981 | Val acc: 0.986 | Val roc_auc: 0.864 | Training time: 0:06:32\n",
      "Epoch 010: | Loss: 91.362 | Train acc: 0.981 | Val acc: 0.986 | Val roc_auc: 0.850 | Training time: 0:06:32\n",
      "==================== Fold 5 ====================\n",
      "Loaded pretrained weights for efficientnet-b1\n",
      "Epoch 001: | Loss: 111.847 | Train acc: 0.982 | Val acc: 0.981 | Val roc_auc: 0.658 | Training time: 0:06:32\n",
      "Epoch 002: | Loss: 101.434 | Train acc: 0.983 | Val acc: 0.980 | Val roc_auc: 0.760 | Training time: 0:06:32\n",
      "Epoch 003: | Loss: 99.236 | Train acc: 0.982 | Val acc: 0.981 | Val roc_auc: 0.791 | Training time: 0:06:32\n",
      "Epoch 004: | Loss: 97.269 | Train acc: 0.983 | Val acc: 0.981 | Val roc_auc: 0.834 | Training time: 0:06:32\n",
      "Epoch 005: | Loss: 96.643 | Train acc: 0.983 | Val acc: 0.980 | Val roc_auc: 0.848 | Training time: 0:06:32\n",
      "Epoch 006: | Loss: 92.652 | Train acc: 0.983 | Val acc: 0.981 | Val roc_auc: 0.755 | Training time: 0:06:32\n",
      "Epoch 007: | Loss: 96.183 | Train acc: 0.983 | Val acc: 0.981 | Val roc_auc: 0.818 | Training time: 0:06:32\n",
      "Epoch     7: reducing learning rate of group 0 to 2.0000e-04.\n",
      "Epoch 008: | Loss: 88.603 | Train acc: 0.983 | Val acc: 0.980 | Val roc_auc: 0.859 | Training time: 0:06:32\n",
      "Epoch 009: | Loss: 84.096 | Train acc: 0.983 | Val acc: 0.981 | Val roc_auc: 0.868 | Training time: 0:06:32\n",
      "Epoch 010: | Loss: 82.138 | Train acc: 0.983 | Val acc: 0.981 | Val roc_auc: 0.852 | Training time: 0:06:32\n",
      "OOF: 0.869\n"
     ]
    },
    {
     "name": "stderr",
     "output_type": "stream",
     "text": [
      "100%|██████████| 279k/279k [00:03<00:00, 78.1kB/s]\n"
     ]
    },
    {
     "name": "stdout",
     "output_type": "stream",
     "text": [
      "CPU times: user 4h 5min 58s, sys: 1h 27min 12s, total: 5h 33min 11s\n",
      "Wall time: 5h 33min 21s\n"
     ]
    },
    {
     "data": {
      "text/plain": [
       "Successfully submitted to SIIM-ISIC Melanoma Classification"
      ]
     },
     "execution_count": 12,
     "metadata": {},
     "output_type": "execute_result"
    },
    {
     "data": {
      "image/png": "[encoded data removed]",
      "text/plain": [
       "<Figure size 432x288 with 1 Axes>"
      ]
     },
     "metadata": {
      "needs_background": "light"
     },
     "output_type": "display_data"
    }
   ],
   "source": [
    "%%time\n",
    "#384_384\n",
    "model_name = \"384_384\"\n",
    "train_folder = \"pad_jpg/train/\" + model_name\n",
    "epochs = 10  # Number of epochs to run\n",
    "model_path =  Output + 'model/model_' + model_name + '.pth'  # Path and filename to save model to\n",
    "es_patience = 3  # Early Stopping patience - for how many epochs with no improvements to wait\n",
    "TTA = 3 # Test Time Augmentation rounds\n",
    "bat_size = [16, 8, 8, 8]\n",
    "\n",
    "test_preds, metaval_preds = Exec(epochs, model_path, es_patience, TTA, bat_size)\n",
    "\n",
    "\n",
    "sns.kdeplot(pd.Series(test_preds.cpu().numpy().reshape(-1,)));\n",
    "sns.kdeplot(pd.Series(metaval_preds.cpu().numpy().reshape(-1,)));\n",
    "\n",
    "#test用\n",
    "test_ID = pd.read_csv(SIIM_ISIC_Melanoma_Classification + 'sample_submission.csv')\n",
    "test_ID['target'] = test_preds.cpu().numpy().reshape(-1,)\n",
    "test_ID.to_csv(Output + 'test/sub_test_' + model_name + '.csv', index=False)\n",
    "\n",
    "#metaval用\n",
    "metaval_ID = pd.read_csv(SIIM_ISIC_Melanoma_Classification + 'sample_sub_metaval.csv')\n",
    "metaval_ID['target'] = metaval_preds.cpu().numpy().reshape(-1,)\n",
    "metaval_ID.to_csv(Output + 'metaval/sub_metaval_' + model_name + '.csv', index=False)\n",
    "\n",
    "#test用submit\n",
    "api = KaggleApi()\n",
    "api.authenticate()  # 認証を通す\n",
    "csv_file_path = Output + 'test/sub_test_' + model_name + '.csv'\n",
    "message = 'Imgprocessing ' + model_name\n",
    "competition_id = 'siim-isic-melanoma-classification'\n",
    "api.competition_submit(csv_file_path, message, competition_id)"
   ]
  },
  {
   "cell_type": "code",
   "execution_count": 13,
   "metadata": {},
   "outputs": [
    {
     "name": "stdout",
     "output_type": "stream",
     "text": [
      "==================== Fold 1 ====================\n",
      "Loaded pretrained weights for efficientnet-b1\n",
      "Epoch 001: | Loss: 232.254 | Train acc: 0.983 | Val acc: 0.979 | Val roc_auc: 0.769 | Training time: 0:11:37\n",
      "Epoch 002: | Loss: 214.981 | Train acc: 0.983 | Val acc: 0.979 | Val roc_auc: 0.683 | Training time: 0:11:38\n",
      "Epoch 003: | Loss: 208.762 | Train acc: 0.983 | Val acc: 0.979 | Val roc_auc: 0.798 | Training time: 0:11:38\n",
      "Epoch 004: | Loss: 210.426 | Train acc: 0.983 | Val acc: 0.979 | Val roc_auc: 0.817 | Training time: 0:11:39\n",
      "Epoch 005: | Loss: 202.407 | Train acc: 0.983 | Val acc: 0.979 | Val roc_auc: 0.835 | Training time: 0:11:39\n",
      "Epoch 006: | Loss: 200.659 | Train acc: 0.983 | Val acc: 0.979 | Val roc_auc: 0.821 | Training time: 0:11:39\n",
      "Epoch 007: | Loss: 193.263 | Train acc: 0.983 | Val acc: 0.979 | Val roc_auc: 0.847 | Training time: 0:11:39\n",
      "Epoch 008: | Loss: 194.068 | Train acc: 0.983 | Val acc: 0.979 | Val roc_auc: 0.866 | Training time: 0:11:39\n",
      "Epoch 009: | Loss: 188.013 | Train acc: 0.983 | Val acc: 0.979 | Val roc_auc: 0.874 | Training time: 0:11:39\n",
      "Epoch 010: | Loss: 184.337 | Train acc: 0.983 | Val acc: 0.979 | Val roc_auc: 0.870 | Training time: 0:11:39\n",
      "==================== Fold 2 ====================\n",
      "Loaded pretrained weights for efficientnet-b1\n",
      "Epoch 001: | Loss: 240.138 | Train acc: 0.981 | Val acc: 0.985 | Val roc_auc: 0.624 | Training time: 0:11:39\n",
      "Epoch 002: | Loss: 219.147 | Train acc: 0.982 | Val acc: 0.985 | Val roc_auc: 0.776 | Training time: 0:11:39\n",
      "Epoch 003: | Loss: 214.639 | Train acc: 0.982 | Val acc: 0.985 | Val roc_auc: 0.783 | Training time: 0:11:39\n",
      "Epoch 004: | Loss: 210.857 | Train acc: 0.982 | Val acc: 0.985 | Val roc_auc: 0.791 | Training time: 0:11:39\n",
      "Epoch 005: | Loss: 210.704 | Train acc: 0.982 | Val acc: 0.985 | Val roc_auc: 0.774 | Training time: 0:11:39\n",
      "Epoch 006: | Loss: 202.924 | Train acc: 0.982 | Val acc: 0.985 | Val roc_auc: 0.755 | Training time: 0:11:39\n",
      "Epoch     6: reducing learning rate of group 0 to 2.0000e-04.\n",
      "Epoch 007: | Loss: 190.439 | Train acc: 0.982 | Val acc: 0.985 | Val roc_auc: 0.835 | Training time: 0:11:39\n",
      "Epoch 008: | Loss: 182.935 | Train acc: 0.982 | Val acc: 0.985 | Val roc_auc: 0.842 | Training time: 0:11:39\n",
      "Epoch 009: | Loss: 184.283 | Train acc: 0.982 | Val acc: 0.985 | Val roc_auc: 0.836 | Training time: 0:11:39\n",
      "Epoch 010: | Loss: 179.578 | Train acc: 0.982 | Val acc: 0.985 | Val roc_auc: 0.831 | Training time: 0:11:39\n",
      "Epoch    10: reducing learning rate of group 0 to 4.0000e-05.\n",
      "==================== Fold 3 ====================\n",
      "Loaded pretrained weights for efficientnet-b1\n",
      "Epoch 001: | Loss: 234.437 | Train acc: 0.982 | Val acc: 0.981 | Val roc_auc: 0.608 | Training time: 0:11:39\n",
      "Epoch 002: | Loss: 222.456 | Train acc: 0.983 | Val acc: 0.981 | Val roc_auc: 0.734 | Training time: 0:11:40\n",
      "Epoch 003: | Loss: 211.699 | Train acc: 0.983 | Val acc: 0.981 | Val roc_auc: 0.761 | Training time: 0:11:40\n",
      "Epoch 004: | Loss: 207.087 | Train acc: 0.983 | Val acc: 0.981 | Val roc_auc: 0.795 | Training time: 0:11:40\n",
      "Epoch 005: | Loss: 206.108 | Train acc: 0.983 | Val acc: 0.981 | Val roc_auc: 0.828 | Training time: 0:11:41\n",
      "Epoch 006: | Loss: 200.224 | Train acc: 0.983 | Val acc: 0.975 | Val roc_auc: 0.812 | Training time: 0:11:40\n",
      "Epoch 007: | Loss: 196.631 | Train acc: 0.982 | Val acc: 0.981 | Val roc_auc: 0.853 | Training time: 0:11:41\n",
      "Epoch 008: | Loss: 188.640 | Train acc: 0.982 | Val acc: 0.981 | Val roc_auc: 0.857 | Training time: 0:11:41\n",
      "Epoch 009: | Loss: 190.139 | Train acc: 0.982 | Val acc: 0.981 | Val roc_auc: 0.842 | Training time: 0:11:41\n",
      "Epoch 010: | Loss: 187.778 | Train acc: 0.983 | Val acc: 0.981 | Val roc_auc: 0.877 | Training time: 0:11:41\n",
      "==================== Fold 4 ====================\n",
      "Loaded pretrained weights for efficientnet-b1\n",
      "Epoch 001: | Loss: 251.646 | Train acc: 0.980 | Val acc: 0.986 | Val roc_auc: 0.728 | Training time: 0:11:41\n",
      "Epoch 002: | Loss: 233.766 | Train acc: 0.981 | Val acc: 0.986 | Val roc_auc: 0.793 | Training time: 0:11:41\n",
      "Epoch 003: | Loss: 224.446 | Train acc: 0.981 | Val acc: 0.986 | Val roc_auc: 0.711 | Training time: 0:11:41\n",
      "Epoch 004: | Loss: 225.236 | Train acc: 0.981 | Val acc: 0.982 | Val roc_auc: 0.650 | Training time: 0:11:42\n",
      "Epoch     4: reducing learning rate of group 0 to 2.0000e-04.\n",
      "Epoch 005: | Loss: 208.632 | Train acc: 0.981 | Val acc: 0.986 | Val roc_auc: 0.836 | Training time: 0:11:41\n",
      "Epoch 006: | Loss: 196.370 | Train acc: 0.981 | Val acc: 0.985 | Val roc_auc: 0.850 | Training time: 0:11:41\n",
      "Epoch 007: | Loss: 195.030 | Train acc: 0.981 | Val acc: 0.986 | Val roc_auc: 0.866 | Training time: 0:11:41\n",
      "Epoch 008: | Loss: 192.137 | Train acc: 0.981 | Val acc: 0.986 | Val roc_auc: 0.865 | Training time: 0:11:41\n",
      "Epoch 009: | Loss: 188.968 | Train acc: 0.981 | Val acc: 0.985 | Val roc_auc: 0.884 | Training time: 0:11:41\n",
      "Epoch 010: | Loss: 189.781 | Train acc: 0.981 | Val acc: 0.986 | Val roc_auc: 0.880 | Training time: 0:11:42\n",
      "==================== Fold 5 ====================\n",
      "Loaded pretrained weights for efficientnet-b1\n",
      "Epoch 001: | Loss: 234.768 | Train acc: 0.982 | Val acc: 0.981 | Val roc_auc: 0.666 | Training time: 0:11:42\n",
      "Epoch 002: | Loss: 222.457 | Train acc: 0.983 | Val acc: 0.947 | Val roc_auc: 0.697 | Training time: 0:11:41\n",
      "Epoch 003: | Loss: 215.089 | Train acc: 0.983 | Val acc: 0.964 | Val roc_auc: 0.625 | Training time: 0:11:42\n",
      "Epoch 004: | Loss: 218.987 | Train acc: 0.983 | Val acc: 0.981 | Val roc_auc: 0.629 | Training time: 0:11:42\n",
      "Epoch     4: reducing learning rate of group 0 to 2.0000e-04.\n",
      "Epoch 005: | Loss: 201.254 | Train acc: 0.983 | Val acc: 0.981 | Val roc_auc: 0.829 | Training time: 0:11:42\n",
      "Epoch 006: | Loss: 192.748 | Train acc: 0.983 | Val acc: 0.981 | Val roc_auc: 0.814 | Training time: 0:11:42\n",
      "Epoch 007: | Loss: 187.511 | Train acc: 0.983 | Val acc: 0.981 | Val roc_auc: 0.815 | Training time: 0:11:42\n",
      "Epoch     7: reducing learning rate of group 0 to 4.0000e-05.\n",
      "Epoch 008: | Loss: 181.966 | Train acc: 0.983 | Val acc: 0.981 | Val roc_auc: 0.842 | Training time: 0:11:42\n",
      "Epoch 009: | Loss: 178.393 | Train acc: 0.983 | Val acc: 0.981 | Val roc_auc: 0.849 | Training time: 0:11:40\n",
      "Epoch 010: | Loss: 178.477 | Train acc: 0.983 | Val acc: 0.981 | Val roc_auc: 0.854 | Training time: 0:11:40\n",
      "OOF: 0.848\n"
     ]
    },
    {
     "name": "stderr",
     "output_type": "stream",
     "text": [
      "100%|██████████| 279k/279k [00:02<00:00, 95.5kB/s] \n"
     ]
    },
    {
     "name": "stdout",
     "output_type": "stream",
     "text": [
      "CPU times: user 7h 48min 5s, sys: 2h 42min 4s, total: 10h 30min 9s\n",
      "Wall time: 10h 29min 27s\n"
     ]
    },
    {
     "data": {
      "text/plain": [
       "Successfully submitted to SIIM-ISIC Melanoma Classification"
      ]
     },
     "execution_count": 13,
     "metadata": {},
     "output_type": "execute_result"
    },
    {
     "data": {
      "image/png": "[encoded data removed]",
      "text/plain": [
       "<Figure size 432x288 with 1 Axes>"
      ]
     },
     "metadata": {
      "needs_background": "light"
     },
     "output_type": "display_data"
    }
   ],
   "source": [
    "%%time\n",
    "#512_512\n",
    "model_name = \"512_512\"\n",
    "train_folder = \"pad_jpg/train/\" + model_name\n",
    "epochs = 10  # Number of epochs to run\n",
    "model_path =  Output + 'model/model_' + model_name + '.pth'  # Path and filename to save model to\n",
    "es_patience = 3  # Early Stopping patience - for how many epochs with no improvements to wait\n",
    "TTA = 3 # Test Time Augmentation rounds\n",
    "bat_size = [8, 4, 4, 4]\n",
    "\n",
    "test_preds, metaval_preds = Exec(epochs, model_path, es_patience, TTA, bat_size)\n",
    "\n",
    "\n",
    "sns.kdeplot(pd.Series(test_preds.cpu().numpy().reshape(-1,)));\n",
    "sns.kdeplot(pd.Series(metaval_preds.cpu().numpy().reshape(-1,)));\n",
    "\n",
    "#test用\n",
    "test_ID = pd.read_csv(SIIM_ISIC_Melanoma_Classification + 'sample_submission.csv')\n",
    "test_ID['target'] = test_preds.cpu().numpy().reshape(-1,)\n",
    "test_ID.to_csv(Output + 'test/sub_test_' + model_name + '.csv', index=False)\n",
    "\n",
    "#metaval用\n",
    "metaval_ID = pd.read_csv(SIIM_ISIC_Melanoma_Classification + 'sample_sub_metaval.csv')\n",
    "metaval_ID['target'] = metaval_preds.cpu().numpy().reshape(-1,)\n",
    "metaval_ID.to_csv(Output + 'metaval/sub_metaval_' + model_name + '.csv', index=False)\n",
    "\n",
    "#test用submit\n",
    "api = KaggleApi()\n",
    "api.authenticate()  # 認証を通す\n",
    "csv_file_path = Output + 'test/sub_test_' + model_name + '.csv'\n",
    "message = 'Imgprocessing ' + model_name\n",
    "competition_id = 'siim-isic-melanoma-classification'\n",
    "api.competition_submit(csv_file_path, message, competition_id)"
   ]
  },
  {
   "cell_type": "code",
   "execution_count": 16,
   "metadata": {
    "scrolled": true
   },
   "outputs": [
    {
     "name": "stdout",
     "output_type": "stream",
     "text": [
      "==================== Fold 1 ====================\n",
      "Loaded pretrained weights for efficientnet-b1\n"
     ]
    },
    {
     "ename": "RuntimeError",
     "evalue": "CUDA out of memory. Tried to allocate 108.00 MiB (GPU 0; 7.80 GiB total capacity; 6.29 GiB already allocated; 81.50 MiB free; 6.42 GiB reserved in total by PyTorch)",
     "output_type": "error",
     "traceback": [
      "\u001b[0;31m---------------------------------------------------------------------------\u001b[0m",
      "\u001b[0;31mRuntimeError\u001b[0m                              Traceback (most recent call last)",
      "\u001b[0;32m<timed exec>\u001b[0m in \u001b[0;36m<module>\u001b[0;34m\u001b[0m\n",
      "\u001b[0;32m<ipython-input-10-325f51b60cab>\u001b[0m in \u001b[0;36mExec\u001b[0;34m(epochs, model_path, es_patience, TTA, TestOrMetaval, bat_size)\u001b[0m\n\u001b[1;32m     49\u001b[0m \u001b[0;34m\u001b[0m\u001b[0m\n\u001b[1;32m     50\u001b[0m             \u001b[0;32mfor\u001b[0m \u001b[0mx\u001b[0m\u001b[0;34m,\u001b[0m \u001b[0my\u001b[0m \u001b[0;32min\u001b[0m \u001b[0mtrain_loader\u001b[0m\u001b[0;34m:\u001b[0m\u001b[0;34m\u001b[0m\u001b[0;34m\u001b[0m\u001b[0m\n\u001b[0;32m---> 51\u001b[0;31m                 \u001b[0mx\u001b[0m \u001b[0;34m=\u001b[0m \u001b[0mtorch\u001b[0m\u001b[0;34m.\u001b[0m\u001b[0mtensor\u001b[0m\u001b[0;34m(\u001b[0m\u001b[0mx\u001b[0m\u001b[0;34m,\u001b[0m \u001b[0mdevice\u001b[0m\u001b[0;34m=\u001b[0m\u001b[0mdevice\u001b[0m\u001b[0;34m,\u001b[0m \u001b[0mdtype\u001b[0m\u001b[0;34m=\u001b[0m\u001b[0mtorch\u001b[0m\u001b[0;34m.\u001b[0m\u001b[0mfloat32\u001b[0m\u001b[0;34m)\u001b[0m\u001b[0;34m\u001b[0m\u001b[0;34m\u001b[0m\u001b[0m\n\u001b[0m\u001b[1;32m     52\u001b[0m                 \u001b[0my\u001b[0m \u001b[0;34m=\u001b[0m \u001b[0mtorch\u001b[0m\u001b[0;34m.\u001b[0m\u001b[0mtensor\u001b[0m\u001b[0;34m(\u001b[0m\u001b[0my\u001b[0m\u001b[0;34m,\u001b[0m \u001b[0mdevice\u001b[0m\u001b[0;34m=\u001b[0m\u001b[0mdevice\u001b[0m\u001b[0;34m,\u001b[0m \u001b[0mdtype\u001b[0m\u001b[0;34m=\u001b[0m\u001b[0mtorch\u001b[0m\u001b[0;34m.\u001b[0m\u001b[0mfloat32\u001b[0m\u001b[0;34m)\u001b[0m\u001b[0;34m\u001b[0m\u001b[0;34m\u001b[0m\u001b[0m\n\u001b[1;32m     53\u001b[0m \u001b[0;34m\u001b[0m\u001b[0m\n",
      "\u001b[0;31mRuntimeError\u001b[0m: CUDA out of memory. Tried to allocate 108.00 MiB (GPU 0; 7.80 GiB total capacity; 6.29 GiB already allocated; 81.50 MiB free; 6.42 GiB reserved in total by PyTorch)"
     ]
    }
   ],
   "source": [
    "%%time\n",
    "#768_768\n",
    "model_name = \"768_768\"\n",
    "train_folder = \"pad_jpg/train/\" + model_name\n",
    "TestOrMetaval = \"metaval\" #\"test\" or \"metaval\"\n",
    "epochs = 10  # Number of epochs to run\n",
    "model_path =  Output + 'model/model_' + model_name + '.pth'  # Path and filename to save model to\n",
    "es_patience = 3  # Early Stopping patience - for how many epochs with no improvements to wait\n",
    "TTA = 3 # Test Time Augmentation rounds\n",
    "bat_size = [16, 8, 8]\n",
    "\n",
    "preds = Exec(epochs, model_path, es_patience, TTA, TestOrMetaval, bat_size)\n",
    "sns.kdeplot(pd.Series(preds.cpu().numpy().reshape(-1,)));\n",
    "\n",
    "#metaval用\n",
    "metaval_ID = pd.read_csv(SIIM_ISIC_Melanoma_Classification + 'sample_sub_metaval.csv')\n",
    "metaval_ID['target'] = preds.cpu().numpy().reshape(-1,)\n",
    "metaval_ID.to_csv(Output + 'metaval/sub_metaval_' + model_name + '.csv', index=False)"
   ]
  },
  {
   "cell_type": "markdown",
   "metadata": {},
   "source": [
    "## TableDataモデル部\n"
   ]
  },
  {
   "cell_type": "markdown",
   "metadata": {},
   "source": [
    "__version__"
   ]
  },
  {
   "cell_type": "markdown",
   "metadata": {},
   "source": [
    "__ver1__<br>\n",
    "ハイパーパラメータ実装&train_concat：CV:0.8992, LB:0.642<br>\n",
    "__ver2__<br>\n",
    "train使用&isnul廃止：CV:0.6942 LB:0.642<br>\n",
    "__ver3__<br>\n",
    "patient_id使用：CV:0.7164 LB:0.653<br>\n",
    "__ver4__<br>\n",
    "train使用&isnul使用：CV:0.7194 LB:0.653<br>\n",
    "__ver5__<br>\n",
    " \"subsample_freq\": 1,\"subsample\": 0.9：CV:0.7274 LB:0.664<br>"
   ]
  },
  {
   "cell_type": "markdown",
   "metadata": {},
   "source": [
    "__verSN:1__<br>\n",
    "patientid有、isnan有<br>\n",
    "lgb: CV mean score: 0.7306, std: 0.0175.<br>"
   ]
  },
  {
   "cell_type": "markdown",
   "metadata": {},
   "source": [
    "__initialize__"
   ]
  },
  {
   "cell_type": "code",
   "execution_count": 27,
   "metadata": {},
   "outputs": [],
   "source": [
    "import numpy as np # linear algebra\n",
    "import pandas as pd # data processing, CSV file I/O (e.g. pd.read_csv)\n",
    "from sklearn.metrics import roc_auc_score\n",
    "import matplotlib.pyplot as plt\n",
    "\n",
    "from kaggle.api.kaggle_api_extended import KaggleApi\n",
    "import os"
   ]
  },
  {
   "cell_type": "code",
   "execution_count": 2,
   "metadata": {},
   "outputs": [],
   "source": [
    "# config\n",
    "melanoma_external_malignant_256 = \"/home/tidal/ML_Data/SIIM-ISIC_Melanoma_Classification/melanoma_external_malignant_256/\"\n",
    "SIIM_ISIC_Melanoma_Classification = \"/home/tidal/ML_Data/SIIM-ISIC_Melanoma_Classification/SIIM-ISIC-Melanoma-Classification/\"\n",
    "Output = \"/home/tidal/ML_Data/SIIM-ISIC_Melanoma_Classification/Output/\""
   ]
  },
  {
   "cell_type": "code",
   "execution_count": 4,
   "metadata": {},
   "outputs": [
    {
     "data": {
      "text/plain": [
       "((24811, 6), (10982, 5))"
      ]
     },
     "execution_count": 4,
     "metadata": {},
     "output_type": "execute_result"
    }
   ],
   "source": [
    "#train_concatとtestに被るデータはない。\n",
    "train_TD = pd.read_csv(SIIM_ISIC_Melanoma_Classification + 'train.csv')\n",
    "train_TD = train_TD.drop(['diagnosis','benign_malignant'], axis=1)\n",
    "test_TD  = pd.read_csv(SIIM_ISIC_Melanoma_Classification + 'test.csv')\n",
    "metaval_TD  = pd.read_csv(SIIM_ISIC_Melanoma_Classification + 'metaval.csv')\n",
    "\n",
    "train_TD.shape, test_TD.shape"
   ]
  },
  {
   "cell_type": "code",
   "execution_count": 5,
   "metadata": {},
   "outputs": [],
   "source": [
    "#patient_id 削除\n",
    "#train_TD = train_TD.drop(['patient_id'], axis=1)\n",
    "#test_TD = test_TD.drop(['patient_id'], axis=1)"
   ]
  },
  {
   "cell_type": "markdown",
   "metadata": {},
   "source": [
    "__preprocessing__"
   ]
  },
  {
   "cell_type": "code",
   "execution_count": 6,
   "metadata": {},
   "outputs": [],
   "source": [
    "from sklearn.preprocessing import LabelEncoder"
   ]
  },
  {
   "cell_type": "code",
   "execution_count": 7,
   "metadata": {},
   "outputs": [],
   "source": [
    "#ラベルエンコード(文字列→数値)\n",
    "def Label_encode(train, test, metaval, feature_name):\n",
    "    for f in feature_name:\n",
    "        lbl = LabelEncoder()\n",
    "        lbl.fit(list(train[f].values) + list(test[f].values) + list(metaval[f].values))\n",
    "        train[f] = lbl.transform(list(train[f].values))\n",
    "        test[f] = lbl.transform(list(test[f].values))\n",
    "        metaval[f] = lbl.transform(list(metaval[f].values))\n",
    "    \n",
    "    return train, test, metaval"
   ]
  },
  {
   "cell_type": "code",
   "execution_count": 8,
   "metadata": {},
   "outputs": [],
   "source": [
    "def FillnaAndInsertIsnan(DataFrame, ColsAndFillVals):\n",
    "    for (col, val) in ColsAndFillVals:\n",
    "        IsnanSeries = DataFrame[col].isnull()\n",
    "        DataFrame[col] = DataFrame[col].fillna(val)\n",
    "        DataFrame.insert(len(DataFrame.columns), col + \"_isnan\", IsnanSeries)\n",
    "    return DataFrame"
   ]
  },
  {
   "cell_type": "code",
   "execution_count": 9,
   "metadata": {},
   "outputs": [],
   "source": [
    "mean_age_approx = train_TD['age_approx'].mean()\n",
    "train_TD = FillnaAndInsertIsnan(train_TD, [('sex','na'), ('age_approx',mean_age_approx), ('anatom_site_general_challenge','na')])\n",
    "test_TD = FillnaAndInsertIsnan(test_TD, [('sex','na'), ('age_approx',mean_age_approx), ('anatom_site_general_challenge','na')])\n",
    "metaval_TD = FillnaAndInsertIsnan(metaval_TD, [('sex','na'), ('age_approx',mean_age_approx), ('anatom_site_general_challenge','na')])"
   ]
  },
  {
   "cell_type": "code",
   "execution_count": 10,
   "metadata": {},
   "outputs": [
    {
     "data": {
      "text/html": [
       "<div>\n",
       "<style scoped>\n",
       "    .dataframe tbody tr th:only-of-type {\n",
       "        vertical-align: middle;\n",
       "    }\n",
       "\n",
       "    .dataframe tbody tr th {\n",
       "        vertical-align: top;\n",
       "    }\n",
       "\n",
       "    .dataframe thead th {\n",
       "        text-align: right;\n",
       "    }\n",
       "</style>\n",
       "<table border=\"1\" class=\"dataframe\">\n",
       "  <thead>\n",
       "    <tr style=\"text-align: right;\">\n",
       "      <th></th>\n",
       "      <th>image_name</th>\n",
       "      <th>patient_id</th>\n",
       "      <th>sex</th>\n",
       "      <th>age_approx</th>\n",
       "      <th>anatom_site_general_challenge</th>\n",
       "      <th>target</th>\n",
       "      <th>sex_isnan</th>\n",
       "      <th>age_approx_isnan</th>\n",
       "      <th>anatom_site_general_challenge_isnan</th>\n",
       "    </tr>\n",
       "  </thead>\n",
       "  <tbody>\n",
       "    <tr>\n",
       "      <th>0</th>\n",
       "      <td>ISIC_2637011</td>\n",
       "      <td>IP_7279968</td>\n",
       "      <td>male</td>\n",
       "      <td>45.0</td>\n",
       "      <td>head/neck</td>\n",
       "      <td>0</td>\n",
       "      <td>False</td>\n",
       "      <td>False</td>\n",
       "      <td>False</td>\n",
       "    </tr>\n",
       "    <tr>\n",
       "      <th>1</th>\n",
       "      <td>ISIC_0015719</td>\n",
       "      <td>IP_3075186</td>\n",
       "      <td>female</td>\n",
       "      <td>45.0</td>\n",
       "      <td>upper extremity</td>\n",
       "      <td>0</td>\n",
       "      <td>False</td>\n",
       "      <td>False</td>\n",
       "      <td>False</td>\n",
       "    </tr>\n",
       "    <tr>\n",
       "      <th>2</th>\n",
       "      <td>ISIC_0052212</td>\n",
       "      <td>IP_2842074</td>\n",
       "      <td>female</td>\n",
       "      <td>50.0</td>\n",
       "      <td>lower extremity</td>\n",
       "      <td>0</td>\n",
       "      <td>False</td>\n",
       "      <td>False</td>\n",
       "      <td>False</td>\n",
       "    </tr>\n",
       "    <tr>\n",
       "      <th>3</th>\n",
       "      <td>ISIC_0068279</td>\n",
       "      <td>IP_6890425</td>\n",
       "      <td>female</td>\n",
       "      <td>45.0</td>\n",
       "      <td>head/neck</td>\n",
       "      <td>0</td>\n",
       "      <td>False</td>\n",
       "      <td>False</td>\n",
       "      <td>False</td>\n",
       "    </tr>\n",
       "    <tr>\n",
       "      <th>4</th>\n",
       "      <td>ISIC_0074268</td>\n",
       "      <td>IP_8723313</td>\n",
       "      <td>female</td>\n",
       "      <td>55.0</td>\n",
       "      <td>upper extremity</td>\n",
       "      <td>0</td>\n",
       "      <td>False</td>\n",
       "      <td>False</td>\n",
       "      <td>False</td>\n",
       "    </tr>\n",
       "  </tbody>\n",
       "</table>\n",
       "</div>"
      ],
      "text/plain": [
       "     image_name  patient_id     sex  age_approx anatom_site_general_challenge  \\\n",
       "0  ISIC_2637011  IP_7279968    male        45.0                     head/neck   \n",
       "1  ISIC_0015719  IP_3075186  female        45.0               upper extremity   \n",
       "2  ISIC_0052212  IP_2842074  female        50.0               lower extremity   \n",
       "3  ISIC_0068279  IP_6890425  female        45.0                     head/neck   \n",
       "4  ISIC_0074268  IP_8723313  female        55.0               upper extremity   \n",
       "\n",
       "   target  sex_isnan  age_approx_isnan  anatom_site_general_challenge_isnan  \n",
       "0       0      False             False                                False  \n",
       "1       0      False             False                                False  \n",
       "2       0      False             False                                False  \n",
       "3       0      False             False                                False  \n",
       "4       0      False             False                                False  "
      ]
     },
     "execution_count": 10,
     "metadata": {},
     "output_type": "execute_result"
    }
   ],
   "source": [
    "train_TD.head()"
   ]
  },
  {
   "cell_type": "code",
   "execution_count": 11,
   "metadata": {},
   "outputs": [
    {
     "data": {
      "text/html": [
       "<div>\n",
       "<style scoped>\n",
       "    .dataframe tbody tr th:only-of-type {\n",
       "        vertical-align: middle;\n",
       "    }\n",
       "\n",
       "    .dataframe tbody tr th {\n",
       "        vertical-align: top;\n",
       "    }\n",
       "\n",
       "    .dataframe thead th {\n",
       "        text-align: right;\n",
       "    }\n",
       "</style>\n",
       "<table border=\"1\" class=\"dataframe\">\n",
       "  <thead>\n",
       "    <tr style=\"text-align: right;\">\n",
       "      <th></th>\n",
       "      <th>image_name</th>\n",
       "      <th>patient_id</th>\n",
       "      <th>sex</th>\n",
       "      <th>age_approx</th>\n",
       "      <th>anatom_site_general_challenge</th>\n",
       "      <th>sex_isnan</th>\n",
       "      <th>age_approx_isnan</th>\n",
       "      <th>anatom_site_general_challenge_isnan</th>\n",
       "    </tr>\n",
       "  </thead>\n",
       "  <tbody>\n",
       "    <tr>\n",
       "      <th>0</th>\n",
       "      <td>ISIC_0052060</td>\n",
       "      <td>IP_3579794</td>\n",
       "      <td>male</td>\n",
       "      <td>70.0</td>\n",
       "      <td>na</td>\n",
       "      <td>False</td>\n",
       "      <td>False</td>\n",
       "      <td>True</td>\n",
       "    </tr>\n",
       "    <tr>\n",
       "      <th>1</th>\n",
       "      <td>ISIC_0052349</td>\n",
       "      <td>IP_7782715</td>\n",
       "      <td>male</td>\n",
       "      <td>40.0</td>\n",
       "      <td>lower extremity</td>\n",
       "      <td>False</td>\n",
       "      <td>False</td>\n",
       "      <td>False</td>\n",
       "    </tr>\n",
       "    <tr>\n",
       "      <th>2</th>\n",
       "      <td>ISIC_0058510</td>\n",
       "      <td>IP_7960270</td>\n",
       "      <td>female</td>\n",
       "      <td>55.0</td>\n",
       "      <td>torso</td>\n",
       "      <td>False</td>\n",
       "      <td>False</td>\n",
       "      <td>False</td>\n",
       "    </tr>\n",
       "    <tr>\n",
       "      <th>3</th>\n",
       "      <td>ISIC_0073313</td>\n",
       "      <td>IP_6375035</td>\n",
       "      <td>female</td>\n",
       "      <td>50.0</td>\n",
       "      <td>torso</td>\n",
       "      <td>False</td>\n",
       "      <td>False</td>\n",
       "      <td>False</td>\n",
       "    </tr>\n",
       "    <tr>\n",
       "      <th>4</th>\n",
       "      <td>ISIC_0073502</td>\n",
       "      <td>IP_0589375</td>\n",
       "      <td>female</td>\n",
       "      <td>45.0</td>\n",
       "      <td>lower extremity</td>\n",
       "      <td>False</td>\n",
       "      <td>False</td>\n",
       "      <td>False</td>\n",
       "    </tr>\n",
       "  </tbody>\n",
       "</table>\n",
       "</div>"
      ],
      "text/plain": [
       "     image_name  patient_id     sex  age_approx anatom_site_general_challenge  \\\n",
       "0  ISIC_0052060  IP_3579794    male        70.0                            na   \n",
       "1  ISIC_0052349  IP_7782715    male        40.0               lower extremity   \n",
       "2  ISIC_0058510  IP_7960270  female        55.0                         torso   \n",
       "3  ISIC_0073313  IP_6375035  female        50.0                         torso   \n",
       "4  ISIC_0073502  IP_0589375  female        45.0               lower extremity   \n",
       "\n",
       "   sex_isnan  age_approx_isnan  anatom_site_general_challenge_isnan  \n",
       "0      False             False                                 True  \n",
       "1      False             False                                False  \n",
       "2      False             False                                False  \n",
       "3      False             False                                False  \n",
       "4      False             False                                False  "
      ]
     },
     "execution_count": 11,
     "metadata": {},
     "output_type": "execute_result"
    }
   ],
   "source": [
    "test_TD.head()"
   ]
  },
  {
   "cell_type": "code",
   "execution_count": 12,
   "metadata": {},
   "outputs": [
    {
     "data": {
      "text/html": [
       "<div>\n",
       "<style scoped>\n",
       "    .dataframe tbody tr th:only-of-type {\n",
       "        vertical-align: middle;\n",
       "    }\n",
       "\n",
       "    .dataframe tbody tr th {\n",
       "        vertical-align: top;\n",
       "    }\n",
       "\n",
       "    .dataframe thead th {\n",
       "        text-align: right;\n",
       "    }\n",
       "</style>\n",
       "<table border=\"1\" class=\"dataframe\">\n",
       "  <thead>\n",
       "    <tr style=\"text-align: right;\">\n",
       "      <th></th>\n",
       "      <th>image_name</th>\n",
       "      <th>patient_id</th>\n",
       "      <th>sex</th>\n",
       "      <th>age_approx</th>\n",
       "      <th>anatom_site_general_challenge</th>\n",
       "      <th>diagnosis</th>\n",
       "      <th>benign_malignant</th>\n",
       "      <th>target</th>\n",
       "      <th>sex_isnan</th>\n",
       "      <th>age_approx_isnan</th>\n",
       "      <th>anatom_site_general_challenge_isnan</th>\n",
       "    </tr>\n",
       "  </thead>\n",
       "  <tbody>\n",
       "    <tr>\n",
       "      <th>0</th>\n",
       "      <td>ISIC_0452656</td>\n",
       "      <td>IP_3858753</td>\n",
       "      <td>male</td>\n",
       "      <td>35.0</td>\n",
       "      <td>upper extremity</td>\n",
       "      <td>unknown</td>\n",
       "      <td>benign</td>\n",
       "      <td>0</td>\n",
       "      <td>False</td>\n",
       "      <td>False</td>\n",
       "      <td>False</td>\n",
       "    </tr>\n",
       "    <tr>\n",
       "      <th>1</th>\n",
       "      <td>ISIC_0507189</td>\n",
       "      <td>IP_3858753</td>\n",
       "      <td>male</td>\n",
       "      <td>40.0</td>\n",
       "      <td>lower extremity</td>\n",
       "      <td>unknown</td>\n",
       "      <td>benign</td>\n",
       "      <td>0</td>\n",
       "      <td>False</td>\n",
       "      <td>False</td>\n",
       "      <td>False</td>\n",
       "    </tr>\n",
       "    <tr>\n",
       "      <th>2</th>\n",
       "      <td>ISIC_1144286</td>\n",
       "      <td>IP_3858753</td>\n",
       "      <td>male</td>\n",
       "      <td>40.0</td>\n",
       "      <td>torso</td>\n",
       "      <td>unknown</td>\n",
       "      <td>benign</td>\n",
       "      <td>0</td>\n",
       "      <td>False</td>\n",
       "      <td>False</td>\n",
       "      <td>False</td>\n",
       "    </tr>\n",
       "    <tr>\n",
       "      <th>3</th>\n",
       "      <td>ISIC_1199236</td>\n",
       "      <td>IP_3858753</td>\n",
       "      <td>male</td>\n",
       "      <td>40.0</td>\n",
       "      <td>torso</td>\n",
       "      <td>unknown</td>\n",
       "      <td>benign</td>\n",
       "      <td>0</td>\n",
       "      <td>False</td>\n",
       "      <td>False</td>\n",
       "      <td>False</td>\n",
       "    </tr>\n",
       "    <tr>\n",
       "      <th>4</th>\n",
       "      <td>ISIC_1303205</td>\n",
       "      <td>IP_3858753</td>\n",
       "      <td>male</td>\n",
       "      <td>40.0</td>\n",
       "      <td>torso</td>\n",
       "      <td>unknown</td>\n",
       "      <td>benign</td>\n",
       "      <td>0</td>\n",
       "      <td>False</td>\n",
       "      <td>False</td>\n",
       "      <td>False</td>\n",
       "    </tr>\n",
       "  </tbody>\n",
       "</table>\n",
       "</div>"
      ],
      "text/plain": [
       "     image_name  patient_id   sex  age_approx anatom_site_general_challenge  \\\n",
       "0  ISIC_0452656  IP_3858753  male        35.0               upper extremity   \n",
       "1  ISIC_0507189  IP_3858753  male        40.0               lower extremity   \n",
       "2  ISIC_1144286  IP_3858753  male        40.0                         torso   \n",
       "3  ISIC_1199236  IP_3858753  male        40.0                         torso   \n",
       "4  ISIC_1303205  IP_3858753  male        40.0                         torso   \n",
       "\n",
       "  diagnosis benign_malignant  target  sex_isnan  age_approx_isnan  \\\n",
       "0   unknown           benign       0      False             False   \n",
       "1   unknown           benign       0      False             False   \n",
       "2   unknown           benign       0      False             False   \n",
       "3   unknown           benign       0      False             False   \n",
       "4   unknown           benign       0      False             False   \n",
       "\n",
       "   anatom_site_general_challenge_isnan  \n",
       "0                                False  \n",
       "1                                False  \n",
       "2                                False  \n",
       "3                                False  \n",
       "4                                False  "
      ]
     },
     "execution_count": 12,
     "metadata": {},
     "output_type": "execute_result"
    }
   ],
   "source": [
    "metaval_TD.head()"
   ]
  },
  {
   "cell_type": "code",
   "execution_count": 13,
   "metadata": {},
   "outputs": [
    {
     "name": "stdout",
     "output_type": "stream",
     "text": [
      "(24811, 9)\n",
      "(10982, 8)\n",
      "(8315, 11)\n"
     ]
    }
   ],
   "source": [
    "print(train_TD.dropna(how='any').shape)\n",
    "print(test_TD.dropna(how='any').shape)\n",
    "print(metaval_TD.dropna(how='any').shape)"
   ]
  },
  {
   "cell_type": "code",
   "execution_count": 14,
   "metadata": {},
   "outputs": [],
   "source": [
    "feature_name =  ['image_name','patient_id','sex','anatom_site_general_challenge']\n",
    "#feature_name =  ['image_name','sex','anatom_site_general_challenge']\n",
    "train_TD, test_TD, metaval_TD = Label_encode(train_TD, test_TD, metaval_TD,  feature_name)"
   ]
  },
  {
   "cell_type": "code",
   "execution_count": 15,
   "metadata": {},
   "outputs": [],
   "source": [
    "X = train_TD.drop(['image_name','target'], axis=1)\n",
    "y = train_TD['target']\n",
    "X_test = test_TD.drop(['image_name'], axis=1)\n",
    "X_metaval = metaval_TD.drop(['image_name'], axis=1)"
   ]
  },
  {
   "cell_type": "code",
   "execution_count": 16,
   "metadata": {},
   "outputs": [
    {
     "data": {
      "text/html": [
       "<div>\n",
       "<style scoped>\n",
       "    .dataframe tbody tr th:only-of-type {\n",
       "        vertical-align: middle;\n",
       "    }\n",
       "\n",
       "    .dataframe tbody tr th {\n",
       "        vertical-align: top;\n",
       "    }\n",
       "\n",
       "    .dataframe thead th {\n",
       "        text-align: right;\n",
       "    }\n",
       "</style>\n",
       "<table border=\"1\" class=\"dataframe\">\n",
       "  <thead>\n",
       "    <tr style=\"text-align: right;\">\n",
       "      <th></th>\n",
       "      <th>patient_id</th>\n",
       "      <th>sex</th>\n",
       "      <th>age_approx</th>\n",
       "      <th>anatom_site_general_challenge</th>\n",
       "      <th>sex_isnan</th>\n",
       "      <th>age_approx_isnan</th>\n",
       "      <th>anatom_site_general_challenge_isnan</th>\n",
       "    </tr>\n",
       "  </thead>\n",
       "  <tbody>\n",
       "    <tr>\n",
       "      <th>0</th>\n",
       "      <td>1943</td>\n",
       "      <td>1</td>\n",
       "      <td>45.0</td>\n",
       "      <td>0</td>\n",
       "      <td>False</td>\n",
       "      <td>False</td>\n",
       "      <td>False</td>\n",
       "    </tr>\n",
       "    <tr>\n",
       "      <th>1</th>\n",
       "      <td>803</td>\n",
       "      <td>0</td>\n",
       "      <td>45.0</td>\n",
       "      <td>6</td>\n",
       "      <td>False</td>\n",
       "      <td>False</td>\n",
       "      <td>False</td>\n",
       "    </tr>\n",
       "    <tr>\n",
       "      <th>2</th>\n",
       "      <td>733</td>\n",
       "      <td>0</td>\n",
       "      <td>50.0</td>\n",
       "      <td>1</td>\n",
       "      <td>False</td>\n",
       "      <td>False</td>\n",
       "      <td>False</td>\n",
       "    </tr>\n",
       "    <tr>\n",
       "      <th>3</th>\n",
       "      <td>1846</td>\n",
       "      <td>0</td>\n",
       "      <td>45.0</td>\n",
       "      <td>0</td>\n",
       "      <td>False</td>\n",
       "      <td>False</td>\n",
       "      <td>False</td>\n",
       "    </tr>\n",
       "    <tr>\n",
       "      <th>4</th>\n",
       "      <td>2368</td>\n",
       "      <td>0</td>\n",
       "      <td>55.0</td>\n",
       "      <td>6</td>\n",
       "      <td>False</td>\n",
       "      <td>False</td>\n",
       "      <td>False</td>\n",
       "    </tr>\n",
       "  </tbody>\n",
       "</table>\n",
       "</div>"
      ],
      "text/plain": [
       "   patient_id  sex  age_approx  anatom_site_general_challenge  sex_isnan  \\\n",
       "0        1943    1        45.0                              0      False   \n",
       "1         803    0        45.0                              6      False   \n",
       "2         733    0        50.0                              1      False   \n",
       "3        1846    0        45.0                              0      False   \n",
       "4        2368    0        55.0                              6      False   \n",
       "\n",
       "   age_approx_isnan  anatom_site_general_challenge_isnan  \n",
       "0             False                                False  \n",
       "1             False                                False  \n",
       "2             False                                False  \n",
       "3             False                                False  \n",
       "4             False                                False  "
      ]
     },
     "execution_count": 16,
     "metadata": {},
     "output_type": "execute_result"
    }
   ],
   "source": [
    "X.head()"
   ]
  },
  {
   "cell_type": "code",
   "execution_count": 17,
   "metadata": {},
   "outputs": [
    {
     "data": {
      "text/plain": [
       "0    0\n",
       "1    0\n",
       "2    0\n",
       "3    0\n",
       "4    0\n",
       "Name: target, dtype: int64"
      ]
     },
     "execution_count": 17,
     "metadata": {},
     "output_type": "execute_result"
    }
   ],
   "source": [
    "y.head()"
   ]
  },
  {
   "cell_type": "code",
   "execution_count": 18,
   "metadata": {},
   "outputs": [
    {
     "data": {
      "text/html": [
       "<div>\n",
       "<style scoped>\n",
       "    .dataframe tbody tr th:only-of-type {\n",
       "        vertical-align: middle;\n",
       "    }\n",
       "\n",
       "    .dataframe tbody tr th {\n",
       "        vertical-align: top;\n",
       "    }\n",
       "\n",
       "    .dataframe thead th {\n",
       "        text-align: right;\n",
       "    }\n",
       "</style>\n",
       "<table border=\"1\" class=\"dataframe\">\n",
       "  <thead>\n",
       "    <tr style=\"text-align: right;\">\n",
       "      <th></th>\n",
       "      <th>patient_id</th>\n",
       "      <th>sex</th>\n",
       "      <th>age_approx</th>\n",
       "      <th>anatom_site_general_challenge</th>\n",
       "      <th>sex_isnan</th>\n",
       "      <th>age_approx_isnan</th>\n",
       "      <th>anatom_site_general_challenge_isnan</th>\n",
       "    </tr>\n",
       "  </thead>\n",
       "  <tbody>\n",
       "    <tr>\n",
       "      <th>0</th>\n",
       "      <td>949</td>\n",
       "      <td>1</td>\n",
       "      <td>70.0</td>\n",
       "      <td>2</td>\n",
       "      <td>False</td>\n",
       "      <td>False</td>\n",
       "      <td>True</td>\n",
       "    </tr>\n",
       "    <tr>\n",
       "      <th>1</th>\n",
       "      <td>2092</td>\n",
       "      <td>1</td>\n",
       "      <td>40.0</td>\n",
       "      <td>1</td>\n",
       "      <td>False</td>\n",
       "      <td>False</td>\n",
       "      <td>False</td>\n",
       "    </tr>\n",
       "    <tr>\n",
       "      <th>2</th>\n",
       "      <td>2140</td>\n",
       "      <td>0</td>\n",
       "      <td>55.0</td>\n",
       "      <td>5</td>\n",
       "      <td>False</td>\n",
       "      <td>False</td>\n",
       "      <td>False</td>\n",
       "    </tr>\n",
       "    <tr>\n",
       "      <th>3</th>\n",
       "      <td>1698</td>\n",
       "      <td>0</td>\n",
       "      <td>50.0</td>\n",
       "      <td>5</td>\n",
       "      <td>False</td>\n",
       "      <td>False</td>\n",
       "      <td>False</td>\n",
       "    </tr>\n",
       "    <tr>\n",
       "      <th>4</th>\n",
       "      <td>134</td>\n",
       "      <td>0</td>\n",
       "      <td>45.0</td>\n",
       "      <td>1</td>\n",
       "      <td>False</td>\n",
       "      <td>False</td>\n",
       "      <td>False</td>\n",
       "    </tr>\n",
       "  </tbody>\n",
       "</table>\n",
       "</div>"
      ],
      "text/plain": [
       "   patient_id  sex  age_approx  anatom_site_general_challenge  sex_isnan  \\\n",
       "0         949    1        70.0                              2      False   \n",
       "1        2092    1        40.0                              1      False   \n",
       "2        2140    0        55.0                              5      False   \n",
       "3        1698    0        50.0                              5      False   \n",
       "4         134    0        45.0                              1      False   \n",
       "\n",
       "   age_approx_isnan  anatom_site_general_challenge_isnan  \n",
       "0             False                                 True  \n",
       "1             False                                False  \n",
       "2             False                                False  \n",
       "3             False                                False  \n",
       "4             False                                False  "
      ]
     },
     "execution_count": 18,
     "metadata": {},
     "output_type": "execute_result"
    }
   ],
   "source": [
    "X_test.head()"
   ]
  },
  {
   "cell_type": "code",
   "execution_count": 19,
   "metadata": {},
   "outputs": [
    {
     "data": {
      "text/html": [
       "<div>\n",
       "<style scoped>\n",
       "    .dataframe tbody tr th:only-of-type {\n",
       "        vertical-align: middle;\n",
       "    }\n",
       "\n",
       "    .dataframe tbody tr th {\n",
       "        vertical-align: top;\n",
       "    }\n",
       "\n",
       "    .dataframe thead th {\n",
       "        text-align: right;\n",
       "    }\n",
       "</style>\n",
       "<table border=\"1\" class=\"dataframe\">\n",
       "  <thead>\n",
       "    <tr style=\"text-align: right;\">\n",
       "      <th></th>\n",
       "      <th>patient_id</th>\n",
       "      <th>sex</th>\n",
       "      <th>age_approx</th>\n",
       "      <th>anatom_site_general_challenge</th>\n",
       "      <th>diagnosis</th>\n",
       "      <th>benign_malignant</th>\n",
       "      <th>target</th>\n",
       "      <th>sex_isnan</th>\n",
       "      <th>age_approx_isnan</th>\n",
       "      <th>anatom_site_general_challenge_isnan</th>\n",
       "    </tr>\n",
       "  </thead>\n",
       "  <tbody>\n",
       "    <tr>\n",
       "      <th>0</th>\n",
       "      <td>1031</td>\n",
       "      <td>1</td>\n",
       "      <td>35.0</td>\n",
       "      <td>6</td>\n",
       "      <td>unknown</td>\n",
       "      <td>benign</td>\n",
       "      <td>0</td>\n",
       "      <td>False</td>\n",
       "      <td>False</td>\n",
       "      <td>False</td>\n",
       "    </tr>\n",
       "    <tr>\n",
       "      <th>1</th>\n",
       "      <td>1031</td>\n",
       "      <td>1</td>\n",
       "      <td>40.0</td>\n",
       "      <td>1</td>\n",
       "      <td>unknown</td>\n",
       "      <td>benign</td>\n",
       "      <td>0</td>\n",
       "      <td>False</td>\n",
       "      <td>False</td>\n",
       "      <td>False</td>\n",
       "    </tr>\n",
       "    <tr>\n",
       "      <th>2</th>\n",
       "      <td>1031</td>\n",
       "      <td>1</td>\n",
       "      <td>40.0</td>\n",
       "      <td>5</td>\n",
       "      <td>unknown</td>\n",
       "      <td>benign</td>\n",
       "      <td>0</td>\n",
       "      <td>False</td>\n",
       "      <td>False</td>\n",
       "      <td>False</td>\n",
       "    </tr>\n",
       "    <tr>\n",
       "      <th>3</th>\n",
       "      <td>1031</td>\n",
       "      <td>1</td>\n",
       "      <td>40.0</td>\n",
       "      <td>5</td>\n",
       "      <td>unknown</td>\n",
       "      <td>benign</td>\n",
       "      <td>0</td>\n",
       "      <td>False</td>\n",
       "      <td>False</td>\n",
       "      <td>False</td>\n",
       "    </tr>\n",
       "    <tr>\n",
       "      <th>4</th>\n",
       "      <td>1031</td>\n",
       "      <td>1</td>\n",
       "      <td>40.0</td>\n",
       "      <td>5</td>\n",
       "      <td>unknown</td>\n",
       "      <td>benign</td>\n",
       "      <td>0</td>\n",
       "      <td>False</td>\n",
       "      <td>False</td>\n",
       "      <td>False</td>\n",
       "    </tr>\n",
       "  </tbody>\n",
       "</table>\n",
       "</div>"
      ],
      "text/plain": [
       "   patient_id  sex  age_approx  anatom_site_general_challenge diagnosis  \\\n",
       "0        1031    1        35.0                              6   unknown   \n",
       "1        1031    1        40.0                              1   unknown   \n",
       "2        1031    1        40.0                              5   unknown   \n",
       "3        1031    1        40.0                              5   unknown   \n",
       "4        1031    1        40.0                              5   unknown   \n",
       "\n",
       "  benign_malignant  target  sex_isnan  age_approx_isnan  \\\n",
       "0           benign       0      False             False   \n",
       "1           benign       0      False             False   \n",
       "2           benign       0      False             False   \n",
       "3           benign       0      False             False   \n",
       "4           benign       0      False             False   \n",
       "\n",
       "   anatom_site_general_challenge_isnan  \n",
       "0                                False  \n",
       "1                                False  \n",
       "2                                False  \n",
       "3                                False  \n",
       "4                                False  "
      ]
     },
     "execution_count": 19,
     "metadata": {},
     "output_type": "execute_result"
    }
   ],
   "source": [
    "X_metaval.head()"
   ]
  },
  {
   "cell_type": "markdown",
   "metadata": {},
   "source": [
    "__model__"
   ]
  },
  {
   "cell_type": "code",
   "execution_count": 20,
   "metadata": {},
   "outputs": [],
   "source": [
    "from sklearn import metrics\n",
    "import lightgbm as lgb\n",
    "import xgboost as xgb\n",
    "from catboost import CatBoostRegressor\n",
    "import time\n",
    "import seaborn as sns\n",
    "from sklearn.svm import SVC"
   ]
  },
  {
   "cell_type": "code",
   "execution_count": 21,
   "metadata": {},
   "outputs": [],
   "source": [
    "def train_model_classification(X, X_test, X_metaval, y, params, folds, model_type='lgb', eval_metric='auc', columns=None, \n",
    "                               plot_feature_importance=False, model=None, verbose=10000, early_stopping_rounds=200, n_estimators=50000):\n",
    "    \"\"\"\n",
    "    A function to train a variety of classification models.\n",
    "    Returns dictionary with oof predictions, test predictions, scores and, if necessary, feature importances.\n",
    "    \n",
    "    :params: X - training data, can be pd.DataFrame or np.ndarray (after normalizing)\n",
    "    :params: X_test - test data, can be pd.DataFrame or np.ndarray (after normalizing)\n",
    "    :params: y - target\n",
    "    :params: folds - folds to split data\n",
    "    :params: model_type - type of model to use\n",
    "    :params: eval_metric - metric to use\n",
    "    :params: columns - columns to use. If None - use all columns\n",
    "    :params: plot_feature_importance - whether to plot feature importance of LGB\n",
    "    :params: model - sklearn model, works only for \"sklearn\" model type\n",
    "    :params: verbose - parameters for gradient boosting models\n",
    "    :params: early_stopping_rounds - parameters for gradient boosting models\n",
    "    :params: n_estimators - parameters for gradient boosting models\n",
    "    \n",
    "    \"\"\"\n",
    "    columns = X.columns if columns == None else columns\n",
    "    X_test = X_test[columns]\n",
    "    X_metaval = X_metaval[columns]\n",
    "    \n",
    "    # to set up scoring parameters\n",
    "    metrics_dict = {'auc': {'lgb_metric_name': 'auc',\n",
    "                        'catboost_metric_name': 'AUC',\n",
    "                        'sklearn_scoring_function': metrics.roc_auc_score},\n",
    "                    }\n",
    "    \n",
    "    result_dict = {}\n",
    "    \n",
    "    # out-of-fold predictions on train data\n",
    "    oof = np.zeros((len(X), len(set(y.values))))\n",
    "    \n",
    "    # averaged predictions on train data\n",
    "    prediction = np.zeros((len(X_test), oof.shape[1]))\n",
    "    prediction_MV = np.zeros((len(X_metaval), oof.shape[1]))\n",
    "    \n",
    "    # list of scores on folds\n",
    "    scores = []\n",
    "    feature_importance = pd.DataFrame()\n",
    "    \n",
    "    # split and train on folds\n",
    "    for fold_n, (train_index, valid_index) in enumerate(folds.split(X)):\n",
    "        print(f'Fold {fold_n + 1} started at {time.ctime()}')\n",
    "        if type(X) == np.ndarray:\n",
    "            X_train, X_valid = X[columns][train_index], X[columns][valid_index]\n",
    "            y_train, y_valid = y[train_index], y[valid_index]\n",
    "        else:\n",
    "            X_train, X_valid = X[columns].iloc[train_index], X[columns].iloc[valid_index]\n",
    "            y_train, y_valid = y.iloc[train_index], y.iloc[valid_index]\n",
    "            \n",
    "        if model_type == 'lgb':\n",
    "            model = lgb.LGBMClassifier(**params, n_estimators=n_estimators, n_jobs = -1)\n",
    "            model.fit(X_train, y_train, \n",
    "                    eval_set=[(X_train, y_train), (X_valid, y_valid)], eval_metric=metrics_dict[eval_metric]['lgb_metric_name'],\n",
    "                    verbose=verbose, early_stopping_rounds=early_stopping_rounds)\n",
    "            \n",
    "            y_pred_valid = model.predict_proba(X_valid, num_iteration=model.best_iteration_)\n",
    "            y_pred = model.predict_proba(X_test, num_iteration=model.best_iteration_)\n",
    "            y_pred_MV = model.predict_proba(X_metaval, num_iteration=model.best_iteration_)\n",
    "            \n",
    "        if model_type == 'xgb':\n",
    "            train_data = xgb.DMatrix(data=X_train, label=y_train, feature_names=X.columns)\n",
    "            valid_data = xgb.DMatrix(data=X_valid, label=y_valid, feature_names=X.columns)\n",
    "\n",
    "            watchlist = [(train_data, 'train'), (valid_data, 'valid_data')]\n",
    "            model = xgb.train(dtrain=train_data, num_boost_round=n_estimators, evals=watchlist, early_stopping_rounds=early_stopping_rounds, verbose_eval=verbose, params=params)\n",
    "            y_pred_valid = model.predict(xgb.DMatrix(X_valid, feature_names=X.columns), ntree_limit=model.best_ntree_limit)\n",
    "            y_pred = model.predict(xgb.DMatrix(X_test, feature_names=X.columns), ntree_limit=model.best_ntree_limit)\n",
    "            y_pred_MV = model.predict(xgb.DMatrix(X_metaval, feature_names=X.columns), ntree_limit=model.best_ntree_limit)\n",
    "        \n",
    "        if model_type == 'sklearn':\n",
    "            model = model\n",
    "            model.fit(X_train, y_train)\n",
    "            \n",
    "            y_pred_valid = model.predict_proba(X_valid)#.reshape(-1,)\n",
    "            #print(len(y_pred_valid))\n",
    "            #print(len(y_valid))\n",
    "            #print(y_pred_valid)\n",
    "            #print(y_valid)\n",
    "            score = metrics_dict[eval_metric]['sklearn_scoring_function'](y_valid, y_pred_valid[:, 1])\n",
    "            print(f'Fold {fold_n + 1}. {eval_metric}: {score:.4f}.')\n",
    "            print('')\n",
    "            \n",
    "            y_pred = model.predict_proba(X_test)\n",
    "            y_pred_MV = model.predict_proba(X_metaval)\n",
    "        \n",
    "        if model_type == 'cat':\n",
    "            model = CatBoostClassifier(iterations=n_estimators, eval_metric=metrics_dict[eval_metric]['catboost_metric_name'], **params,\n",
    "                                      loss_function=metrics_dict[eval_metric]['catboost_metric_name'])\n",
    "            model.fit(X_train, y_train, eval_set=(X_valid, y_valid), cat_features=[], use_best_model=True, verbose=False)\n",
    "\n",
    "            y_pred_valid = model.predict(X_valid)\n",
    "            y_pred = model.predict(X_test)\n",
    "            y_pred_MV = model.predict(X_metaval)\n",
    "        \n",
    "        #print(oof.shape)\n",
    "        #print(oof[valid_index])\n",
    "        oof[valid_index] = y_pred_valid\n",
    "        scores.append(metrics_dict[eval_metric]['sklearn_scoring_function'](y_valid, y_pred_valid[:, 1]))#0 or 1の問題にしか対応してない\n",
    "\n",
    "        prediction += y_pred    \n",
    "        prediction_MV += y_pred_MV    \n",
    "        \n",
    "        if model_type == 'lgb' and plot_feature_importance:\n",
    "            # feature importance\n",
    "            fold_importance = pd.DataFrame()\n",
    "            fold_importance[\"feature\"] = columns\n",
    "            fold_importance[\"importance\"] = model.feature_importances_\n",
    "            fold_importance[\"fold\"] = fold_n + 1\n",
    "            feature_importance = pd.concat([feature_importance, fold_importance], axis=0)\n",
    "\n",
    "    prediction /= folds.n_splits\n",
    "    prediction_MV /= folds.n_splits\n",
    "    \n",
    "    print('CV mean score: {0:.4f}, std: {1:.4f}.'.format(np.mean(scores), np.std(scores)))\n",
    "    \n",
    "    result_dict['oof'] = oof\n",
    "    result_dict['prediction'] = prediction\n",
    "    result_dict['prediction_MV'] = prediction_MV\n",
    "    result_dict['scores'] = scores\n",
    "    \n",
    "    if model_type == 'lgb':\n",
    "        if plot_feature_importance:\n",
    "            feature_importance[\"importance\"] /= folds.n_splits\n",
    "            cols = feature_importance[[\"feature\", \"importance\"]].groupby(\"feature\").mean().sort_values(\n",
    "                by=\"importance\", ascending=False)[:50].index\n",
    "\n",
    "            best_features = feature_importance.loc[feature_importance.feature.isin(cols)]\n",
    "\n",
    "            plt.figure(figsize=(16, 12));\n",
    "            sns.barplot(x=\"importance\", y=\"feature\", data=best_features.sort_values(by=\"importance\", ascending=False));\n",
    "            plt.title('LGB Features (avg over folds)');\n",
    "            \n",
    "            result_dict['feature_importance'] = feature_importance\n",
    "        \n",
    "    return result_dict\n"
   ]
  },
  {
   "cell_type": "markdown",
   "metadata": {},
   "source": [
    "__run__"
   ]
  },
  {
   "cell_type": "code",
   "execution_count": 22,
   "metadata": {},
   "outputs": [],
   "source": [
    "from sklearn.model_selection import StratifiedKFold, KFold, RepeatedKFold"
   ]
  },
  {
   "cell_type": "code",
   "execution_count": 28,
   "metadata": {
    "scrolled": false
   },
   "outputs": [
    {
     "name": "stdout",
     "output_type": "stream",
     "text": [
      "Fold 1 started at Thu Jul 16 07:14:35 2020\n",
      "Training until validation scores don't improve for 200 rounds.\n",
      "Early stopping, best iteration is:\n",
      "[87]\ttraining's auc: 0.82674\ttraining's binary_logloss: 0.0792209\tvalid_1's auc: 0.750999\tvalid_1's binary_logloss: 0.072215\n",
      "Fold 2 started at Thu Jul 16 07:14:36 2020\n",
      "Training until validation scores don't improve for 200 rounds.\n",
      "Early stopping, best iteration is:\n",
      "[286]\ttraining's auc: 0.909817\ttraining's binary_logloss: 0.0678287\tvalid_1's auc: 0.707223\tvalid_1's binary_logloss: 0.076834\n",
      "Fold 3 started at Thu Jul 16 07:14:37 2020\n",
      "Training until validation scores don't improve for 200 rounds.\n",
      "Early stopping, best iteration is:\n",
      "[437]\ttraining's auc: 0.941192\ttraining's binary_logloss: 0.0626433\tvalid_1's auc: 0.750734\tvalid_1's binary_logloss: 0.0798121\n",
      "Fold 4 started at Thu Jul 16 07:14:38 2020\n",
      "Training until validation scores don't improve for 200 rounds.\n",
      "Early stopping, best iteration is:\n",
      "[306]\ttraining's auc: 0.921827\ttraining's binary_logloss: 0.0632298\tvalid_1's auc: 0.718889\tvalid_1's binary_logloss: 0.0914111\n",
      "Fold 5 started at Thu Jul 16 07:14:39 2020\n",
      "Training until validation scores don't improve for 200 rounds.\n",
      "Early stopping, best iteration is:\n",
      "[91]\ttraining's auc: 0.838612\ttraining's binary_logloss: 0.0739576\tvalid_1's auc: 0.725226\tvalid_1's binary_logloss: 0.0909489\n",
      "CV mean score: 0.7306, std: 0.0175.\n"
     ]
    },
    {
     "name": "stderr",
     "output_type": "stream",
     "text": [
      "100%|██████████| 273k/273k [00:04<00:00, 59.4kB/s] \n"
     ]
    },
    {
     "name": "stdout",
     "output_type": "stream",
     "text": [
      "CPU times: user 1min 10s, sys: 166 ms, total: 1min 10s\n",
      "Wall time: 10.3 s\n"
     ]
    },
    {
     "data": {
      "text/plain": [
       "Successfully submitted to SIIM-ISIC Melanoma Classification"
      ]
     },
     "execution_count": 28,
     "metadata": {},
     "output_type": "execute_result"
    },
    {
     "data": {
      "image/png": "[encoded data removed]",
      "text/plain": [
       "<Figure size 1152x864 with 1 Axes>"
      ]
     },
     "metadata": {
      "needs_background": "light"
     },
     "output_type": "display_data"
    }
   ],
   "source": [
    "%%time\n",
    "\n",
    "#交差検証\n",
    "n_fold = 5\n",
    "folds = KFold(n_splits=n_fold, shuffle=True, random_state=11)\n",
    "m_type = \"lgb\"\n",
    "\n",
    "params = {\"boosting_type\": \"gbdt\",\n",
    "          \"learning_rate\": 0.01,\n",
    "          #'max_depth': 7,\n",
    "          #'num_leaves': 31,\n",
    "          \"subsample_freq\": 1,\n",
    "          \"subsample\": 0.9,\n",
    "          #'reg_alpha': 0,\n",
    "          #'reg_lambda': 0,\n",
    "         }\n",
    "\n",
    "#lgb(決定木)で学習実行\n",
    "result_dict = train_model_classification(X=X, X_test=X_test, X_metaval=X_metaval, y=y, params=params, folds=folds, model_type=m_type, eval_metric='auc',\n",
    "                                         plot_feature_importance=True, verbose=1000, early_stopping_rounds=200, n_estimators=10000)\n",
    "\n",
    "csv_file_path = Output + 'test/sub_test_' + m_type + '.csv'\n",
    "sub_TD = pd.read_csv(SIIM_ISIC_Melanoma_Classification + 'sample_submission.csv')\n",
    "sub_metaval_TD = pd.read_csv(SIIM_ISIC_Melanoma_Classification + 'sample_sub_metaval.csv')\n",
    "\n",
    "sub_TD.target = result_dict[\"prediction\"][:,1]\n",
    "sub_TD.to_csv(Output + 'test/sub_test_' + m_type + '.csv', index=False)\n",
    "sub_metaval_TD.target = result_dict[\"prediction_MV\"][:,1]\n",
    "sub_metaval_TD.to_csv(csv_file_path, index=False)\n",
    "\n",
    "#test用submit\n",
    "api = KaggleApi()\n",
    "api.authenticate()  # 認証を通す\n",
    "message = 'TDprocessing ' + m_type\n",
    "competition_id = 'siim-isic-melanoma-classification'\n",
    "api.competition_submit(csv_file_path, message, competition_id)"
   ]
  },
  {
   "cell_type": "code",
   "execution_count": 29,
   "metadata": {},
   "outputs": [
    {
     "name": "stdout",
     "output_type": "stream",
     "text": [
      "Fold 1 started at Thu Jul 16 07:14:48 2020\n",
      "Fold 1. auc: 0.6401.\n",
      "\n",
      "Fold 2 started at Thu Jul 16 07:15:16 2020\n",
      "Fold 2. auc: 0.6366.\n",
      "\n",
      "Fold 3 started at Thu Jul 16 07:15:44 2020\n",
      "Fold 3. auc: 0.7060.\n",
      "\n",
      "Fold 4 started at Thu Jul 16 07:16:12 2020\n",
      "Fold 4. auc: 0.6447.\n",
      "\n",
      "Fold 5 started at Thu Jul 16 07:16:39 2020\n",
      "Fold 5. auc: 0.6833.\n",
      "\n",
      "CV mean score: 0.6622, std: 0.0276.\n",
      "CPU times: user 2min 19s, sys: 161 ms, total: 2min 20s\n",
      "Wall time: 2min 19s\n"
     ]
    }
   ],
   "source": [
    "%%time\n",
    "\n",
    "#交差検証\n",
    "n_fold = 5\n",
    "folds = KFold(n_splits=n_fold, shuffle=True, random_state=11)\n",
    "m_type = \"sklearn\"\n",
    "\n",
    "params = None\n",
    "C = 1\n",
    "gamma = 'auto'\n",
    "\n",
    "#support vector machine\n",
    "model = SVC(C=C, gamma=gamma, probability=True)\n",
    "\n",
    "result_dict_lgb = train_model_classification(X=X, X_test=X_test, X_metaval=X_metaval, y=y, params=params, folds=folds, model_type=m_type, eval_metric='auc',\n",
    "                                         plot_feature_importance=True, verbose=1000, early_stopping_rounds=200, n_estimators=10000, model = model)\n",
    "\n",
    "sub_TD = pd.read_csv(SIIM_ISIC_Melanoma_Classification + 'sample_submission.csv')\n",
    "sub_metaval_TD = pd.read_csv(SIIM_ISIC_Melanoma_Classification + 'sample_sub_metaval.csv')\n",
    "\n",
    "sub_TD.target = result_dict[\"prediction\"][:,1]\n",
    "sub_TD.to_csv(Output + 'test/sub_test_' + m_type + '.csv', index=False)\n",
    "sub_metaval_TD.target = result_dict[\"prediction_MV\"][:,1]\n",
    "sub_metaval_TD.to_csv(Output + 'metaval/sub_metaval_' + m_type + '.csv', index=False)\n",
    "\n",
    "#test用submit\n",
    "api = KaggleApi()\n",
    "api.authenticate()  # 認証を通す\n",
    "message = 'TDprocessing ' + m_type\n",
    "competition_id = 'siim-isic-melanoma-classification'\n",
    "api.competition_submit(csv_file_path, message, competition_id)"
   ]
  },
  {
   "cell_type": "code",
   "execution_count": 30,
   "metadata": {},
   "outputs": [
    {
     "name": "stderr",
     "output_type": "stream",
     "text": [
      "100%|██████████| 273k/273k [00:03<00:00, 83.5kB/s]\n"
     ]
    },
    {
     "data": {
      "text/plain": [
       "Successfully submitted to SIIM-ISIC Melanoma Classification"
      ]
     },
     "execution_count": 30,
     "metadata": {},
     "output_type": "execute_result"
    }
   ],
   "source": [
    "#test用submit\n",
    "api = KaggleApi()\n",
    "api.authenticate()  # 認証を通す\n",
    "message = 'TDprocessing ' + m_type\n",
    "competition_id = 'siim-isic-melanoma-classification'\n",
    "api.competition_submit(csv_file_path, message, competition_id)"
   ]
  },
  {
   "cell_type": "code",
   "execution_count": 45,
   "metadata": {
    "scrolled": false
   },
   "outputs": [
    {
     "name": "stdout",
     "output_type": "stream",
     "text": [
      "Fold 1 started at Mon Jul 13 06:46:03 2020\n",
      "Fold 0. auc: 0.6256.\n",
      "\n",
      "Fold 2 started at Mon Jul 13 06:46:31 2020\n",
      "Fold 1. auc: 0.6144.\n",
      "\n",
      "Fold 3 started at Mon Jul 13 06:46:59 2020\n",
      "Fold 2. auc: 0.7041.\n",
      "\n",
      "Fold 4 started at Mon Jul 13 06:47:26 2020\n",
      "Fold 3. auc: 0.6097.\n",
      "\n",
      "Fold 5 started at Mon Jul 13 06:47:54 2020\n",
      "Fold 4. auc: 0.6736.\n",
      "\n",
      "CV mean score: 0.6455, std: 0.0371.\n",
      "CPU times: user 2min 17s, sys: 204 ms, total: 2min 18s\n",
      "Wall time: 2min 18s\n"
     ]
    }
   ],
   "source": [
    "%%time\n",
    "\n",
    "#交差検証\n",
    "n_fold = 5\n",
    "folds = KFold(n_splits=n_fold, shuffle=True, random_state=11)\n",
    "m_type = \"sklearn\"\n",
    "\n",
    "params = None\n",
    "C = 1\n",
    "gamma = 'auto'\n",
    "\n",
    "#support vector machine\n",
    "model = SVC(C=C, gamma=gamma, probability=True)\n",
    "\n",
    "result_dict_lgb = train_model_classification(X=X, X_test=X_test, y=y, params=params, folds=folds, model_type=m_type, eval_metric='auc',\n",
    "                                         plot_feature_importance=True, verbose=1000, early_stopping_rounds=200, n_estimators=10000, model = model)\n",
    "\n",
    "sub_TD.target = result_dict_lgb[\"prediction\"][:,1]\n",
    "sub_TD.to_csv(Output + 'metaval/sub_metaval_TD_' + m_type + 'SVC' + '.csv', index=False)"
   ]
  },
  {
   "cell_type": "code",
   "execution_count": 46,
   "metadata": {
    "scrolled": true
   },
   "outputs": [
    {
     "data": {
      "text/html": [
       "<div>\n",
       "<style scoped>\n",
       "    .dataframe tbody tr th:only-of-type {\n",
       "        vertical-align: middle;\n",
       "    }\n",
       "\n",
       "    .dataframe tbody tr th {\n",
       "        vertical-align: top;\n",
       "    }\n",
       "\n",
       "    .dataframe thead th {\n",
       "        text-align: right;\n",
       "    }\n",
       "</style>\n",
       "<table border=\"1\" class=\"dataframe\">\n",
       "  <thead>\n",
       "    <tr style=\"text-align: right;\">\n",
       "      <th></th>\n",
       "      <th>image_name</th>\n",
       "      <th>target</th>\n",
       "    </tr>\n",
       "  </thead>\n",
       "  <tbody>\n",
       "    <tr>\n",
       "      <th>0</th>\n",
       "      <td>ISIC_0452656</td>\n",
       "      <td>0.017848</td>\n",
       "    </tr>\n",
       "    <tr>\n",
       "      <th>1</th>\n",
       "      <td>ISIC_0507189</td>\n",
       "      <td>0.017295</td>\n",
       "    </tr>\n",
       "    <tr>\n",
       "      <th>2</th>\n",
       "      <td>ISIC_1144286</td>\n",
       "      <td>0.017221</td>\n",
       "    </tr>\n",
       "    <tr>\n",
       "      <th>3</th>\n",
       "      <td>ISIC_1199236</td>\n",
       "      <td>0.017221</td>\n",
       "    </tr>\n",
       "    <tr>\n",
       "      <th>4</th>\n",
       "      <td>ISIC_1303205</td>\n",
       "      <td>0.017221</td>\n",
       "    </tr>\n",
       "    <tr>\n",
       "      <th>5</th>\n",
       "      <td>ISIC_1321376</td>\n",
       "      <td>0.017221</td>\n",
       "    </tr>\n",
       "    <tr>\n",
       "      <th>6</th>\n",
       "      <td>ISIC_1469861</td>\n",
       "      <td>0.017295</td>\n",
       "    </tr>\n",
       "    <tr>\n",
       "      <th>7</th>\n",
       "      <td>ISIC_1763257</td>\n",
       "      <td>0.017295</td>\n",
       "    </tr>\n",
       "    <tr>\n",
       "      <th>8</th>\n",
       "      <td>ISIC_2005921</td>\n",
       "      <td>0.017221</td>\n",
       "    </tr>\n",
       "    <tr>\n",
       "      <th>9</th>\n",
       "      <td>ISIC_2361997</td>\n",
       "      <td>0.017221</td>\n",
       "    </tr>\n",
       "  </tbody>\n",
       "</table>\n",
       "</div>"
      ],
      "text/plain": [
       "     image_name    target\n",
       "0  ISIC_0452656  0.017848\n",
       "1  ISIC_0507189  0.017295\n",
       "2  ISIC_1144286  0.017221\n",
       "3  ISIC_1199236  0.017221\n",
       "4  ISIC_1303205  0.017221\n",
       "5  ISIC_1321376  0.017221\n",
       "6  ISIC_1469861  0.017295\n",
       "7  ISIC_1763257  0.017295\n",
       "8  ISIC_2005921  0.017221\n",
       "9  ISIC_2361997  0.017221"
      ]
     },
     "execution_count": 46,
     "metadata": {},
     "output_type": "execute_result"
    }
   ],
   "source": [
    "sub_TD.target = result_dict_lgb[\"prediction\"][:,1]\n",
    "sub_TD.head(10)"
   ]
  },
  {
   "cell_type": "code",
   "execution_count": 47,
   "metadata": {},
   "outputs": [
    {
     "data": {
      "text/plain": [
       "(8315, 2)"
      ]
     },
     "execution_count": 47,
     "metadata": {},
     "output_type": "execute_result"
    }
   ],
   "source": [
    "sub_TD.shape"
   ]
  },
  {
   "cell_type": "code",
   "execution_count": 48,
   "metadata": {},
   "outputs": [
    {
     "data": {
      "text/html": [
       "<div>\n",
       "<style scoped>\n",
       "    .dataframe tbody tr th:only-of-type {\n",
       "        vertical-align: middle;\n",
       "    }\n",
       "\n",
       "    .dataframe tbody tr th {\n",
       "        vertical-align: top;\n",
       "    }\n",
       "\n",
       "    .dataframe thead th {\n",
       "        text-align: right;\n",
       "    }\n",
       "</style>\n",
       "<table border=\"1\" class=\"dataframe\">\n",
       "  <thead>\n",
       "    <tr style=\"text-align: right;\">\n",
       "      <th></th>\n",
       "      <th>image_name</th>\n",
       "      <th>target</th>\n",
       "    </tr>\n",
       "  </thead>\n",
       "  <tbody>\n",
       "  </tbody>\n",
       "</table>\n",
       "</div>"
      ],
      "text/plain": [
       "Empty DataFrame\n",
       "Columns: [image_name, target]\n",
       "Index: []"
      ]
     },
     "execution_count": 48,
     "metadata": {},
     "output_type": "execute_result"
    }
   ],
   "source": [
    "sub_TD[sub_TD.target == 0]"
   ]
  },
  {
   "cell_type": "code",
   "execution_count": 49,
   "metadata": {},
   "outputs": [],
   "source": [
    "#table dataモデルのpred\n",
    "sub_TD.to_csv(Output + 'metaval/sub_metaval_TD_' + m_type + '.csv', index=False)\n",
    "\n",
    "#table dataモデルのみの投稿(基本はコメントアウトすること。)\n",
    "#sub_TD.to_csv(Output + 'submission.csv', index=False)\n"
   ]
  },
  {
   "cell_type": "markdown",
   "metadata": {},
   "source": [
    "## Ensemble(Meta model)部"
   ]
  },
  {
   "cell_type": "code",
   "execution_count": 39,
   "metadata": {},
   "outputs": [],
   "source": [
    "import pandas as pd\n",
    "import matplotlib.pyplot as plt"
   ]
  },
  {
   "cell_type": "code",
   "execution_count": 40,
   "metadata": {},
   "outputs": [
    {
     "data": {
      "text/html": [
       "<div>\n",
       "<style scoped>\n",
       "    .dataframe tbody tr th:only-of-type {\n",
       "        vertical-align: middle;\n",
       "    }\n",
       "\n",
       "    .dataframe tbody tr th {\n",
       "        vertical-align: top;\n",
       "    }\n",
       "\n",
       "    .dataframe thead th {\n",
       "        text-align: right;\n",
       "    }\n",
       "</style>\n",
       "<table border=\"1\" class=\"dataframe\">\n",
       "  <thead>\n",
       "    <tr style=\"text-align: right;\">\n",
       "      <th></th>\n",
       "      <th>image_name</th>\n",
       "      <th>target</th>\n",
       "    </tr>\n",
       "  </thead>\n",
       "  <tbody>\n",
       "    <tr>\n",
       "      <th>0</th>\n",
       "      <td>ISIC_0052060</td>\n",
       "      <td>0.054598</td>\n",
       "    </tr>\n",
       "    <tr>\n",
       "      <th>1</th>\n",
       "      <td>ISIC_0052349</td>\n",
       "      <td>0.035829</td>\n",
       "    </tr>\n",
       "    <tr>\n",
       "      <th>2</th>\n",
       "      <td>ISIC_0058510</td>\n",
       "      <td>0.009064</td>\n",
       "    </tr>\n",
       "    <tr>\n",
       "      <th>3</th>\n",
       "      <td>ISIC_0073313</td>\n",
       "      <td>0.008289</td>\n",
       "    </tr>\n",
       "    <tr>\n",
       "      <th>4</th>\n",
       "      <td>ISIC_0073502</td>\n",
       "      <td>0.006654</td>\n",
       "    </tr>\n",
       "  </tbody>\n",
       "</table>\n",
       "</div>"
      ],
      "text/plain": [
       "     image_name    target\n",
       "0  ISIC_0052060  0.054598\n",
       "1  ISIC_0052349  0.035829\n",
       "2  ISIC_0058510  0.009064\n",
       "3  ISIC_0073313  0.008289\n",
       "4  ISIC_0073502  0.006654"
      ]
     },
     "execution_count": 40,
     "metadata": {},
     "output_type": "execute_result"
    }
   ],
   "source": [
    "image_sub = pd.read_csv(Output + 'submission_ID.csv')\n",
    "tabular_sub = pd.read_csv(Output + 'submission_TD.csv')\n",
    "tabular_sub.head()"
   ]
  },
  {
   "cell_type": "code",
   "execution_count": 41,
   "metadata": {},
   "outputs": [],
   "source": [
    "sub = image_sub.copy()\n",
    "sub.target = 0.9 * image_sub.target.values + 0.1 * tabular_sub.target.values\n",
    "sub.to_csv(Output + 'submission.csv', index=False)"
   ]
  },
  {
   "cell_type": "code",
   "execution_count": 42,
   "metadata": {},
   "outputs": [
    {
     "data": {
      "image/png": "[encoded data removed]",
      "text/plain": [
       "<Figure size 432x288 with 1 Axes>"
      ]
     },
     "metadata": {
      "needs_background": "light"
     },
     "output_type": "display_data"
    }
   ],
   "source": [
    "plt.hist(sub.target,bins=100)\n",
    "plt.ylim((0,100))\n",
    "plt.show()"
   ]
  },
  {
   "cell_type": "markdown",
   "metadata": {},
   "source": [
    "## Submit(ここより先はkernelで入れなくて良い)"
   ]
  },
  {
   "cell_type": "code",
   "execution_count": 17,
   "metadata": {},
   "outputs": [
    {
     "name": "stderr",
     "output_type": "stream",
     "text": [
      "100%|██████████| 277k/277k [00:04<00:00, 57.6kB/s] \n"
     ]
    },
    {
     "data": {
      "text/plain": [
       "Successfully submitted to SIIM-ISIC Melanoma Classification"
      ]
     },
     "execution_count": 17,
     "metadata": {},
     "output_type": "execute_result"
    }
   ],
   "source": [
    "from kaggle.api.kaggle_api_extended import KaggleApi\n",
    "\n",
    "api = KaggleApi()\n",
    "api.authenticate()  # 認証を通す\n",
    "csv_file_path = Output + 'submission.csv'\n",
    "message = 'lgb (table only)'\n",
    "competition_id = 'siim-isic-melanoma-classification'\n",
    "api.competition_submit(csv_file_path, message, competition_id)"
   ]
  },
  {
   "cell_type": "code",
   "execution_count": null,
   "metadata": {},
   "outputs": [],
   "source": []
  }
 ],
 "metadata": {
  "kernelspec": {
   "display_name": "Python 3",
   "language": "python",
   "name": "python3"
  },
  "language_info": {
   "codemirror_mode": {
    "name": "ipython",
    "version": 3
   },
   "file_extension": ".py",
   "mimetype": "text/x-python",
   "name": "python",
   "nbconvert_exporter": "python",
   "pygments_lexer": "ipython3",
   "version": "3.6.10"
  },
  "widgets": {
   "application/vnd.jupyter.widget-state+json": {
    "state": {
     "2645433471f9401e97a82e33b5b45fe8": {
      "model_module": "@jupyter-widgets/base",
      "model_module_version": "1.2.0",
      "model_name": "LayoutModel",
      "state": {
       "_model_module": "@jupyter-widgets/base",
       "_model_module_version": "1.2.0",
       "_model_name": "LayoutModel",
       "_view_count": null,
       "_view_module": "@jupyter-widgets/base",
       "_view_module_version": "1.2.0",
       "_view_name": "LayoutView",
       "align_content": null,
       "align_items": null,
       "align_self": null,
       "border": null,
       "bottom": null,
       "display": null,
       "flex": null,
       "flex_flow": null,
       "grid_area": null,
       "grid_auto_columns": null,
       "grid_auto_flow": null,
       "grid_auto_rows": null,
       "grid_column": null,
       "grid_gap": null,
       "grid_row": null,
       "grid_template_areas": null,
       "grid_template_columns": null,
       "grid_template_rows": null,
       "height": null,
       "justify_content": null,
       "justify_items": null,
       "left": null,
       "margin": null,
       "max_height": null,
       "max_width": null,
       "min_height": null,
       "min_width": null,
       "object_fit": null,
       "object_position": null,
       "order": null,
       "overflow": null,
       "overflow_x": null,
       "overflow_y": null,
       "padding": null,
       "right": null,
       "top": null,
       "visibility": null,
       "width": null
      }
     },
     "3fb13192f9df4107a57f93b4e473af68": {
      "model_module": "@jupyter-widgets/controls",
      "model_module_version": "1.5.0",
      "model_name": "FloatProgressModel",
      "state": {
       "_dom_classes": [],
       "_model_module": "@jupyter-widgets/controls",
       "_model_module_version": "1.5.0",
       "_model_name": "FloatProgressModel",
       "_view_count": null,
       "_view_module": "@jupyter-widgets/controls",
       "_view_module_version": "1.5.0",
       "_view_name": "ProgressView",
       "bar_style": "success",
       "description": "100%",
       "description_tooltip": null,
       "layout": "IPY_MODEL_2645433471f9401e97a82e33b5b45fe8",
       "max": 31519111,
       "min": 0,
       "orientation": "horizontal",
       "style": "IPY_MODEL_b87e4be241954e789280916c41fe05e9",
       "value": 31519111
      }
     },
     "4649c58ae866408e8875c58165600cf3": {
      "model_module": "@jupyter-widgets/controls",
      "model_module_version": "1.5.0",
      "model_name": "HTMLModel",
      "state": {
       "_dom_classes": [],
       "_model_module": "@jupyter-widgets/controls",
       "_model_module_version": "1.5.0",
       "_model_name": "HTMLModel",
       "_view_count": null,
       "_view_module": "@jupyter-widgets/controls",
       "_view_module_version": "1.5.0",
       "_view_name": "HTMLView",
       "description": "",
       "description_tooltip": null,
       "layout": "IPY_MODEL_4ee6e0abb0e449b086afdc4303ba673c",
       "placeholder": "​",
       "style": "IPY_MODEL_d6200ba71ab54fbb979ec43b1608ff2c",
       "value": " 30.1M/30.1M [00:01&lt;00:00, 24.0MB/s]"
      }
     },
     "4ee6e0abb0e449b086afdc4303ba673c": {
      "model_module": "@jupyter-widgets/base",
      "model_module_version": "1.2.0",
      "model_name": "LayoutModel",
      "state": {
       "_model_module": "@jupyter-widgets/base",
       "_model_module_version": "1.2.0",
       "_model_name": "LayoutModel",
       "_view_count": null,
       "_view_module": "@jupyter-widgets/base",
       "_view_module_version": "1.2.0",
       "_view_name": "LayoutView",
       "align_content": null,
       "align_items": null,
       "align_self": null,
       "border": null,
       "bottom": null,
       "display": null,
       "flex": null,
       "flex_flow": null,
       "grid_area": null,
       "grid_auto_columns": null,
       "grid_auto_flow": null,
       "grid_auto_rows": null,
       "grid_column": null,
       "grid_gap": null,
       "grid_row": null,
       "grid_template_areas": null,
       "grid_template_columns": null,
       "grid_template_rows": null,
       "height": null,
       "justify_content": null,
       "justify_items": null,
       "left": null,
       "margin": null,
       "max_height": null,
       "max_width": null,
       "min_height": null,
       "min_width": null,
       "object_fit": null,
       "object_position": null,
       "order": null,
       "overflow": null,
       "overflow_x": null,
       "overflow_y": null,
       "padding": null,
       "right": null,
       "top": null,
       "visibility": null,
       "width": null
      }
     },
     "5ea58d39e9dd42e28160d8de49f05d37": {
      "model_module": "@jupyter-widgets/base",
      "model_module_version": "1.2.0",
      "model_name": "LayoutModel",
      "state": {
       "_model_module": "@jupyter-widgets/base",
       "_model_module_version": "1.2.0",
       "_model_name": "LayoutModel",
       "_view_count": null,
       "_view_module": "@jupyter-widgets/base",
       "_view_module_version": "1.2.0",
       "_view_name": "LayoutView",
       "align_content": null,
       "align_items": null,
       "align_self": null,
       "border": null,
       "bottom": null,
       "display": null,
       "flex": null,
       "flex_flow": null,
       "grid_area": null,
       "grid_auto_columns": null,
       "grid_auto_flow": null,
       "grid_auto_rows": null,
       "grid_column": null,
       "grid_gap": null,
       "grid_row": null,
       "grid_template_areas": null,
       "grid_template_columns": null,
       "grid_template_rows": null,
       "height": null,
       "justify_content": null,
       "justify_items": null,
       "left": null,
       "margin": null,
       "max_height": null,
       "max_width": null,
       "min_height": null,
       "min_width": null,
       "object_fit": null,
       "object_position": null,
       "order": null,
       "overflow": null,
       "overflow_x": null,
       "overflow_y": null,
       "padding": null,
       "right": null,
       "top": null,
       "visibility": null,
       "width": null
      }
     },
     "b87e4be241954e789280916c41fe05e9": {
      "model_module": "@jupyter-widgets/controls",
      "model_module_version": "1.5.0",
      "model_name": "ProgressStyleModel",
      "state": {
       "_model_module": "@jupyter-widgets/controls",
       "_model_module_version": "1.5.0",
       "_model_name": "ProgressStyleModel",
       "_view_count": null,
       "_view_module": "@jupyter-widgets/base",
       "_view_module_version": "1.2.0",
       "_view_name": "StyleView",
       "bar_color": null,
       "description_width": "initial"
      }
     },
     "d04e0dc2878340f88e0658c17fbd600d": {
      "model_module": "@jupyter-widgets/controls",
      "model_module_version": "1.5.0",
      "model_name": "HBoxModel",
      "state": {
       "_dom_classes": [],
       "_model_module": "@jupyter-widgets/controls",
       "_model_module_version": "1.5.0",
       "_model_name": "HBoxModel",
       "_view_count": null,
       "_view_module": "@jupyter-widgets/controls",
       "_view_module_version": "1.5.0",
       "_view_name": "HBoxView",
       "box_style": "",
       "children": [
        "IPY_MODEL_3fb13192f9df4107a57f93b4e473af68",
        "IPY_MODEL_4649c58ae866408e8875c58165600cf3"
       ],
       "layout": "IPY_MODEL_5ea58d39e9dd42e28160d8de49f05d37"
      }
     },
     "d6200ba71ab54fbb979ec43b1608ff2c": {
      "model_module": "@jupyter-widgets/controls",
      "model_module_version": "1.5.0",
      "model_name": "DescriptionStyleModel",
      "state": {
       "_model_module": "@jupyter-widgets/controls",
       "_model_module_version": "1.5.0",
       "_model_name": "DescriptionStyleModel",
       "_view_count": null,
       "_view_module": "@jupyter-widgets/base",
       "_view_module_version": "1.2.0",
       "_view_name": "StyleView",
       "description_width": ""
      }
     }
    },
    "version_major": 2,
    "version_minor": 0
   }
  }
 },
 "nbformat": 4,
 "nbformat_minor": 4
}
