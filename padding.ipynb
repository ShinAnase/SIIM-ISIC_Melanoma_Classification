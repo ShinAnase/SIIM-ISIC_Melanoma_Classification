{
 "cells": [
  {
   "cell_type": "code",
   "execution_count": 1,
   "metadata": {},
   "outputs": [],
   "source": [
    "import shutil\n",
    "from tqdm import tqdm\n",
    "import cv2\n",
    "from scipy import ndimage\n",
    "import matplotlib.pyplot as plt\n",
    "from PIL import Image\n",
    "import os\n",
    "from random import shuffle\n",
    "import numpy as np\n",
    "import pandas as pd\n",
    "import matplotlib.pyplot as plt\n",
    "%matplotlib inline"
   ]
  },
  {
   "cell_type": "markdown",
   "metadata": {},
   "source": [
    "## (kernel使うときに変更すべき変数)"
   ]
  },
  {
   "cell_type": "code",
   "execution_count": 2,
   "metadata": {},
   "outputs": [],
   "source": [
    "padding_data_path = \"/home/tidal/ML_Data/SIIM-ISIC_Melanoma_Classification/SIIM-ISIC-Melanoma-Classification/pad_jpg\"\n",
    "melanoma_external_malignant_256 = \"/home/tidal/ML_Data/SIIM-ISIC_Melanoma_Classification/melanoma_external_malignant_256/\"\n",
    "SIIM_ISIC_Melanoma_Classification = \"/home/tidal/ML_Data/SIIM-ISIC_Melanoma_Classification/SIIM-ISIC-Melanoma-Classification/\""
   ]
  },
  {
   "cell_type": "markdown",
   "metadata": {},
   "source": [
    "## config"
   ]
  },
  {
   "cell_type": "code",
   "execution_count": null,
   "metadata": {},
   "outputs": [],
   "source": []
  },
  {
   "cell_type": "markdown",
   "metadata": {},
   "source": [
    "## resize & write"
   ]
  },
  {
   "cell_type": "code",
   "execution_count": 3,
   "metadata": {},
   "outputs": [],
   "source": [
    "#画像のリサイズ\n",
    "#入力：加工元のパス、サイズ(縦)、サイズ(横)\n",
    "#出力：加工後の画像(mtx)、ImageName(mtx)\n",
    "def resize_image(chdir, size_X, size_Y):\n",
    "    #change directry\n",
    "    os.chdir(chdir)\n",
    "    rsz_file = os.listdir()\n",
    "    X_data = []\n",
    "    img_name = []\n",
    "    for file in rsz_file:\n",
    "        rsz_img = cv2.imread(file)\n",
    "        rsz_img = cv2.resize(rsz_img, (size_X, size_Y) ) \n",
    "        X_data.append(rsz_img)\n",
    "        img_name.append(file)\n",
    "    print(\"end:resize_image\")\n",
    "    return X_data, img_name\n",
    "\n",
    "#画像の書き込み\n",
    "#入力：加工後の画像(mtx)、ImageName(mtx), テスト用/学習用(test/train)、保存フォルダ名\n",
    "#出力：成功有無\n",
    "def write_to_localfolder(img_mtx, img_name, test_or_train, folder_name):\n",
    "    if test_or_train == \"test\":\n",
    "        img_dir = SIIM_ISIC_Melanoma_Classification + \"pad_jpg/test/\" + folder_name\n",
    "    elif test_or_train == \"train\":\n",
    "        img_dir = SIIM_ISIC_Melanoma_Classification + \"pad_jpg/train/\" + folder_name\n",
    "    else:\n",
    "        print(\"3rd argument is (test/train).\")\n",
    "        print(\"end:write_to_localfolder\")\n",
    "        return False\n",
    "    \n",
    "    os.mkdir(img_dir)\n",
    "    for ix in range(len(img_mtx)):\n",
    "        cv2.imwrite(img_dir + '/{0}'.format(img_name[ix]), img_mtx[ix])\n",
    "    \n",
    "    print(\"end:write_to_localfolder\")\n",
    "    return True\n",
    "\n",
    "#画像のリサイズ&書き込み(溜め込むサイズを小さくなるように改良)\n",
    "#入力：加工元のパス、サイズ(縦)、サイズ(横)、テスト用/学習用(test/train)、保存フォルダ名\n",
    "#出力：成功有無\n",
    "def ResizeAndWriteImg(chdir, size_X, size_Y, test_or_train, folder_name):\n",
    "    if test_or_train == \"test\":\n",
    "        img_dir = SIIM_ISIC_Melanoma_Classification + \"pad_jpg/test/\" + folder_name\n",
    "    elif test_or_train == \"train\":\n",
    "        img_dir = SIIM_ISIC_Melanoma_Classification + \"pad_jpg/train/\" + folder_name\n",
    "    else:\n",
    "        print(\"3rd argument is (test/train).\")\n",
    "        print(\"end:write_to_localfolder\")\n",
    "        return False\n",
    "    os.mkdir(img_dir)\n",
    "    os.chdir(chdir)\n",
    "    rsz_file = os.listdir()\n",
    "    for file in rsz_file:\n",
    "        rsz_img = cv2.imread(file)\n",
    "        rsz_img = cv2.resize(rsz_img, (size_X, size_Y) ) \n",
    "        cv2.imwrite(img_dir + '/{0}'.format(file), rsz_img)\n",
    "    print(\"end:resize_image\")\n",
    "    return True"
   ]
  },
  {
   "cell_type": "markdown",
   "metadata": {},
   "source": [
    "## augment"
   ]
  },
  {
   "cell_type": "code",
   "execution_count": null,
   "metadata": {},
   "outputs": [],
   "source": []
  },
  {
   "cell_type": "markdown",
   "metadata": {},
   "source": [
    "## excute"
   ]
  },
  {
   "cell_type": "code",
   "execution_count": 5,
   "metadata": {},
   "outputs": [
    {
     "name": "stdout",
     "output_type": "stream",
     "text": [
      "end:resize_image\n",
      "CPU times: user 12min 29s, sys: 1min 15s, total: 13min 45s\n",
      "Wall time: 13min 46s\n"
     ]
    }
   ],
   "source": [
    "%%time\n",
    "img_mtx, img_name = resize_image(SIIM_ISIC_Melanoma_Classification + \"jpeg/test/\", PADDINGSIZE_X, PADDINGSIZE_Y)"
   ]
  },
  {
   "cell_type": "code",
   "execution_count": 6,
   "metadata": {},
   "outputs": [
    {
     "name": "stdout",
     "output_type": "stream",
     "text": [
      "end:write_to_localfolder\n",
      "CPU times: user 8.39 s, sys: 156 ms, total: 8.54 s\n",
      "Wall time: 8.54 s\n"
     ]
    },
    {
     "data": {
      "text/plain": [
       "True"
      ]
     },
     "execution_count": 6,
     "metadata": {},
     "output_type": "execute_result"
    }
   ],
   "source": [
    "%%time\n",
    "folder_name = str(PADDINGSIZE_Y) + '_' + str(PADDINGSIZE_Y)\n",
    "write_to_localfolder(img_mtx, img_name, \"test\", folder_name)"
   ]
  },
  {
   "cell_type": "code",
   "execution_count": null,
   "metadata": {},
   "outputs": [],
   "source": [
    "%%time\n",
    "SizeMtx = [768]\n",
    "for size in SizeMtx:\n",
    "    img_mtx, img_name = resize_image(SIIM_ISIC_Melanoma_Classification + \"jpeg/train/\", size, size)\n",
    "    folder_name = str(size) + '_' + str(size)\n",
    "    write_to_localfolder(img_mtx, img_name, \"train\", folder_name)"
   ]
  },
  {
   "cell_type": "code",
   "execution_count": 5,
   "metadata": {},
   "outputs": [
    {
     "name": "stdout",
     "output_type": "stream",
     "text": [
      "end:resize_image\n",
      "end:write_to_localfolder\n",
      "end:resize_image\n",
      "end:write_to_localfolder\n",
      "end:resize_image\n",
      "end:write_to_localfolder\n",
      "CPU times: user 41min 53s, sys: 3min 59s, total: 45min 52s\n",
      "Wall time: 42min 19s\n"
     ]
    }
   ],
   "source": [
    "%%time\n",
    "SizeMtx = [224,384,512]\n",
    "for size in SizeMtx:\n",
    "    img_mtx, img_name = resize_image(SIIM_ISIC_Melanoma_Classification + \"jpeg/test/\", size, size)\n",
    "    folder_name = str(size) + '_' + str(size)\n",
    "    write_to_localfolder(img_mtx, img_name, \"test\", folder_name)"
   ]
  },
  {
   "cell_type": "code",
   "execution_count": 6,
   "metadata": {},
   "outputs": [
    {
     "name": "stdout",
     "output_type": "stream",
     "text": [
      "end:resize_image\n",
      "CPU times: user 16min 10s, sys: 1min 24s, total: 17min 34s\n",
      "Wall time: 15min 5s\n"
     ]
    }
   ],
   "source": [
    "%%time\n",
    "SizeMtx = [768]\n",
    "for size in SizeMtx:\n",
    "    folder_name = str(size) + '_' + str(size)\n",
    "    ResizeAndWriteImg(SIIM_ISIC_Melanoma_Classification + \"jpeg/test/\", size, size, \"test\", folder_name)"
   ]
  },
  {
   "cell_type": "code",
   "execution_count": 7,
   "metadata": {},
   "outputs": [
    {
     "name": "stdout",
     "output_type": "stream",
     "text": [
      "end:resize_image\n",
      "CPU times: user 55min 30s, sys: 4min 51s, total: 1h 22s\n",
      "Wall time: 52min 37s\n"
     ]
    }
   ],
   "source": [
    "%%time\n",
    "SizeMtx = [768]\n",
    "for size in SizeMtx:\n",
    "    folder_name = str(size) + '_' + str(size)\n",
    "    ResizeAndWriteImg(SIIM_ISIC_Melanoma_Classification + \"jpeg/train/\", size, size, \"train\", folder_name)"
   ]
  },
  {
   "cell_type": "code",
   "execution_count": 5,
   "metadata": {},
   "outputs": [
    {
     "name": "stdout",
     "output_type": "stream",
     "text": [
      "end:resize_image\n",
      "end:resize_image\n",
      "CPU times: user 56min 42s, sys: 5min 53s, total: 1h 2min 36s\n",
      "Wall time: 1h 2min 42s\n"
     ]
    }
   ],
   "source": [
    "%%time\n",
    "SizeMtx = [192]\n",
    "for size in SizeMtx:\n",
    "    folder_name = str(size) + '_' + str(size)\n",
    "    ResizeAndWriteImg(SIIM_ISIC_Melanoma_Classification + \"jpeg/test/\", size, size, \"test\", folder_name)\n",
    "\n",
    "for size in SizeMtx:\n",
    "    folder_name = str(size) + '_' + str(size)\n",
    "    ResizeAndWriteImg(SIIM_ISIC_Melanoma_Classification + \"jpeg/train/\", size, size, \"train\", folder_name)"
   ]
  },
  {
   "cell_type": "code",
   "execution_count": 8,
   "metadata": {},
   "outputs": [
    {
     "name": "stdout",
     "output_type": "stream",
     "text": [
      "end:resize_image\n",
      "end:resize_image\n",
      "CPU times: user 57min 21s, sys: 6min 5s, total: 1h 3min 26s\n",
      "Wall time: 1h 3min 32s\n"
     ]
    }
   ],
   "source": [
    "%%time\n",
    "SizeMtx = [64]\n",
    "for size in SizeMtx:\n",
    "    folder_name = str(size) + '_' + str(size)\n",
    "    ResizeAndWriteImg(SIIM_ISIC_Melanoma_Classification + \"jpeg/test/\", size, size, \"test\", folder_name)\n",
    "\n",
    "for size in SizeMtx:\n",
    "    folder_name = str(size) + '_' + str(size)\n",
    "    ResizeAndWriteImg(SIIM_ISIC_Melanoma_Classification + \"jpeg/train/\", size, size, \"train\", folder_name)"
   ]
  },
  {
   "cell_type": "code",
   "execution_count": 4,
   "metadata": {},
   "outputs": [
    {
     "name": "stdout",
     "output_type": "stream",
     "text": [
      "end:resize_image\n",
      "end:resize_image\n",
      "CPU times: user 56min 55s, sys: 5min 59s, total: 1h 2min 54s\n",
      "Wall time: 1h 3min\n"
     ]
    }
   ],
   "source": [
    "%%time\n",
    "SizeMtx = [128]\n",
    "for size in SizeMtx:\n",
    "    folder_name = str(size) + '_' + str(size)\n",
    "    ResizeAndWriteImg(SIIM_ISIC_Melanoma_Classification + \"jpeg/test/\", size, size, \"test\", folder_name)\n",
    "\n",
    "for size in SizeMtx:\n",
    "    folder_name = str(size) + '_' + str(size)\n",
    "    ResizeAndWriteImg(SIIM_ISIC_Melanoma_Classification + \"jpeg/train/\", size, size, \"train\", folder_name)"
   ]
  },
  {
   "cell_type": "markdown",
   "metadata": {},
   "source": [
    "## trainとmeta validationの分割"
   ]
  },
  {
   "cell_type": "code",
   "execution_count": 9,
   "metadata": {},
   "outputs": [],
   "source": [
    "#config\n",
    "METAVALSIZE = 8282 #train:meta val = 3:1\n",
    "ImgNmMetaVal = pd.read_csv(SIIM_ISIC_Melanoma_Classification + 'pad_jpg/ImgNmMetaVal.csv')"
   ]
  },
  {
   "cell_type": "code",
   "execution_count": 10,
   "metadata": {},
   "outputs": [
    {
     "data": {
      "text/html": [
       "<div>\n",
       "<style scoped>\n",
       "    .dataframe tbody tr th:only-of-type {\n",
       "        vertical-align: middle;\n",
       "    }\n",
       "\n",
       "    .dataframe tbody tr th {\n",
       "        vertical-align: top;\n",
       "    }\n",
       "\n",
       "    .dataframe thead th {\n",
       "        text-align: right;\n",
       "    }\n",
       "</style>\n",
       "<table border=\"1\" class=\"dataframe\">\n",
       "  <thead>\n",
       "    <tr style=\"text-align: right;\">\n",
       "      <th></th>\n",
       "      <th>Unnamed: 0</th>\n",
       "      <th>image_name</th>\n",
       "    </tr>\n",
       "  </thead>\n",
       "  <tbody>\n",
       "    <tr>\n",
       "      <th>0</th>\n",
       "      <td>0</td>\n",
       "      <td>ISIC_0452656</td>\n",
       "    </tr>\n",
       "    <tr>\n",
       "      <th>1</th>\n",
       "      <td>1</td>\n",
       "      <td>ISIC_0507189</td>\n",
       "    </tr>\n",
       "    <tr>\n",
       "      <th>2</th>\n",
       "      <td>2</td>\n",
       "      <td>ISIC_1144286</td>\n",
       "    </tr>\n",
       "    <tr>\n",
       "      <th>3</th>\n",
       "      <td>3</td>\n",
       "      <td>ISIC_1199236</td>\n",
       "    </tr>\n",
       "    <tr>\n",
       "      <th>4</th>\n",
       "      <td>4</td>\n",
       "      <td>ISIC_1303205</td>\n",
       "    </tr>\n",
       "    <tr>\n",
       "      <th>...</th>\n",
       "      <td>...</td>\n",
       "      <td>...</td>\n",
       "    </tr>\n",
       "    <tr>\n",
       "      <th>8310</th>\n",
       "      <td>8310</td>\n",
       "      <td>ISIC_8609756</td>\n",
       "    </tr>\n",
       "    <tr>\n",
       "      <th>8311</th>\n",
       "      <td>8311</td>\n",
       "      <td>ISIC_8620064</td>\n",
       "    </tr>\n",
       "    <tr>\n",
       "      <th>8312</th>\n",
       "      <td>8312</td>\n",
       "      <td>ISIC_9212054</td>\n",
       "    </tr>\n",
       "    <tr>\n",
       "      <th>8313</th>\n",
       "      <td>8313</td>\n",
       "      <td>ISIC_9659306</td>\n",
       "    </tr>\n",
       "    <tr>\n",
       "      <th>8314</th>\n",
       "      <td>8314</td>\n",
       "      <td>ISIC_9725585</td>\n",
       "    </tr>\n",
       "  </tbody>\n",
       "</table>\n",
       "<p>8315 rows × 2 columns</p>\n",
       "</div>"
      ],
      "text/plain": [
       "      Unnamed: 0    image_name\n",
       "0              0  ISIC_0452656\n",
       "1              1  ISIC_0507189\n",
       "2              2  ISIC_1144286\n",
       "3              3  ISIC_1199236\n",
       "4              4  ISIC_1303205\n",
       "...          ...           ...\n",
       "8310        8310  ISIC_8609756\n",
       "8311        8311  ISIC_8620064\n",
       "8312        8312  ISIC_9212054\n",
       "8313        8313  ISIC_9659306\n",
       "8314        8314  ISIC_9725585\n",
       "\n",
       "[8315 rows x 2 columns]"
      ]
     },
     "execution_count": 10,
     "metadata": {},
     "output_type": "execute_result"
    }
   ],
   "source": [
    "ImgNmMetaVal"
   ]
  },
  {
   "cell_type": "code",
   "execution_count": 11,
   "metadata": {},
   "outputs": [
    {
     "data": {
      "text/plain": [
       "0       ISIC_0452656\n",
       "1       ISIC_0507189\n",
       "2       ISIC_1144286\n",
       "3       ISIC_1199236\n",
       "4       ISIC_1303205\n",
       "            ...     \n",
       "8310    ISIC_8609756\n",
       "8311    ISIC_8620064\n",
       "8312    ISIC_9212054\n",
       "8313    ISIC_9659306\n",
       "8314    ISIC_9725585\n",
       "Name: image_name, Length: 8315, dtype: object"
      ]
     },
     "execution_count": 11,
     "metadata": {},
     "output_type": "execute_result"
    }
   ],
   "source": [
    "ImgNmMetaVal = pd.read_csv(SIIM_ISIC_Melanoma_Classification + 'pad_jpg/ImgNmMetaVal.csv')\n",
    "ImgNmMetaVal[\"image_name\"]"
   ]
  },
  {
   "cell_type": "code",
   "execution_count": 12,
   "metadata": {},
   "outputs": [],
   "source": [
    "#画像の一部をmetavalフォルダに移動\n",
    "#入力：保存フォルダ名\n",
    "#出力：なし\n",
    "def MvMetaVal(folder_name):\n",
    "    train_dir = SIIM_ISIC_Melanoma_Classification + \"pad_jpg/train/\" + folder_name\n",
    "    meta_dir = SIIM_ISIC_Melanoma_Classification + \"pad_jpg/metaval/\" + folder_name\n",
    "    os.mkdir(meta_dir)\n",
    "    ImgNmMetaVal = pd.read_csv(SIIM_ISIC_Melanoma_Classification + 'pad_jpg/ImgNmMetaVal.csv')\n",
    "    for nm in ImgNmMetaVal[\"image_name\"]:\n",
    "        shutil.move(train_dir + '/' + nm + '.jpg', meta_dir + '/' + nm + '.jpg')"
   ]
  },
  {
   "cell_type": "code",
   "execution_count": 10,
   "metadata": {},
   "outputs": [],
   "source": [
    "MvMetaVal(\"192_192\")"
   ]
  },
  {
   "cell_type": "code",
   "execution_count": 64,
   "metadata": {},
   "outputs": [],
   "source": [
    "MvMetaVal(\"224_224\")"
   ]
  },
  {
   "cell_type": "code",
   "execution_count": 65,
   "metadata": {},
   "outputs": [],
   "source": [
    "MvMetaVal(\"256_256\")\n",
    "MvMetaVal(\"384_384\")\n",
    "MvMetaVal(\"512_512\")\n",
    "MvMetaVal(\"768_768\")"
   ]
  },
  {
   "cell_type": "code",
   "execution_count": 13,
   "metadata": {},
   "outputs": [],
   "source": [
    "MvMetaVal(\"64_64\")"
   ]
  },
  {
   "cell_type": "code",
   "execution_count": 36,
   "metadata": {},
   "outputs": [],
   "source": [
    "#MetaVal.csv\n",
    "trainCsv = pd.read_csv(SIIM_ISIC_Melanoma_Classification + 'train.csv')\n",
    "ImgNmMetaVal = pd.read_csv(SIIM_ISIC_Melanoma_Classification + 'pad_jpg/ImgNmMetaVal.csv')\n",
    "flg = True\n",
    "for nm in ImgNmMetaVal[\"image_name\"]:\n",
    "    if flg:\n",
    "        trainCsvMeta = trainCsv[trainCsv.image_name == nm]\n",
    "        flg = False\n",
    "    else:\n",
    "        trainCsvMeta = trainCsvMeta.append(trainCsv[trainCsv.image_name == nm])\n",
    "    ix = trainCsv[trainCsv.image_name == nm].index.values[0]\n",
    "    trainCsv = trainCsv.drop(ix, axis=0)\n",
    "trainCsv = trainCsv.reset_index(drop=True)\n",
    "trainCsvMeta = trainCsvMeta.reset_index(drop=True)"
   ]
  },
  {
   "cell_type": "code",
   "execution_count": 37,
   "metadata": {},
   "outputs": [
    {
     "data": {
      "text/html": [
       "<div>\n",
       "<style scoped>\n",
       "    .dataframe tbody tr th:only-of-type {\n",
       "        vertical-align: middle;\n",
       "    }\n",
       "\n",
       "    .dataframe tbody tr th {\n",
       "        vertical-align: top;\n",
       "    }\n",
       "\n",
       "    .dataframe thead th {\n",
       "        text-align: right;\n",
       "    }\n",
       "</style>\n",
       "<table border=\"1\" class=\"dataframe\">\n",
       "  <thead>\n",
       "    <tr style=\"text-align: right;\">\n",
       "      <th></th>\n",
       "      <th>image_name</th>\n",
       "      <th>patient_id</th>\n",
       "      <th>sex</th>\n",
       "      <th>age_approx</th>\n",
       "      <th>anatom_site_general_challenge</th>\n",
       "      <th>diagnosis</th>\n",
       "      <th>benign_malignant</th>\n",
       "      <th>target</th>\n",
       "    </tr>\n",
       "  </thead>\n",
       "  <tbody>\n",
       "    <tr>\n",
       "      <th>8310</th>\n",
       "      <td>ISIC_8609756</td>\n",
       "      <td>IP_1264754</td>\n",
       "      <td>female</td>\n",
       "      <td>65.0</td>\n",
       "      <td>lower extremity</td>\n",
       "      <td>melanoma</td>\n",
       "      <td>malignant</td>\n",
       "      <td>1</td>\n",
       "    </tr>\n",
       "    <tr>\n",
       "      <th>8311</th>\n",
       "      <td>ISIC_8620064</td>\n",
       "      <td>IP_1264754</td>\n",
       "      <td>female</td>\n",
       "      <td>65.0</td>\n",
       "      <td>lower extremity</td>\n",
       "      <td>unknown</td>\n",
       "      <td>benign</td>\n",
       "      <td>0</td>\n",
       "    </tr>\n",
       "    <tr>\n",
       "      <th>8312</th>\n",
       "      <td>ISIC_9212054</td>\n",
       "      <td>IP_1264754</td>\n",
       "      <td>female</td>\n",
       "      <td>65.0</td>\n",
       "      <td>lower extremity</td>\n",
       "      <td>unknown</td>\n",
       "      <td>benign</td>\n",
       "      <td>0</td>\n",
       "    </tr>\n",
       "    <tr>\n",
       "      <th>8313</th>\n",
       "      <td>ISIC_9659306</td>\n",
       "      <td>IP_1264754</td>\n",
       "      <td>female</td>\n",
       "      <td>65.0</td>\n",
       "      <td>lower extremity</td>\n",
       "      <td>unknown</td>\n",
       "      <td>benign</td>\n",
       "      <td>0</td>\n",
       "    </tr>\n",
       "    <tr>\n",
       "      <th>8314</th>\n",
       "      <td>ISIC_9725585</td>\n",
       "      <td>IP_1264754</td>\n",
       "      <td>female</td>\n",
       "      <td>65.0</td>\n",
       "      <td>torso</td>\n",
       "      <td>unknown</td>\n",
       "      <td>benign</td>\n",
       "      <td>0</td>\n",
       "    </tr>\n",
       "  </tbody>\n",
       "</table>\n",
       "</div>"
      ],
      "text/plain": [
       "        image_name  patient_id     sex  age_approx  \\\n",
       "8310  ISIC_8609756  IP_1264754  female        65.0   \n",
       "8311  ISIC_8620064  IP_1264754  female        65.0   \n",
       "8312  ISIC_9212054  IP_1264754  female        65.0   \n",
       "8313  ISIC_9659306  IP_1264754  female        65.0   \n",
       "8314  ISIC_9725585  IP_1264754  female        65.0   \n",
       "\n",
       "     anatom_site_general_challenge diagnosis benign_malignant  target  \n",
       "8310               lower extremity  melanoma        malignant       1  \n",
       "8311               lower extremity   unknown           benign       0  \n",
       "8312               lower extremity   unknown           benign       0  \n",
       "8313               lower extremity   unknown           benign       0  \n",
       "8314                         torso   unknown           benign       0  "
      ]
     },
     "execution_count": 37,
     "metadata": {},
     "output_type": "execute_result"
    }
   ],
   "source": [
    "trainCsvMeta.tail()"
   ]
  },
  {
   "cell_type": "code",
   "execution_count": 38,
   "metadata": {},
   "outputs": [
    {
     "data": {
      "text/plain": [
       "(8315, 8)"
      ]
     },
     "execution_count": 38,
     "metadata": {},
     "output_type": "execute_result"
    }
   ],
   "source": [
    "trainCsvMeta.shape"
   ]
  },
  {
   "cell_type": "code",
   "execution_count": 39,
   "metadata": {},
   "outputs": [
    {
     "data": {
      "text/html": [
       "<div>\n",
       "<style scoped>\n",
       "    .dataframe tbody tr th:only-of-type {\n",
       "        vertical-align: middle;\n",
       "    }\n",
       "\n",
       "    .dataframe tbody tr th {\n",
       "        vertical-align: top;\n",
       "    }\n",
       "\n",
       "    .dataframe thead th {\n",
       "        text-align: right;\n",
       "    }\n",
       "</style>\n",
       "<table border=\"1\" class=\"dataframe\">\n",
       "  <thead>\n",
       "    <tr style=\"text-align: right;\">\n",
       "      <th></th>\n",
       "      <th>image_name</th>\n",
       "      <th>patient_id</th>\n",
       "      <th>sex</th>\n",
       "      <th>age_approx</th>\n",
       "      <th>anatom_site_general_challenge</th>\n",
       "      <th>diagnosis</th>\n",
       "      <th>benign_malignant</th>\n",
       "      <th>target</th>\n",
       "    </tr>\n",
       "  </thead>\n",
       "  <tbody>\n",
       "    <tr>\n",
       "      <th>24806</th>\n",
       "      <td>ISIC_9998682</td>\n",
       "      <td>IP_2516168</td>\n",
       "      <td>male</td>\n",
       "      <td>60.0</td>\n",
       "      <td>head/neck</td>\n",
       "      <td>melanoma</td>\n",
       "      <td>malignant</td>\n",
       "      <td>1</td>\n",
       "    </tr>\n",
       "    <tr>\n",
       "      <th>24807</th>\n",
       "      <td>ISIC_9998937</td>\n",
       "      <td>IP_3091321</td>\n",
       "      <td>male</td>\n",
       "      <td>40.0</td>\n",
       "      <td>head/neck</td>\n",
       "      <td>nevus</td>\n",
       "      <td>benign</td>\n",
       "      <td>0</td>\n",
       "    </tr>\n",
       "    <tr>\n",
       "      <th>24808</th>\n",
       "      <td>ISIC_9998965</td>\n",
       "      <td>IP_3293337</td>\n",
       "      <td>male</td>\n",
       "      <td>50.0</td>\n",
       "      <td>torso</td>\n",
       "      <td>unknown</td>\n",
       "      <td>benign</td>\n",
       "      <td>0</td>\n",
       "    </tr>\n",
       "    <tr>\n",
       "      <th>24809</th>\n",
       "      <td>ISIC_9999127</td>\n",
       "      <td>IP_9583707</td>\n",
       "      <td>male</td>\n",
       "      <td>20.0</td>\n",
       "      <td>torso</td>\n",
       "      <td>unknown</td>\n",
       "      <td>benign</td>\n",
       "      <td>0</td>\n",
       "    </tr>\n",
       "    <tr>\n",
       "      <th>24810</th>\n",
       "      <td>ISIC_9999134</td>\n",
       "      <td>IP_6526534</td>\n",
       "      <td>male</td>\n",
       "      <td>50.0</td>\n",
       "      <td>torso</td>\n",
       "      <td>unknown</td>\n",
       "      <td>benign</td>\n",
       "      <td>0</td>\n",
       "    </tr>\n",
       "  </tbody>\n",
       "</table>\n",
       "</div>"
      ],
      "text/plain": [
       "         image_name  patient_id   sex  age_approx  \\\n",
       "24806  ISIC_9998682  IP_2516168  male        60.0   \n",
       "24807  ISIC_9998937  IP_3091321  male        40.0   \n",
       "24808  ISIC_9998965  IP_3293337  male        50.0   \n",
       "24809  ISIC_9999127  IP_9583707  male        20.0   \n",
       "24810  ISIC_9999134  IP_6526534  male        50.0   \n",
       "\n",
       "      anatom_site_general_challenge diagnosis benign_malignant  target  \n",
       "24806                     head/neck  melanoma        malignant       1  \n",
       "24807                     head/neck     nevus           benign       0  \n",
       "24808                         torso   unknown           benign       0  \n",
       "24809                         torso   unknown           benign       0  \n",
       "24810                         torso   unknown           benign       0  "
      ]
     },
     "execution_count": 39,
     "metadata": {},
     "output_type": "execute_result"
    }
   ],
   "source": [
    "trainCsv.tail()"
   ]
  },
  {
   "cell_type": "code",
   "execution_count": 40,
   "metadata": {},
   "outputs": [
    {
     "data": {
      "text/plain": [
       "(24811, 8)"
      ]
     },
     "execution_count": 40,
     "metadata": {},
     "output_type": "execute_result"
    }
   ],
   "source": [
    "trainCsv.shape"
   ]
  },
  {
   "cell_type": "code",
   "execution_count": 41,
   "metadata": {},
   "outputs": [],
   "source": [
    "trainCsv.to_csv(SIIM_ISIC_Melanoma_Classification + 'train.csv', index=False)\n",
    "trainCsvMeta.to_csv(SIIM_ISIC_Melanoma_Classification + 'metaval.csv', index=False)"
   ]
  },
  {
   "cell_type": "code",
   "execution_count": 4,
   "metadata": {},
   "outputs": [],
   "source": [
    "#sample_sub_MetaVal.csv\n",
    "ImgNmMetaVal = pd.read_csv(SIIM_ISIC_Melanoma_Classification + 'pad_jpg/ImgNmMetaVal.csv')"
   ]
  },
  {
   "cell_type": "code",
   "execution_count": 5,
   "metadata": {},
   "outputs": [
    {
     "data": {
      "text/html": [
       "<div>\n",
       "<style scoped>\n",
       "    .dataframe tbody tr th:only-of-type {\n",
       "        vertical-align: middle;\n",
       "    }\n",
       "\n",
       "    .dataframe tbody tr th {\n",
       "        vertical-align: top;\n",
       "    }\n",
       "\n",
       "    .dataframe thead th {\n",
       "        text-align: right;\n",
       "    }\n",
       "</style>\n",
       "<table border=\"1\" class=\"dataframe\">\n",
       "  <thead>\n",
       "    <tr style=\"text-align: right;\">\n",
       "      <th></th>\n",
       "      <th>Unnamed: 0</th>\n",
       "      <th>image_name</th>\n",
       "    </tr>\n",
       "  </thead>\n",
       "  <tbody>\n",
       "    <tr>\n",
       "      <th>0</th>\n",
       "      <td>0</td>\n",
       "      <td>ISIC_0452656</td>\n",
       "    </tr>\n",
       "    <tr>\n",
       "      <th>1</th>\n",
       "      <td>1</td>\n",
       "      <td>ISIC_0507189</td>\n",
       "    </tr>\n",
       "    <tr>\n",
       "      <th>2</th>\n",
       "      <td>2</td>\n",
       "      <td>ISIC_1144286</td>\n",
       "    </tr>\n",
       "    <tr>\n",
       "      <th>3</th>\n",
       "      <td>3</td>\n",
       "      <td>ISIC_1199236</td>\n",
       "    </tr>\n",
       "    <tr>\n",
       "      <th>4</th>\n",
       "      <td>4</td>\n",
       "      <td>ISIC_1303205</td>\n",
       "    </tr>\n",
       "    <tr>\n",
       "      <th>...</th>\n",
       "      <td>...</td>\n",
       "      <td>...</td>\n",
       "    </tr>\n",
       "    <tr>\n",
       "      <th>8310</th>\n",
       "      <td>8310</td>\n",
       "      <td>ISIC_8609756</td>\n",
       "    </tr>\n",
       "    <tr>\n",
       "      <th>8311</th>\n",
       "      <td>8311</td>\n",
       "      <td>ISIC_8620064</td>\n",
       "    </tr>\n",
       "    <tr>\n",
       "      <th>8312</th>\n",
       "      <td>8312</td>\n",
       "      <td>ISIC_9212054</td>\n",
       "    </tr>\n",
       "    <tr>\n",
       "      <th>8313</th>\n",
       "      <td>8313</td>\n",
       "      <td>ISIC_9659306</td>\n",
       "    </tr>\n",
       "    <tr>\n",
       "      <th>8314</th>\n",
       "      <td>8314</td>\n",
       "      <td>ISIC_9725585</td>\n",
       "    </tr>\n",
       "  </tbody>\n",
       "</table>\n",
       "<p>8315 rows × 2 columns</p>\n",
       "</div>"
      ],
      "text/plain": [
       "      Unnamed: 0    image_name\n",
       "0              0  ISIC_0452656\n",
       "1              1  ISIC_0507189\n",
       "2              2  ISIC_1144286\n",
       "3              3  ISIC_1199236\n",
       "4              4  ISIC_1303205\n",
       "...          ...           ...\n",
       "8310        8310  ISIC_8609756\n",
       "8311        8311  ISIC_8620064\n",
       "8312        8312  ISIC_9212054\n",
       "8313        8313  ISIC_9659306\n",
       "8314        8314  ISIC_9725585\n",
       "\n",
       "[8315 rows x 2 columns]"
      ]
     },
     "execution_count": 5,
     "metadata": {},
     "output_type": "execute_result"
    }
   ],
   "source": [
    "ImgNmMetaVal"
   ]
  },
  {
   "cell_type": "code",
   "execution_count": 6,
   "metadata": {},
   "outputs": [],
   "source": [
    "ImgNmMetaVal['target'] = 0"
   ]
  },
  {
   "cell_type": "code",
   "execution_count": 7,
   "metadata": {},
   "outputs": [
    {
     "data": {
      "text/html": [
       "<div>\n",
       "<style scoped>\n",
       "    .dataframe tbody tr th:only-of-type {\n",
       "        vertical-align: middle;\n",
       "    }\n",
       "\n",
       "    .dataframe tbody tr th {\n",
       "        vertical-align: top;\n",
       "    }\n",
       "\n",
       "    .dataframe thead th {\n",
       "        text-align: right;\n",
       "    }\n",
       "</style>\n",
       "<table border=\"1\" class=\"dataframe\">\n",
       "  <thead>\n",
       "    <tr style=\"text-align: right;\">\n",
       "      <th></th>\n",
       "      <th>Unnamed: 0</th>\n",
       "      <th>image_name</th>\n",
       "      <th>target</th>\n",
       "    </tr>\n",
       "  </thead>\n",
       "  <tbody>\n",
       "    <tr>\n",
       "      <th>0</th>\n",
       "      <td>0</td>\n",
       "      <td>ISIC_0452656</td>\n",
       "      <td>0</td>\n",
       "    </tr>\n",
       "    <tr>\n",
       "      <th>1</th>\n",
       "      <td>1</td>\n",
       "      <td>ISIC_0507189</td>\n",
       "      <td>0</td>\n",
       "    </tr>\n",
       "    <tr>\n",
       "      <th>2</th>\n",
       "      <td>2</td>\n",
       "      <td>ISIC_1144286</td>\n",
       "      <td>0</td>\n",
       "    </tr>\n",
       "    <tr>\n",
       "      <th>3</th>\n",
       "      <td>3</td>\n",
       "      <td>ISIC_1199236</td>\n",
       "      <td>0</td>\n",
       "    </tr>\n",
       "    <tr>\n",
       "      <th>4</th>\n",
       "      <td>4</td>\n",
       "      <td>ISIC_1303205</td>\n",
       "      <td>0</td>\n",
       "    </tr>\n",
       "    <tr>\n",
       "      <th>...</th>\n",
       "      <td>...</td>\n",
       "      <td>...</td>\n",
       "      <td>...</td>\n",
       "    </tr>\n",
       "    <tr>\n",
       "      <th>8310</th>\n",
       "      <td>8310</td>\n",
       "      <td>ISIC_8609756</td>\n",
       "      <td>0</td>\n",
       "    </tr>\n",
       "    <tr>\n",
       "      <th>8311</th>\n",
       "      <td>8311</td>\n",
       "      <td>ISIC_8620064</td>\n",
       "      <td>0</td>\n",
       "    </tr>\n",
       "    <tr>\n",
       "      <th>8312</th>\n",
       "      <td>8312</td>\n",
       "      <td>ISIC_9212054</td>\n",
       "      <td>0</td>\n",
       "    </tr>\n",
       "    <tr>\n",
       "      <th>8313</th>\n",
       "      <td>8313</td>\n",
       "      <td>ISIC_9659306</td>\n",
       "      <td>0</td>\n",
       "    </tr>\n",
       "    <tr>\n",
       "      <th>8314</th>\n",
       "      <td>8314</td>\n",
       "      <td>ISIC_9725585</td>\n",
       "      <td>0</td>\n",
       "    </tr>\n",
       "  </tbody>\n",
       "</table>\n",
       "<p>8315 rows × 3 columns</p>\n",
       "</div>"
      ],
      "text/plain": [
       "      Unnamed: 0    image_name  target\n",
       "0              0  ISIC_0452656       0\n",
       "1              1  ISIC_0507189       0\n",
       "2              2  ISIC_1144286       0\n",
       "3              3  ISIC_1199236       0\n",
       "4              4  ISIC_1303205       0\n",
       "...          ...           ...     ...\n",
       "8310        8310  ISIC_8609756       0\n",
       "8311        8311  ISIC_8620064       0\n",
       "8312        8312  ISIC_9212054       0\n",
       "8313        8313  ISIC_9659306       0\n",
       "8314        8314  ISIC_9725585       0\n",
       "\n",
       "[8315 rows x 3 columns]"
      ]
     },
     "execution_count": 7,
     "metadata": {},
     "output_type": "execute_result"
    }
   ],
   "source": [
    "ImgNmMetaVal"
   ]
  },
  {
   "cell_type": "code",
   "execution_count": 12,
   "metadata": {},
   "outputs": [],
   "source": [
    "ImgNmMetaVal = ImgNmMetaVal.drop('Unnamed: 0', axis=1)"
   ]
  },
  {
   "cell_type": "code",
   "execution_count": 13,
   "metadata": {},
   "outputs": [],
   "source": [
    "ImgNmMetaVal.to_csv(SIIM_ISIC_Melanoma_Classification + 'sample_sub_metaval.csv', index=False)"
   ]
  },
  {
   "cell_type": "markdown",
   "metadata": {},
   "source": [
    "## 分割したmetavalを元のフォルダに戻す"
   ]
  },
  {
   "cell_type": "code",
   "execution_count": 4,
   "metadata": {},
   "outputs": [],
   "source": [
    "#画像の一部をmetavalフォルダに移動\n",
    "#入力：保存フォルダ名\n",
    "#出力：なし\n",
    "def MvMetaVal2Train(folder_name):\n",
    "    train_dir = SIIM_ISIC_Melanoma_Classification + \"pad_jpg/train/\" + folder_name\n",
    "    meta_dir = SIIM_ISIC_Melanoma_Classification + \"pad_jpg/metaval/\" + folder_name\n",
    "    ImgNmMetaVal = pd.read_csv(SIIM_ISIC_Melanoma_Classification + 'pad_jpg/ImgNmMetaVal.csv')\n",
    "    for nm in ImgNmMetaVal[\"image_name\"]:\n",
    "        shutil.move(meta_dir + '/' + nm + '.jpg', train_dir + '/' + nm + '.jpg')"
   ]
  },
  {
   "cell_type": "code",
   "execution_count": 5,
   "metadata": {},
   "outputs": [],
   "source": [
    "MvMetaVal2Train(\"192_192\")"
   ]
  },
  {
   "cell_type": "code",
   "execution_count": 6,
   "metadata": {},
   "outputs": [],
   "source": [
    "MvMetaVal2Train(\"224_224\")\n",
    "MvMetaVal2Train(\"256_256\")\n",
    "MvMetaVal2Train(\"384_384\")\n",
    "MvMetaVal2Train(\"512_512\")\n",
    "MvMetaVal2Train(\"768_768\")"
   ]
  },
  {
   "cell_type": "markdown",
   "metadata": {},
   "source": [
    "## sample_sub_metaval_stacking.csv"
   ]
  },
  {
   "cell_type": "code",
   "execution_count": 7,
   "metadata": {},
   "outputs": [],
   "source": [
    "ImgNmMetaVal = pd.read_csv(SIIM_ISIC_Melanoma_Classification + 'train.csv')"
   ]
  },
  {
   "cell_type": "code",
   "execution_count": 8,
   "metadata": {},
   "outputs": [
    {
     "data": {
      "text/html": [
       "<div>\n",
       "<style scoped>\n",
       "    .dataframe tbody tr th:only-of-type {\n",
       "        vertical-align: middle;\n",
       "    }\n",
       "\n",
       "    .dataframe tbody tr th {\n",
       "        vertical-align: top;\n",
       "    }\n",
       "\n",
       "    .dataframe thead th {\n",
       "        text-align: right;\n",
       "    }\n",
       "</style>\n",
       "<table border=\"1\" class=\"dataframe\">\n",
       "  <thead>\n",
       "    <tr style=\"text-align: right;\">\n",
       "      <th></th>\n",
       "      <th>image_name</th>\n",
       "      <th>patient_id</th>\n",
       "      <th>sex</th>\n",
       "      <th>age_approx</th>\n",
       "      <th>anatom_site_general_challenge</th>\n",
       "      <th>diagnosis</th>\n",
       "      <th>benign_malignant</th>\n",
       "      <th>target</th>\n",
       "    </tr>\n",
       "  </thead>\n",
       "  <tbody>\n",
       "    <tr>\n",
       "      <th>0</th>\n",
       "      <td>ISIC_2637011</td>\n",
       "      <td>IP_7279968</td>\n",
       "      <td>male</td>\n",
       "      <td>45.0</td>\n",
       "      <td>head/neck</td>\n",
       "      <td>unknown</td>\n",
       "      <td>benign</td>\n",
       "      <td>0</td>\n",
       "    </tr>\n",
       "    <tr>\n",
       "      <th>1</th>\n",
       "      <td>ISIC_0015719</td>\n",
       "      <td>IP_3075186</td>\n",
       "      <td>female</td>\n",
       "      <td>45.0</td>\n",
       "      <td>upper extremity</td>\n",
       "      <td>unknown</td>\n",
       "      <td>benign</td>\n",
       "      <td>0</td>\n",
       "    </tr>\n",
       "    <tr>\n",
       "      <th>2</th>\n",
       "      <td>ISIC_0052212</td>\n",
       "      <td>IP_2842074</td>\n",
       "      <td>female</td>\n",
       "      <td>50.0</td>\n",
       "      <td>lower extremity</td>\n",
       "      <td>nevus</td>\n",
       "      <td>benign</td>\n",
       "      <td>0</td>\n",
       "    </tr>\n",
       "    <tr>\n",
       "      <th>3</th>\n",
       "      <td>ISIC_0068279</td>\n",
       "      <td>IP_6890425</td>\n",
       "      <td>female</td>\n",
       "      <td>45.0</td>\n",
       "      <td>head/neck</td>\n",
       "      <td>unknown</td>\n",
       "      <td>benign</td>\n",
       "      <td>0</td>\n",
       "    </tr>\n",
       "    <tr>\n",
       "      <th>4</th>\n",
       "      <td>ISIC_0074268</td>\n",
       "      <td>IP_8723313</td>\n",
       "      <td>female</td>\n",
       "      <td>55.0</td>\n",
       "      <td>upper extremity</td>\n",
       "      <td>unknown</td>\n",
       "      <td>benign</td>\n",
       "      <td>0</td>\n",
       "    </tr>\n",
       "    <tr>\n",
       "      <th>...</th>\n",
       "      <td>...</td>\n",
       "      <td>...</td>\n",
       "      <td>...</td>\n",
       "      <td>...</td>\n",
       "      <td>...</td>\n",
       "      <td>...</td>\n",
       "      <td>...</td>\n",
       "      <td>...</td>\n",
       "    </tr>\n",
       "    <tr>\n",
       "      <th>33121</th>\n",
       "      <td>ISIC_9999134</td>\n",
       "      <td>IP_6526534</td>\n",
       "      <td>male</td>\n",
       "      <td>50.0</td>\n",
       "      <td>torso</td>\n",
       "      <td>unknown</td>\n",
       "      <td>benign</td>\n",
       "      <td>0</td>\n",
       "    </tr>\n",
       "    <tr>\n",
       "      <th>33122</th>\n",
       "      <td>ISIC_9999320</td>\n",
       "      <td>IP_3650745</td>\n",
       "      <td>male</td>\n",
       "      <td>65.0</td>\n",
       "      <td>torso</td>\n",
       "      <td>unknown</td>\n",
       "      <td>benign</td>\n",
       "      <td>0</td>\n",
       "    </tr>\n",
       "    <tr>\n",
       "      <th>33123</th>\n",
       "      <td>ISIC_9999515</td>\n",
       "      <td>IP_2026598</td>\n",
       "      <td>male</td>\n",
       "      <td>20.0</td>\n",
       "      <td>lower extremity</td>\n",
       "      <td>unknown</td>\n",
       "      <td>benign</td>\n",
       "      <td>0</td>\n",
       "    </tr>\n",
       "    <tr>\n",
       "      <th>33124</th>\n",
       "      <td>ISIC_9999666</td>\n",
       "      <td>IP_7702038</td>\n",
       "      <td>male</td>\n",
       "      <td>50.0</td>\n",
       "      <td>lower extremity</td>\n",
       "      <td>unknown</td>\n",
       "      <td>benign</td>\n",
       "      <td>0</td>\n",
       "    </tr>\n",
       "    <tr>\n",
       "      <th>33125</th>\n",
       "      <td>ISIC_9999806</td>\n",
       "      <td>IP_0046310</td>\n",
       "      <td>male</td>\n",
       "      <td>45.0</td>\n",
       "      <td>torso</td>\n",
       "      <td>nevus</td>\n",
       "      <td>benign</td>\n",
       "      <td>0</td>\n",
       "    </tr>\n",
       "  </tbody>\n",
       "</table>\n",
       "<p>33126 rows × 8 columns</p>\n",
       "</div>"
      ],
      "text/plain": [
       "         image_name  patient_id     sex  age_approx  \\\n",
       "0      ISIC_2637011  IP_7279968    male        45.0   \n",
       "1      ISIC_0015719  IP_3075186  female        45.0   \n",
       "2      ISIC_0052212  IP_2842074  female        50.0   \n",
       "3      ISIC_0068279  IP_6890425  female        45.0   \n",
       "4      ISIC_0074268  IP_8723313  female        55.0   \n",
       "...             ...         ...     ...         ...   \n",
       "33121  ISIC_9999134  IP_6526534    male        50.0   \n",
       "33122  ISIC_9999320  IP_3650745    male        65.0   \n",
       "33123  ISIC_9999515  IP_2026598    male        20.0   \n",
       "33124  ISIC_9999666  IP_7702038    male        50.0   \n",
       "33125  ISIC_9999806  IP_0046310    male        45.0   \n",
       "\n",
       "      anatom_site_general_challenge diagnosis benign_malignant  target  \n",
       "0                         head/neck   unknown           benign       0  \n",
       "1                   upper extremity   unknown           benign       0  \n",
       "2                   lower extremity     nevus           benign       0  \n",
       "3                         head/neck   unknown           benign       0  \n",
       "4                   upper extremity   unknown           benign       0  \n",
       "...                             ...       ...              ...     ...  \n",
       "33121                         torso   unknown           benign       0  \n",
       "33122                         torso   unknown           benign       0  \n",
       "33123               lower extremity   unknown           benign       0  \n",
       "33124               lower extremity   unknown           benign       0  \n",
       "33125                         torso     nevus           benign       0  \n",
       "\n",
       "[33126 rows x 8 columns]"
      ]
     },
     "execution_count": 8,
     "metadata": {},
     "output_type": "execute_result"
    }
   ],
   "source": [
    "ImgNmMetaVal"
   ]
  },
  {
   "cell_type": "code",
   "execution_count": 9,
   "metadata": {},
   "outputs": [
    {
     "data": {
      "text/html": [
       "<div>\n",
       "<style scoped>\n",
       "    .dataframe tbody tr th:only-of-type {\n",
       "        vertical-align: middle;\n",
       "    }\n",
       "\n",
       "    .dataframe tbody tr th {\n",
       "        vertical-align: top;\n",
       "    }\n",
       "\n",
       "    .dataframe thead th {\n",
       "        text-align: right;\n",
       "    }\n",
       "</style>\n",
       "<table border=\"1\" class=\"dataframe\">\n",
       "  <thead>\n",
       "    <tr style=\"text-align: right;\">\n",
       "      <th></th>\n",
       "      <th>image_name</th>\n",
       "      <th>target</th>\n",
       "    </tr>\n",
       "  </thead>\n",
       "  <tbody>\n",
       "    <tr>\n",
       "      <th>0</th>\n",
       "      <td>ISIC_2637011</td>\n",
       "      <td>0</td>\n",
       "    </tr>\n",
       "    <tr>\n",
       "      <th>1</th>\n",
       "      <td>ISIC_0015719</td>\n",
       "      <td>0</td>\n",
       "    </tr>\n",
       "    <tr>\n",
       "      <th>2</th>\n",
       "      <td>ISIC_0052212</td>\n",
       "      <td>0</td>\n",
       "    </tr>\n",
       "    <tr>\n",
       "      <th>3</th>\n",
       "      <td>ISIC_0068279</td>\n",
       "      <td>0</td>\n",
       "    </tr>\n",
       "    <tr>\n",
       "      <th>4</th>\n",
       "      <td>ISIC_0074268</td>\n",
       "      <td>0</td>\n",
       "    </tr>\n",
       "    <tr>\n",
       "      <th>...</th>\n",
       "      <td>...</td>\n",
       "      <td>...</td>\n",
       "    </tr>\n",
       "    <tr>\n",
       "      <th>33121</th>\n",
       "      <td>ISIC_9999134</td>\n",
       "      <td>0</td>\n",
       "    </tr>\n",
       "    <tr>\n",
       "      <th>33122</th>\n",
       "      <td>ISIC_9999320</td>\n",
       "      <td>0</td>\n",
       "    </tr>\n",
       "    <tr>\n",
       "      <th>33123</th>\n",
       "      <td>ISIC_9999515</td>\n",
       "      <td>0</td>\n",
       "    </tr>\n",
       "    <tr>\n",
       "      <th>33124</th>\n",
       "      <td>ISIC_9999666</td>\n",
       "      <td>0</td>\n",
       "    </tr>\n",
       "    <tr>\n",
       "      <th>33125</th>\n",
       "      <td>ISIC_9999806</td>\n",
       "      <td>0</td>\n",
       "    </tr>\n",
       "  </tbody>\n",
       "</table>\n",
       "<p>33126 rows × 2 columns</p>\n",
       "</div>"
      ],
      "text/plain": [
       "         image_name  target\n",
       "0      ISIC_2637011       0\n",
       "1      ISIC_0015719       0\n",
       "2      ISIC_0052212       0\n",
       "3      ISIC_0068279       0\n",
       "4      ISIC_0074268       0\n",
       "...             ...     ...\n",
       "33121  ISIC_9999134       0\n",
       "33122  ISIC_9999320       0\n",
       "33123  ISIC_9999515       0\n",
       "33124  ISIC_9999666       0\n",
       "33125  ISIC_9999806       0\n",
       "\n",
       "[33126 rows x 2 columns]"
      ]
     },
     "execution_count": 9,
     "metadata": {},
     "output_type": "execute_result"
    }
   ],
   "source": [
    "ImgNmMetaVal = ImgNmMetaVal.loc[:, ['image_name', 'target']]\n",
    "ImgNmMetaVal"
   ]
  },
  {
   "cell_type": "code",
   "execution_count": 10,
   "metadata": {},
   "outputs": [
    {
     "data": {
      "text/html": [
       "<div>\n",
       "<style scoped>\n",
       "    .dataframe tbody tr th:only-of-type {\n",
       "        vertical-align: middle;\n",
       "    }\n",
       "\n",
       "    .dataframe tbody tr th {\n",
       "        vertical-align: top;\n",
       "    }\n",
       "\n",
       "    .dataframe thead th {\n",
       "        text-align: right;\n",
       "    }\n",
       "</style>\n",
       "<table border=\"1\" class=\"dataframe\">\n",
       "  <thead>\n",
       "    <tr style=\"text-align: right;\">\n",
       "      <th></th>\n",
       "      <th>image_name</th>\n",
       "      <th>target</th>\n",
       "    </tr>\n",
       "  </thead>\n",
       "  <tbody>\n",
       "    <tr>\n",
       "      <th>91</th>\n",
       "      <td>ISIC_0149568</td>\n",
       "      <td>1</td>\n",
       "    </tr>\n",
       "    <tr>\n",
       "      <th>235</th>\n",
       "      <td>ISIC_0188432</td>\n",
       "      <td>1</td>\n",
       "    </tr>\n",
       "    <tr>\n",
       "      <th>314</th>\n",
       "      <td>ISIC_0207268</td>\n",
       "      <td>1</td>\n",
       "    </tr>\n",
       "    <tr>\n",
       "      <th>399</th>\n",
       "      <td>ISIC_0232101</td>\n",
       "      <td>1</td>\n",
       "    </tr>\n",
       "    <tr>\n",
       "      <th>459</th>\n",
       "      <td>ISIC_0247330</td>\n",
       "      <td>1</td>\n",
       "    </tr>\n",
       "    <tr>\n",
       "      <th>...</th>\n",
       "      <td>...</td>\n",
       "      <td>...</td>\n",
       "    </tr>\n",
       "    <tr>\n",
       "      <th>32969</th>\n",
       "      <td>ISIC_9955163</td>\n",
       "      <td>1</td>\n",
       "    </tr>\n",
       "    <tr>\n",
       "      <th>33000</th>\n",
       "      <td>ISIC_9963177</td>\n",
       "      <td>1</td>\n",
       "    </tr>\n",
       "    <tr>\n",
       "      <th>33014</th>\n",
       "      <td>ISIC_9967383</td>\n",
       "      <td>1</td>\n",
       "    </tr>\n",
       "    <tr>\n",
       "      <th>33050</th>\n",
       "      <td>ISIC_9978107</td>\n",
       "      <td>1</td>\n",
       "    </tr>\n",
       "    <tr>\n",
       "      <th>33117</th>\n",
       "      <td>ISIC_9998682</td>\n",
       "      <td>1</td>\n",
       "    </tr>\n",
       "  </tbody>\n",
       "</table>\n",
       "<p>584 rows × 2 columns</p>\n",
       "</div>"
      ],
      "text/plain": [
       "         image_name  target\n",
       "91     ISIC_0149568       1\n",
       "235    ISIC_0188432       1\n",
       "314    ISIC_0207268       1\n",
       "399    ISIC_0232101       1\n",
       "459    ISIC_0247330       1\n",
       "...             ...     ...\n",
       "32969  ISIC_9955163       1\n",
       "33000  ISIC_9963177       1\n",
       "33014  ISIC_9967383       1\n",
       "33050  ISIC_9978107       1\n",
       "33117  ISIC_9998682       1\n",
       "\n",
       "[584 rows x 2 columns]"
      ]
     },
     "execution_count": 10,
     "metadata": {},
     "output_type": "execute_result"
    }
   ],
   "source": [
    "ImgNmMetaVal[ImgNmMetaVal.target == 1]"
   ]
  },
  {
   "cell_type": "code",
   "execution_count": 11,
   "metadata": {},
   "outputs": [],
   "source": [
    "ImgNmMetaVal.loc[:, 'target'] = 0"
   ]
  },
  {
   "cell_type": "code",
   "execution_count": 12,
   "metadata": {},
   "outputs": [
    {
     "data": {
      "text/html": [
       "<div>\n",
       "<style scoped>\n",
       "    .dataframe tbody tr th:only-of-type {\n",
       "        vertical-align: middle;\n",
       "    }\n",
       "\n",
       "    .dataframe tbody tr th {\n",
       "        vertical-align: top;\n",
       "    }\n",
       "\n",
       "    .dataframe thead th {\n",
       "        text-align: right;\n",
       "    }\n",
       "</style>\n",
       "<table border=\"1\" class=\"dataframe\">\n",
       "  <thead>\n",
       "    <tr style=\"text-align: right;\">\n",
       "      <th></th>\n",
       "      <th>image_name</th>\n",
       "      <th>target</th>\n",
       "    </tr>\n",
       "  </thead>\n",
       "  <tbody>\n",
       "  </tbody>\n",
       "</table>\n",
       "</div>"
      ],
      "text/plain": [
       "Empty DataFrame\n",
       "Columns: [image_name, target]\n",
       "Index: []"
      ]
     },
     "execution_count": 12,
     "metadata": {},
     "output_type": "execute_result"
    }
   ],
   "source": [
    "ImgNmMetaVal[ImgNmMetaVal.target == 1]"
   ]
  },
  {
   "cell_type": "code",
   "execution_count": 13,
   "metadata": {},
   "outputs": [
    {
     "data": {
      "text/html": [
       "<div>\n",
       "<style scoped>\n",
       "    .dataframe tbody tr th:only-of-type {\n",
       "        vertical-align: middle;\n",
       "    }\n",
       "\n",
       "    .dataframe tbody tr th {\n",
       "        vertical-align: top;\n",
       "    }\n",
       "\n",
       "    .dataframe thead th {\n",
       "        text-align: right;\n",
       "    }\n",
       "</style>\n",
       "<table border=\"1\" class=\"dataframe\">\n",
       "  <thead>\n",
       "    <tr style=\"text-align: right;\">\n",
       "      <th></th>\n",
       "      <th>image_name</th>\n",
       "      <th>target</th>\n",
       "    </tr>\n",
       "  </thead>\n",
       "  <tbody>\n",
       "    <tr>\n",
       "      <th>0</th>\n",
       "      <td>ISIC_2637011</td>\n",
       "      <td>0</td>\n",
       "    </tr>\n",
       "    <tr>\n",
       "      <th>1</th>\n",
       "      <td>ISIC_0015719</td>\n",
       "      <td>0</td>\n",
       "    </tr>\n",
       "    <tr>\n",
       "      <th>2</th>\n",
       "      <td>ISIC_0052212</td>\n",
       "      <td>0</td>\n",
       "    </tr>\n",
       "    <tr>\n",
       "      <th>3</th>\n",
       "      <td>ISIC_0068279</td>\n",
       "      <td>0</td>\n",
       "    </tr>\n",
       "    <tr>\n",
       "      <th>4</th>\n",
       "      <td>ISIC_0074268</td>\n",
       "      <td>0</td>\n",
       "    </tr>\n",
       "    <tr>\n",
       "      <th>...</th>\n",
       "      <td>...</td>\n",
       "      <td>...</td>\n",
       "    </tr>\n",
       "    <tr>\n",
       "      <th>33121</th>\n",
       "      <td>ISIC_9999134</td>\n",
       "      <td>0</td>\n",
       "    </tr>\n",
       "    <tr>\n",
       "      <th>33122</th>\n",
       "      <td>ISIC_9999320</td>\n",
       "      <td>0</td>\n",
       "    </tr>\n",
       "    <tr>\n",
       "      <th>33123</th>\n",
       "      <td>ISIC_9999515</td>\n",
       "      <td>0</td>\n",
       "    </tr>\n",
       "    <tr>\n",
       "      <th>33124</th>\n",
       "      <td>ISIC_9999666</td>\n",
       "      <td>0</td>\n",
       "    </tr>\n",
       "    <tr>\n",
       "      <th>33125</th>\n",
       "      <td>ISIC_9999806</td>\n",
       "      <td>0</td>\n",
       "    </tr>\n",
       "  </tbody>\n",
       "</table>\n",
       "<p>33126 rows × 2 columns</p>\n",
       "</div>"
      ],
      "text/plain": [
       "         image_name  target\n",
       "0      ISIC_2637011       0\n",
       "1      ISIC_0015719       0\n",
       "2      ISIC_0052212       0\n",
       "3      ISIC_0068279       0\n",
       "4      ISIC_0074268       0\n",
       "...             ...     ...\n",
       "33121  ISIC_9999134       0\n",
       "33122  ISIC_9999320       0\n",
       "33123  ISIC_9999515       0\n",
       "33124  ISIC_9999666       0\n",
       "33125  ISIC_9999806       0\n",
       "\n",
       "[33126 rows x 2 columns]"
      ]
     },
     "execution_count": 13,
     "metadata": {},
     "output_type": "execute_result"
    }
   ],
   "source": [
    "ImgNmMetaVal[ImgNmMetaVal.target == 0]"
   ]
  },
  {
   "cell_type": "code",
   "execution_count": 14,
   "metadata": {},
   "outputs": [],
   "source": [
    "ImgNmMetaVal.to_csv(SIIM_ISIC_Melanoma_Classification + 'sample_sub_metaval_stacking.csv')"
   ]
  },
  {
   "cell_type": "code",
   "execution_count": null,
   "metadata": {},
   "outputs": [],
   "source": []
  }
 ],
 "metadata": {
  "kernelspec": {
   "display_name": "Python 3",
   "language": "python",
   "name": "python3"
  },
  "language_info": {
   "codemirror_mode": {
    "name": "ipython",
    "version": 3
   },
   "file_extension": ".py",
   "mimetype": "text/x-python",
   "name": "python",
   "nbconvert_exporter": "python",
   "pygments_lexer": "ipython3",
   "version": "3.6.10"
  }
 },
 "nbformat": 4,
 "nbformat_minor": 4
}
