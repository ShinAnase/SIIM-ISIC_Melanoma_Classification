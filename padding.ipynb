{
 "cells": [
  {
   "cell_type": "code",
   "execution_count": 1,
   "metadata": {},
   "outputs": [],
   "source": [
    "from tqdm import tqdm\n",
    "import cv2\n",
    "from scipy import ndimage\n",
    "import matplotlib.pyplot as plt\n",
    "from PIL import Image\n",
    "import os\n",
    "from random import shuffle\n",
    "import numpy as np\n",
    "import pandas as pd\n",
    "import matplotlib.pyplot as plt\n",
    "%matplotlib inline"
   ]
  },
  {
   "cell_type": "markdown",
   "metadata": {},
   "source": [
    "## (kernel使うときに変更すべき変数)"
   ]
  },
  {
   "cell_type": "code",
   "execution_count": 2,
   "metadata": {},
   "outputs": [],
   "source": [
    "padding_data_path = \"/home/tidal/ML_Data/SIIM-ISIC_Melanoma_Classification/SIIM-ISIC-Melanoma-Classification/pad_jpg\"\n",
    "melanoma_external_malignant_256 = \"/home/tidal/ML_Data/SIIM-ISIC_Melanoma_Classification/melanoma_external_malignant_256/\"\n",
    "SIIM_ISIC_Melanoma_Classification = \"/home/tidal/ML_Data/SIIM-ISIC_Melanoma_Classification/SIIM-ISIC-Melanoma-Classification/\""
   ]
  },
  {
   "cell_type": "markdown",
   "metadata": {},
   "source": [
    "## config"
   ]
  },
  {
   "cell_type": "code",
   "execution_count": 3,
   "metadata": {},
   "outputs": [],
   "source": [
    "PADDINGSIZE_X = 256\n",
    "PADDINGSIZE_Y = 256"
   ]
  },
  {
   "cell_type": "markdown",
   "metadata": {},
   "source": [
    "## resize & write"
   ]
  },
  {
   "cell_type": "code",
   "execution_count": 4,
   "metadata": {},
   "outputs": [],
   "source": [
    "#画像のリサイズ\n",
    "#入力：加工元のパス、サイズ(縦)、サイズ(横)\n",
    "#出力：加工後の画像(mtx)、ImageName(mtx)\n",
    "def resize_image(chdir, size_X, size_Y):\n",
    "    #change directry\n",
    "    os.chdir(chdir)\n",
    "    rsz_file = os.listdir()\n",
    "    X_data = []\n",
    "    img_name = []\n",
    "    for file in rsz_file:\n",
    "        rsz_img = cv2.imread(file)\n",
    "        rsz_img = cv2.resize(rsz_img, (size_X, size_Y) ) \n",
    "        X_data.append(rsz_img)\n",
    "        img_name.append(file)\n",
    "    print(\"end:resize_image\")\n",
    "    return X_data, img_name\n",
    "\n",
    "#画像の書き込み\n",
    "#入力：加工後の画像(mtx)、ImageName(mtx), テスト用/学習用(test/train)、保存フォルダ名\n",
    "#出力：成功有無\n",
    "def write_to_localfolder(img_mtx, img_name, test_or_train, folder_name):\n",
    "    if test_or_train == \"test\":\n",
    "        img_dir = SIIM_ISIC_Melanoma_Classification + \"pad_jpg/test/\" + folder_name\n",
    "    elif test_or_train == \"train\":\n",
    "        img_dir = SIIM_ISIC_Melanoma_Classification + \"pad_jpg/train/\" + folder_name\n",
    "    else:\n",
    "        print(\"3rd argument is (test/train).\")\n",
    "        print(\"end:write_to_localfolder\")\n",
    "        return False\n",
    "    \n",
    "    os.mkdir(img_dir)\n",
    "    for ix in range(len(img_mtx)):\n",
    "        cv2.imwrite(img_dir + '/{0}'.format(img_name[ix]), img_mtx[ix])\n",
    "    \n",
    "    print(\"end:write_to_localfolder\")\n",
    "    return True\n"
   ]
  },
  {
   "cell_type": "markdown",
   "metadata": {},
   "source": [
    "## augment"
   ]
  },
  {
   "cell_type": "code",
   "execution_count": null,
   "metadata": {},
   "outputs": [],
   "source": []
  },
  {
   "cell_type": "markdown",
   "metadata": {},
   "source": [
    "## excute"
   ]
  },
  {
   "cell_type": "code",
   "execution_count": 5,
   "metadata": {},
   "outputs": [
    {
     "name": "stdout",
     "output_type": "stream",
     "text": [
      "end:resize_image\n",
      "CPU times: user 12min 29s, sys: 1min 15s, total: 13min 45s\n",
      "Wall time: 13min 46s\n"
     ]
    }
   ],
   "source": [
    "%%time\n",
    "img_mtx, img_name = resize_image(SIIM_ISIC_Melanoma_Classification + \"jpeg/test/\", PADDINGSIZE_X, PADDINGSIZE_Y)"
   ]
  },
  {
   "cell_type": "code",
   "execution_count": 6,
   "metadata": {},
   "outputs": [
    {
     "name": "stdout",
     "output_type": "stream",
     "text": [
      "end:write_to_localfolder\n",
      "CPU times: user 8.39 s, sys: 156 ms, total: 8.54 s\n",
      "Wall time: 8.54 s\n"
     ]
    },
    {
     "data": {
      "text/plain": [
       "True"
      ]
     },
     "execution_count": 6,
     "metadata": {},
     "output_type": "execute_result"
    }
   ],
   "source": [
    "%%time\n",
    "folder_name = str(PADDINGSIZE_Y) + '_' + str(PADDINGSIZE_Y)\n",
    "write_to_localfolder(img_mtx, img_name, \"test\", folder_name)"
   ]
  },
  {
   "cell_type": "code",
   "execution_count": null,
   "metadata": {},
   "outputs": [
    {
     "name": "stdout",
     "output_type": "stream",
     "text": [
      "end:resize_image\n",
      "end:write_to_localfolder\n",
      "end:resize_image\n",
      "end:write_to_localfolder\n"
     ]
    }
   ],
   "source": [
    "%%time\n",
    "SizeMtx = [512,768]\n",
    "for size in SizeMtx:\n",
    "    img_mtx, img_name = resize_image(SIIM_ISIC_Melanoma_Classification + \"jpeg/train/\", size, size)\n",
    "    folder_name = str(size) + '_' + str(size)\n",
    "    write_to_localfolder(img_mtx, img_name, \"train\", folder_name)"
   ]
  },
  {
   "cell_type": "code",
   "execution_count": null,
   "metadata": {},
   "outputs": [],
   "source": []
  }
 ],
 "metadata": {
  "kernelspec": {
   "display_name": "Python 3",
   "language": "python",
   "name": "python3"
  },
  "language_info": {
   "codemirror_mode": {
    "name": "ipython",
    "version": 3
   },
   "file_extension": ".py",
   "mimetype": "text/x-python",
   "name": "python",
   "nbconvert_exporter": "python",
   "pygments_lexer": "ipython3",
   "version": "3.6.10"
  }
 },
 "nbformat": 4,
 "nbformat_minor": 4
}
